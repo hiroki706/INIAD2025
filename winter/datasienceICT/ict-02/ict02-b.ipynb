{
 "cells": [
  {
   "cell_type": "code",
   "execution_count": null,
   "metadata": {},
   "outputs": [],
   "source": [
    "#Cell_1.\n",
    "# %matplotlib notebook\n",
    "# グラフをインラインで表示\n",
    "%matplotlib inline\n",
    "\n",
    "import warnings\n",
    "warnings.simplefilter('ignore')\n",
    "\n",
    "import gc\n",
    "import math\n",
    "import pickle\n",
    "\n",
    "import mylibs.mylib1 as mylib1\n",
    "import mylibs.mylib2 as mylib2\n",
    "import mylibs.mylib3 as mylib3\n",
    "\n",
    "import matplotlib.pyplot as plt\n",
    "import numpy as np\n",
    "import pandas as pd\n",
    "from scipy.stats import norm\n",
    "\n",
    "# 表示する行・列の数を設定\n",
    "pd.options.display.max_rows = 8\n",
    "pd.options.display.max_columns = 12\n",
    "\n",
    "# matplotlib のフォントを設定\n",
    "# plt.rcParams['font.family'] = 'Times New Roman'\n",
    "# plt.rcParams['mathtext.fontset'] = 'stix'\n",
    "\n",
    "# pd.DataFrame の表示行数・列数を指定\n",
    "pd.options.display.max_rows = 8\n",
    "pd.options.display.max_columns = 12"
   ]
  },
  {
   "cell_type": "markdown",
   "metadata": {},
   "source": [
    "### 血圧分類属性付き加入者情報データ"
   ]
  },
  {
   "cell_type": "code",
   "execution_count": null,
   "metadata": {},
   "outputs": [],
   "source": [
    "#Cell_2.\n",
    "df_info = pd.read_csv('./pseudo_medical/records/incl_bp/info.csv')\n",
    "\n",
    "print(df_info.shape)\n",
    "df_info.head()"
   ]
  },
  {
   "cell_type": "markdown",
   "metadata": {},
   "source": [
    "### 月次入院発生率"
   ]
  },
  {
   "cell_type": "code",
   "execution_count": null,
   "metadata": {},
   "outputs": [],
   "source": [
    "#Cell_3.\n",
    "df_admission = pd.read_csv('./public_stats/processed/ps_admission.csv')\n",
    "display(df_admission)"
   ]
  },
  {
   "cell_type": "code",
   "execution_count": null,
   "metadata": {},
   "outputs": [],
   "source": [
    "#Cell_4.\n",
    "df_admission = pd.read_csv('./public_stats/processed/ps_admission.csv')\n",
    "df_admission_cumrate = mylib2.make_admission_cumrate(df_admission)\n",
    "\n",
    "print(df_admission_cumrate.shape)\n",
    "df_admission_cumrate.head()"
   ]
  },
  {
   "cell_type": "markdown",
   "metadata": {},
   "source": [
    "### 月次外来発生率"
   ]
  },
  {
   "cell_type": "code",
   "execution_count": null,
   "metadata": {},
   "outputs": [],
   "source": [
    "#Cell_5.\n",
    "df_outpatient = pd.read_csv('./public_stats/processed/ps_outpatient.csv')\n",
    "\n",
    "print(df_outpatient.shape)\n",
    "df_outpatient.head()"
   ]
  },
  {
   "cell_type": "markdown",
   "metadata": {},
   "source": [
    "### 平均在院日数"
   ]
  },
  {
   "cell_type": "code",
   "execution_count": null,
   "metadata": {},
   "outputs": [],
   "source": [
    "#Cell_6.\n",
    "df_days = pd.read_csv('./public_stats/processed/ps_days.csv')\n",
    "less_age_75 = (df_days.alb_max < 75)\n",
    "df_days = df_days.loc[less_age_75]\n",
    "\n",
    "print(df_days.shape)\n",
    "df_days.head()"
   ]
  },
  {
   "cell_type": "code",
   "execution_count": null,
   "metadata": {},
   "outputs": [],
   "source": [
    "%matplotlib inline\n",
    "#Cell_7.\n",
    "import seaborn as sns\n",
    "sns.set()\n",
    "\n",
    "fig = plt.figure()\n",
    "ax = fig.add_subplot(111)\n",
    "\n",
    "bp_class = np.arange(6)\n",
    "grads = [0, 0.25, 0.5, 0.75, 1]\n",
    "colors = ['red', 'orange', 'yellow', 'green', 'blue']\n",
    "for (dose_response, c) in zip(grads, colors):\n",
    "    dose_response_ratio = (bp_class - 1) * dose_response + 1\n",
    "    ax.plot(bp_class, dose_response_ratio, c=c, marker='o',\n",
    "            label='dose_response ='+str(dose_response))\n",
    "\n",
    "ax.legend(loc='best')\n",
    "ax.set_xlabel('BP class')\n",
    "ax.set_ylabel('Dose-Response Ratio')\n",
    "ax.set_title('Assumption of Dose-Response Ratio')"
   ]
  },
  {
   "cell_type": "markdown",
   "metadata": {},
   "source": [
    "## 関数の定義"
   ]
  },
  {
   "cell_type": "code",
   "execution_count": null,
   "metadata": {},
   "outputs": [],
   "source": [
    "#Cell_8.\n",
    "def get_info_for_i(df_info, i):\n",
    "    cols = ['iid', 'sex', 'birth_ym', 'start_obs_ym', 'end_obs_ym', 'bp_class']\n",
    "    (iid, sex, birth_ym, start_obs_ym,\n",
    "     end_obs_ym, bp_class) = df_info.iloc[i][cols]\n",
    "    birth_t = mylib1.ym_to_t(birth_ym)\n",
    "    start_obs_t = mylib1.ym_to_t(start_obs_ym)\n",
    "    end_obs_t = mylib1.ym_to_t(end_obs_ym)\n",
    "    return (iid, sex, birth_t, start_obs_t, end_obs_t, bp_class)\n",
    "\n",
    "\n",
    "i = 0\n",
    "(iid, sex, birth_t, start_obs_t, end_obs_t, bp_class) = get_info_for_i(df_info, i)"
   ]
  },
  {
   "cell_type": "markdown",
   "metadata": {},
   "source": [
    "### 関数を組み合わせてコードを組む"
   ]
  },
  {
   "cell_type": "code",
   "execution_count": null,
   "metadata": {},
   "outputs": [],
   "source": [
    "#Cell_9.\n",
    "import csv\n",
    "\n",
    "\n",
    "dict_csv_paths = {'common': './pseudo_medical/records/incl_bp/commons.csv',\n",
    "                  'disease': './pseudo_medical/records/incl_bp/diseases.csv',\n",
    "                  'treatment': './pseudo_medical/records/incl_bp/treatments.csv'}\n",
    "\n",
    "commons_csv = open(dict_csv_paths['common'], 'w')\n",
    "open_common_object = csv.writer(commons_csv)\n",
    "cols = ['iid', 'rid', 'ym', 'receipt_type', 'admission_ym', 'days']\n",
    "open_common_object.writerow(cols)\n",
    "\n",
    "diseases_csv = open(dict_csv_paths['disease'], 'w')\n",
    "open_disease_object = csv.writer(diseases_csv)\n",
    "cols = ['iid', 'rid', 'first_ym', 'icd10_code']\n",
    "open_disease_object.writerow(cols)\n",
    "\n",
    "treatments_csv = open(dict_csv_paths['treatment'], 'w')\n",
    "open_treatment_object = csv.writer(treatments_csv)\n",
    "cols = ['iid', 'rid', 'treatment_code']\n",
    "open_treatment_object.writerow(cols)\n",
    "\n",
    "dose_response = 0.75  # <-- 追加\n",
    "rid = 'r00000000'\n",
    "rs = 0\n",
    "\n",
    "\n",
    "for i in np.arange(len(df_info)):  # df_info を上から順に参照\n",
    "    print(\"\\r{:.5f}% prosess...\".format((i/len(df_info))*100), end=\"\")\n",
    "    gc.collect()\n",
    "    # df_info の i 番目の (iid, sex, birth_t, start_obs_t, end_obs_t) を取得\n",
    "    (iid, sex, birth_t, start_obs_t, end_obs_t, bp_class) = get_info_for_i(df_info, i)\n",
    "    t = start_obs_t\n",
    "    while start_obs_t <= t <= end_obs_t:\n",
    "        alb = int(t - birth_t)\n",
    "        # 入院累積発生率の pd.Series を取得\n",
    "        ss_adm_cumrate = mylib2.get_ss_admission_cumrate(\n",
    "            df_admission_cumrate, sex, alb)\n",
    "        # 入院用に一様乱数 u(rs) (0 <= r <= 1)を生成 & ランダムシード更新\n",
    "        (u, rs) = mylib2.get_random_num_for_adm(rs)\n",
    "        # (入院発生？, 入院原因傷病 dis) = 入院乱数シミュレーション(u)\n",
    "        dose_response_ratio = (bp_class - 1) * dose_response + 1  # <-- 追加\n",
    "        # print(dose_response_ratio) if bp_class == 4 else None\n",
    "        (does_adm_occur, dis) = mylib2.get_admission_disease(\n",
    "                                ss_adm_cumrate, u / dose_response_ratio)\n",
    "        #                                         ---------------------\n",
    "        #                                                  変更\n",
    "        if does_adm_occur:\n",
    "            mu = mylib2.get_avg_hospdays(df_days, sex, alb, dis)\n",
    "            # 在院日数 days を指数分布(mu) で決定\n",
    "            (days, rs) = mylib2.get_random_days(mu, rs)\n",
    "            # 入院発生年月、入院は全て月央に発生すると仮定\n",
    "            admission_ym = mylib1.t_to_ym(t)\n",
    "            # 月をまたぐ継続入院でなくても次のコードブロックを実行\n",
    "            does_hosp_continue = True\n",
    "            m = 0  # 初月入院を 0、次月から月をまたぐごとに +1\n",
    "            while does_hosp_continue:\n",
    "                ym = mylib1.t_to_ym(t)\n",
    "                rid = mylib2.make_new_rid(rid)\n",
    "                # 共通レコード(入院)の発行\n",
    "                # 共通レコード(入院)の作成\n",
    "                df_common = mylib2.create_df_common_inpatient_after_m_months(\n",
    "                            iid, rid, ym, admission_ym, days, m)\n",
    "                mylib2.add_df_xxx_on_csv(open_common_object, df_common)\n",
    "                # 傷病レコードの発行\n",
    "                df_disease = mylib2.create_df_disease(iid, rid, admission_ym, dis)\n",
    "                mylib2.add_df_xxx_on_csv(open_disease_object, df_disease)\n",
    "                # 診療行為レコード(入院)の発行\n",
    "                df_treatment = mylib2.create_df_treatment(iid, rid, 'A100')\n",
    "                mylib2.add_df_xxx_on_csv(open_treatment_object, df_treatment)\n",
    "                # 診療行為レコード(手術)を入院の 10% に発行\n",
    "                (u, rs) = mylib2.get_random_num_for_adm(rs)\n",
    "                if u <= 0.1:\n",
    "                    df_treatment = mylib2.create_df_treatment(iid, rid, 'K000')\n",
    "                    mylib2.add_df_xxx_on_csv(open_treatment_object, df_treatment)\n",
    "\n",
    "                t = t + 1 / 12  # t を１ヶ月ずらす\n",
    "                does_hosp_continue = (days - 15 - 30 * m > 0)\n",
    "                m = m + 1\n",
    "\n",
    "        else:  # 入院発生なし\n",
    "            # 外来発生率 out(sex, alb) を取得\n",
    "            ss_out_rate = mylib2.get_outpatient_rate(df_outpatient, sex, alb)\n",
    "            # 外来用に一様乱数 u(rs) (0 <= r <= 1)を生成 & ランダムシード更新\n",
    "            (us, rs) = mylib2.get_random_num_for_out(rs)\n",
    "            us = us / dose_response_ratio  # <-- 追加\n",
    "            # (外来発生？, 複数外来原因傷病 diss) = 外来乱数シミュレーション(u)\n",
    "            (does_occur_outpatient, diss) \\\n",
    "                = mylib2.get_outpatient_diseases(ss_out_rate, us)\n",
    "            if does_occur_outpatient:\n",
    "                # 外来発生年月、外来は全て月央に発生すると仮定\n",
    "                ym = mylib1.t_to_ym(t)\n",
    "                for dis in diss:\n",
    "                    rid = mylib2.make_new_rid(rid)\n",
    "                    # 共通レコード(外来)の発行\n",
    "                    # 共通レコード(外来) df_common(iid, rid, ym) の作成\n",
    "                    df_common = mylib2.create_df_common(iid, rid, ym,\n",
    "                                                      'outpatient', '-', 1)\n",
    "                    mylib2.add_df_xxx_on_csv(open_common_object, df_common)\n",
    "                    # 傷病レコードの発行\n",
    "                    df_disease = mylib2.create_df_disease(iid, rid, ym, dis)\n",
    "                    mylib2.add_df_xxx_on_csv(open_disease_object, df_disease)\n",
    "                    # 診療行為レコード(外来)の発行\n",
    "                    df_treatment = mylib2.create_df_treatment(iid, rid, 'A000')\n",
    "                    mylib2.add_df_xxx_on_csv(open_treatment_object, df_treatment)\n",
    "                    df_treatment = mylib2.create_df_treatment(iid, rid, 'F000')\n",
    "                    mylib2.add_df_xxx_on_csv(open_treatment_object, df_treatment)\n",
    "                    # 診療行為レコード(手術)を外来の 1% に発行\n",
    "                    (u, rs) = mylib2.get_random_num_for_adm(rs)\n",
    "                    if u <= 0.01:\n",
    "                        df_treatment = mylib2.create_df_treatment(iid, rid, 'K000')\n",
    "                        mylib2.add_df_xxx_on_csv(open_treatment_object, df_treatment)\n",
    "\n",
    "            t = t + 1 / 12  # t を１ヶ月ずらす\n",
    "\n",
    "commons_csv.close()\n",
    "diseases_csv.close()\n",
    "treatments_csv.close()"
   ]
  },
  {
   "cell_type": "code",
   "execution_count": null,
   "metadata": {},
   "outputs": [],
   "source": [
    "df_common = pd.read_csv('./pseudo_medical/records/incl_bp/commons.csv')\n",
    "\n",
    "print(df_common.shape)\n",
    "df_common.head()"
   ]
  },
  {
   "cell_type": "code",
   "execution_count": null,
   "metadata": {},
   "outputs": [],
   "source": [
    "df_diseases = pd.read_csv('./pseudo_medical/records/incl_bp/diseases.csv')\n",
    "\n",
    "print(df_diseases.shape)\n",
    "df_diseases.head()"
   ]
  },
  {
   "cell_type": "code",
   "execution_count": null,
   "metadata": {},
   "outputs": [],
   "source": [
    "df_treatments = pd.read_csv('./pseudo_medical/records/incl_bp/treatments.csv')\n",
    "\n",
    "print(df_treatments.shape)\n",
    "df_treatments.head()"
   ]
  },
  {
   "cell_type": "code",
   "execution_count": null,
   "metadata": {},
   "outputs": [],
   "source": [
    "df_info.groupby(['bp_class'])['iid'].count() / len(df_info)"
   ]
  },
  {
   "cell_type": "code",
   "execution_count": null,
   "metadata": {},
   "outputs": [],
   "source": []
  }
 ],
 "metadata": {
  "kernelspec": {
   "display_name": "datasienceict",
   "language": "python",
   "name": "python3"
  },
  "language_info": {
   "codemirror_mode": {
    "name": "ipython",
    "version": 3
   },
   "file_extension": ".py",
   "mimetype": "text/x-python",
   "name": "python",
   "nbconvert_exporter": "python",
   "pygments_lexer": "ipython3",
   "version": "3.8.20"
  }
 },
 "nbformat": 4,
 "nbformat_minor": 4
}
