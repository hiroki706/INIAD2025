{
 "cells": [
  {
   "cell_type": "markdown",
   "id": "b954f190",
   "metadata": {},
   "source": [
    "# 問題\n",
    ">角度$30°$の斜面の下から水平となす角$60°$初速度$14[m/s]$で質量$180[g]$の球を投げた。重力加速度を$g=9.8[m/s2]$として球が水平方向の飛距離$xr[m]$を求めよ。"
   ]
  },
  {
   "cell_type": "code",
   "execution_count": null,
   "id": "b445d316",
   "metadata": {},
   "outputs": [],
   "source": []
  }
 ],
 "metadata": {
  "language_info": {
   "name": "python"
  }
 },
 "nbformat": 4,
 "nbformat_minor": 5
}
