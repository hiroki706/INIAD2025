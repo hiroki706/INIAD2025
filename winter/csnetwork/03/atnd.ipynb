{
 "cells": [
  {
   "cell_type": "markdown",
   "id": "f60f94f1",
   "metadata": {},
   "source": []
  },
  {
   "cell_type": "code",
   "execution_count": null,
   "id": "6ad3af29",
   "metadata": {},
   "outputs": [
    {
     "ename": "NameError",
     "evalue": "name 'mylib' is not defined",
     "output_type": "error",
     "traceback": [
      "\u001b[0;31m---------------------------------------------------------------------------\u001b[0m",
      "\u001b[0;31mNameError\u001b[0m                                 Traceback (most recent call last)",
      "Cell \u001b[0;32mIn[5], line 1\u001b[0m\n\u001b[0;32m----> 1\u001b[0m \u001b[43mmylib\u001b[49m\u001b[38;5;241m.\u001b[39mcalc_hop_delay(\n\u001b[1;32m      2\u001b[0m     \u001b[38;5;241m2\u001b[39m\u001b[38;5;241m/\u001b[39m\u001b[38;5;241m1000\u001b[39m,\n\u001b[1;32m      3\u001b[0m     \u001b[38;5;241m10\u001b[39m\u001b[38;5;241m/\u001b[39m\u001b[38;5;241m1000\u001b[39m,\n\u001b[1;32m      4\u001b[0m     \u001b[38;5;241m100\u001b[39m\u001b[38;5;241m*\u001b[39m\u001b[38;5;241m1000\u001b[39m,\n\u001b[1;32m      5\u001b[0m     \u001b[38;5;241m2\u001b[39m\u001b[38;5;241m*\u001b[39m\u001b[38;5;241m10\u001b[39m\u001b[38;5;241m*\u001b[39m\u001b[38;5;241m*\u001b[39m\u001b[38;5;241m8\u001b[39m,\n\u001b[1;32m      6\u001b[0m     \u001b[38;5;241m1500\u001b[39m,\n\u001b[1;32m      7\u001b[0m     \u001b[38;5;241m100\u001b[39m\u001b[38;5;241m*\u001b[39m\u001b[38;5;241m10\u001b[39m\u001b[38;5;241m*\u001b[39m\u001b[38;5;241m*\u001b[39m\u001b[38;5;241m6\u001b[39m\n\u001b[1;32m      8\u001b[0m ) \u001b[38;5;241m*\u001b[39m \u001b[38;5;241m1000\u001b[39m\n",
      "\u001b[0;31mNameError\u001b[0m: name 'mylib' is not defined"
     ]
    }
   ],
   "source": [
    "calc_hop_delay(\n",
    "    2/1000,\n",
    "    10/1000,\n",
    "    100*1000,\n",
    "    2*10**8,\n",
    "    1500,\n",
    "    100*10**6\n",
    ") * 1000"
   ]
  },
  {
   "cell_type": "code",
   "execution_count": null,
   "id": "eed3869f",
   "metadata": {},
   "outputs": [
    {
     "data": {
      "text/plain": [
       "128"
      ]
     },
     "execution_count": 4,
     "metadata": {},
     "output_type": "execute_result"
    }
   ],
   "source": [
    "2**7"
   ]
  },
  {
   "cell_type": "markdown",
   "id": "58402902",
   "metadata": {},
   "source": [
    "ネットワークパフォーマンス(遅延)の問題:\n",
    "以下の条件のとき，ホップごとの遅延[ms]はいくつか?\n",
    "- 処理遅延 (Processing delay) = 2 [ms]\n",
    "- キューイング遅延 (Queueing delay) = 10 [ms]\n",
    "- リンクの距離 (Link distance) = 100 [km]\n",
    "- リンクの伝搬スピード (Link propagation speed) = 2×108 [m/s]\n",
    "- パケットサイズ (Packet size) = 1500 [bytes]\n",
    "- リンク伝送速度 (Link transmission rate) = 100 [Mbps]\n",
    "12.62ms"
   ]
  },
  {
   "cell_type": "markdown",
   "id": "cf985e26",
   "metadata": {},
   "source": [
    "ネットワークパフォーマンス(スループット)の問題:\n",
    "100MB(メガバイト)のファイルを転送するのに10秒かかったとすると，このときの平均スループット[Mbps]はいくつか?\n",
    "80Mbps"
   ]
  },
  {
   "cell_type": "markdown",
   "id": "66da97f4",
   "metadata": {},
   "source": [
    "TCPスロースタートの問題: スロースタートモードを開始したとします．スロースタートモード開始後の最初のセグメントをSegment 1，i番目のセグメントをSegment iとし(各セグメントのデータサイズはMSS)，輻輳ウィンドウサイズCWNDを最初CWND=1MSSにセットする．送信側ホストがSegment 1からSegment 7までをCWNDに従って順に(Segment 1, 2, …, 7の順に)送信し，各セグメントがこの順に受信側ホストに届き，各セグメントの受信に対するACKが送信側ホストにすぐに送られ，各ACKが全て順に送信側ホストに届いたとする．このとき，CWNDは最終的にいくつになるか(MSS何個分か)？\n",
    "なお，ssthreshは非常に大きい(つまり，途中で輻輳回避モードに移行しない)とし，また，受信側ホストからのWindow Sizeも十分大きく送信側ホストはCWNDで許可された分だけセグメントをすぐに送信するとします．\n",
    "- 補足: セグメントもACKも順番通りに送受信されるとします．つまり，例えば，Segment 3がSegment 2より先に受信側ホストに届くことはありませんし，ACK 5 (Segment 5に対してのACK)がACK 4 (Segment 4に対してのACK)より先に送信側ホストに届くことはありません．\n",
    "8MSS"
   ]
  }
 ],
 "metadata": {
  "kernelspec": {
   "display_name": "datasienceict",
   "language": "python",
   "name": "python3"
  },
  "language_info": {
   "codemirror_mode": {
    "name": "ipython",
    "version": 3
   },
   "file_extension": ".py",
   "mimetype": "text/x-python",
   "name": "python",
   "nbconvert_exporter": "python",
   "pygments_lexer": "ipython3",
   "version": "3.8.20"
  }
 },
 "nbformat": 4,
 "nbformat_minor": 5
}
