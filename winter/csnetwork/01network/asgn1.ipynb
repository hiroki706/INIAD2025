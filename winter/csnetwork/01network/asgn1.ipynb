{
 "cells": [
  {
   "cell_type": "markdown",
   "id": "296fd217",
   "metadata": {},
   "source": [
    "![](image1.png)\n",
    "---\n",
    "## 問題文と考え\n",
    "### 問題文（要約）\n",
    "* 192.168.1.0/24 のネットワークがある。\n",
    "* デフォルトゲートウェイ（ルータ）のIPは 192.168.1.1。\n",
    "* ホスト 192.168.1.3 が通信を開始する前は、ARPテーブルに 192.168.1.1 のエントリは存在しない。\n",
    "\n",
    "**問い**\n",
    "1. ホスト 192.168.1.3 が、192.168.1.15 と初めて通信するとき、ARPテーブルに登録されるIPアドレスは？"
   ]
  },
  {
   "cell_type": "code",
   "execution_count": 2,
   "id": "9961204a",
   "metadata": {},
   "outputs": [
    {
     "data": {
      "text/plain": [
       "24"
      ]
     },
     "execution_count": 2,
     "metadata": {},
     "output_type": "execute_result"
    }
   ],
   "source": [
    "8 + 8 + 8 + 0 # /24 subnet"
   ]
  },
  {
   "cell_type": "markdown",
   "id": "a0bbbada",
   "metadata": {},
   "source": [
    "## 考え方\n",
    "### 1. 192.168.1.3 → 192.168.1.15\n",
    "\n",
    "* サブネットマスク 255.255.255.0 を考えると、\n",
    "\n",
    "  * 192.168.1.3 → ネットワーク部は **192.168.1.0**\n",
    "  * 192.168.1.15 → ネットワーク部は **192.168.1.0**\n",
    "* → 両方とも同じネットワーク内。\n",
    "* よって宛先ホスト（192.168.1.15）のMACを知るためにARPを行う。\n",
    "* したがって ARPテーブルには **192.168.1.15** が登録される。\n",
    "\n",
    "**答え：192.168.1.15**"
   ]
  },
  {
   "cell_type": "markdown",
   "id": "23a7f42d",
   "metadata": {},
   "source": [
    "2. ホスト 192.168.1.3 が、192.168.2.10 と初めて通信するとき、ARPテーブルに登録されるIPアドレスは？"
   ]
  },
  {
   "cell_type": "markdown",
   "id": "43bc6bb9",
   "metadata": {},
   "source": [
    "### 2. 192.168.1.3 → 192.168.2.10\n",
    "\n",
    "* 192.168.2.10 → ネットワーク部は **192.168.2.0**\n",
    "* 送信元（192.168.1.0）とは異なるネットワーク。\n",
    "* 異なるネットワークへの通信は、まず **デフォルトゲートウェイ 192.168.1.1** に渡す。\n",
    "* このために、ゲートウェイのMACを知るためにARPを行う。\n",
    "* したがって ARPテーブルには **192.168.1.1** が登録される。\n",
    "\n",
    "**答え：192.168.1.1**\n",
    "\n",
    "---\n",
    "\n",
    "## まとめ\n",
    "\n",
    "* **同一ネットワーク内宛て → 宛先ホストのIPがARPテーブルに載る**\n",
    "* **別ネットワーク宛て → デフォルトゲートウェイのIPがARPテーブルに載る**"
   ]
  },
  {
   "cell_type": "markdown",
   "id": "701ae9be",
   "metadata": {},
   "source": [
    "![](image2.png)\n",
    "読み取った問題文（要約）\n",
    "\n",
    "* ルータの経路表に，以下 A〜D の宛先ネットワークがある。\n",
    "* 宛先 IP アドレスが **192.168.1.115** のパケットが到着した。\n",
    "* このパケットはどの宛先ネットワークに向けて転送されるか？\n",
    "\n",
    "候補\n",
    "A) 192.168.1.0/26\n",
    "B) 192.168.1.64/26\n",
    "C) 192.168.1.128/26\n",
    "D) 192.168.1.192/26\n",
    "\n",
    "---\n",
    "\n",
    "解説\n",
    "\n",
    "* どれも **/26（255.255.255.192）** の等長プレフィックスなので、該当するネットワーク範囲に入るものを選ぶ（最長一致法）。\n",
    "* /26 は 1 ブロック 64 アドレスずつ。第四オクテットの範囲は以下：\n",
    "\n",
    "  * A) 0–63\n",
    "  * **B) 64–127**\n",
    "  * C) 128–191\n",
    "  * D) 192–255\n",
    "* 宛先 **192.168.1.115** は **64–127** の範囲に入る。\n",
    "\n",
    "答え：**B) 192.168.1.64/26**\n",
    "\n",
    "（補足：2 進で見ると 115 は `01110011`。/26 では第4オクテットの上位2ビットをネットワーク部として使う。`01` は 64–127 のブロックを示すため、B に一致します。）\n"
   ]
  },
  {
   "cell_type": "code",
   "execution_count": null,
   "id": "c8ef4916",
   "metadata": {},
   "outputs": [
    {
     "data": {
      "text/plain": [
       "[IPv4Network('192.168.1.64/26')]"
      ]
     },
     "execution_count": 8,
     "metadata": {},
     "output_type": "execute_result"
    }
   ],
   "source": [
    "import ipaddress\n",
    "\n",
    "networks = [\n",
    "    ipaddress.ip_network(\"192.168.1.0/26\"),\n",
    "    ipaddress.ip_network(\"192.168.1.64/26\"),\n",
    "    ipaddress.ip_network(\"192.168.1.128/26\"),\n",
    "    ipaddress.ip_network(\"192.168.1.192/26\"),\n",
    "]\n",
    "dist = ipaddress.ip_address(\"192.168.1.115\")\n",
    "\n",
    "# ネットワークの範囲内でプレフィックスが最大限なものを選ぶ\n",
    "matchip = max([nw for nw in networks if dist in nw])\n",
    "matchip"
   ]
  },
  {
   "cell_type": "code",
   "execution_count": null,
   "id": "883452de",
   "metadata": {},
   "outputs": [],
   "source": []
  }
 ],
 "metadata": {
  "kernelspec": {
   "display_name": "datasienceict",
   "language": "python",
   "name": "python3"
  },
  "language_info": {
   "codemirror_mode": {
    "name": "ipython",
    "version": 3
   },
   "file_extension": ".py",
   "mimetype": "text/x-python",
   "name": "python",
   "nbconvert_exporter": "python",
   "pygments_lexer": "ipython3",
   "version": "3.8.20"
  }
 },
 "nbformat": 4,
 "nbformat_minor": 5
}
