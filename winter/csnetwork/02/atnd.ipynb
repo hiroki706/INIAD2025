{
 "cells": [
  {
   "cell_type": "code",
   "execution_count": 4,
   "id": "a24ad0d4",
   "metadata": {},
   "outputs": [
    {
     "data": {
      "text/plain": [
       "IPv4Network('0.0.0.0/0')"
      ]
     },
     "execution_count": 4,
     "metadata": {},
     "output_type": "execute_result"
    }
   ],
   "source": [
    "import ipaddress\n",
    "\n",
    "networks = [\n",
    "    ipaddress.ip_network(\"192.168.0.0/22\"),\n",
    "    ipaddress.ip_network(\"192.168.4.0/22\"),\n",
    "    ipaddress.ip_network(\"192.168.8.0/23\"),\n",
    "    ipaddress.ip_network(\"0.0.0.0/0\"),\n",
    "]\n",
    "dist = ipaddress.ip_address(\"192.168.11.15\")\n",
    "\n",
    "# ネットワークの範囲内でプレフィックスが最大限なものを選ぶ\n",
    "matchip = max([nw for nw in networks if dist in nw])\n",
    "matchip"
   ]
  },
  {
   "cell_type": "code",
   "execution_count": null,
   "id": "ce5bede0",
   "metadata": {},
   "outputs": [],
   "source": []
  }
 ],
 "metadata": {
  "kernelspec": {
   "display_name": "datasienceict",
   "language": "python",
   "name": "python3"
  },
  "language_info": {
   "codemirror_mode": {
    "name": "ipython",
    "version": 3
   },
   "file_extension": ".py",
   "mimetype": "text/x-python",
   "name": "python",
   "nbconvert_exporter": "python",
   "pygments_lexer": "ipython3",
   "version": "3.8.20"
  }
 },
 "nbformat": 4,
 "nbformat_minor": 5
}
