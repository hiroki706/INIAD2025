{
 "cells": [
  {
   "cell_type": "code",
   "execution_count": null,
   "id": "bddf1054",
   "metadata": {},
   "outputs": [],
   "source": [
    "# 1.「データフレームdfのInfected_day列の7日間移動平均」を求めるスクリプトを答えよ。\n",
    "# df[\"Infected_day\"].rolling(window=7).mean()\n",
    "import pandas as pd\n",
    "import matplotlib.pyplot as plt"
   ]
  },
  {
   "cell_type": "code",
   "execution_count": null,
   "id": "ce8d8982",
   "metadata": {},
   "outputs": [],
   "source": [
    "#     次の操作を行うノートブックを作成せよ。\n",
    "# 2-1. DM-03で配布した covid-19-japan-20200407.csv をデータフレームdf に読み込む。\n",
    "# 2-2. X軸データをDate列、Y軸データをInfected_day列の7日間移動平均として、折れ線グラフをプロットする。図のタイトルや軸ラベルなどの装飾は不要。\n",
    "# 注: 日付データであるDate列のデータ型を適切に設定すること。\n",
    "df = pd.read_csv(\"./covid-19-japan-20200407.csv\")\n",
    "df[\"Date\"] = pd.to_datetime(df[\"Date\"])\n",
    "print(df.head())\n",
    "print(df.info())"
   ]
  },
  {
   "cell_type": "code",
   "execution_count": null,
   "id": "db6048cb",
   "metadata": {},
   "outputs": [],
   "source": [
    "plt.plot(df[\"Date\"], df[\"Infected_day\"])\n",
    "plt.show()"
   ]
  },
  {
   "cell_type": "code",
   "execution_count": null,
   "id": "c141d6c6",
   "metadata": {},
   "outputs": [],
   "source": []
  }
 ],
 "metadata": {
  "kernelspec": {
   "display_name": "datasienceict",
   "language": "python",
   "name": "python3"
  },
  "language_info": {
   "codemirror_mode": {
    "name": "ipython",
    "version": 3
   },
   "file_extension": ".py",
   "mimetype": "text/x-python",
   "name": "python",
   "nbconvert_exporter": "python",
   "pygments_lexer": "ipython3",
   "version": "3.8.20"
  }
 },
 "nbformat": 4,
 "nbformat_minor": 5
}
