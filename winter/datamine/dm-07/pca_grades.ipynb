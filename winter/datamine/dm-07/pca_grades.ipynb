{
 "cells": [
  {
   "cell_type": "markdown",
   "metadata": {},
   "source": [
    "### Sample code for Principal Component Analysis (PCA)  "
   ]
  },
  {
   "cell_type": "markdown",
   "metadata": {},
   "source": [
    "#### Import libraries  "
   ]
  },
  {
   "cell_type": "code",
   "execution_count": null,
   "metadata": {},
   "outputs": [],
   "source": [
    "#Cell_1.\n",
    "import numpy as np\n",
    "import pandas as pd\n",
    "import matplotlib.pyplot as plt\n",
    "from sklearn.decomposition import PCA\n",
    "from sklearn.preprocessing import StandardScaler"
   ]
  },
  {
   "cell_type": "markdown",
   "metadata": {},
   "source": [
    "#### Parameters  "
   ]
  },
  {
   "cell_type": "code",
   "execution_count": null,
   "metadata": {},
   "outputs": [],
   "source": [
    "#Cell_2.\n",
    "csv_in = 'Grades.csv'\n",
    "\n",
    "# To show all rows and columns in the results\n",
    "pd.options.display.max_columns=999\n",
    "pd.options.display.max_rows=999"
   ]
  },
  {
   "cell_type": "markdown",
   "metadata": {},
   "source": [
    "#### Read CSV file  "
   ]
  },
  {
   "cell_type": "code",
   "execution_count": null,
   "metadata": {},
   "outputs": [],
   "source": [
    "#Cell_3.\n",
    "df = pd.read_csv(csv_in, sep=',', skiprows=0, header=0,encoding='shift-jis')\n",
    "print(df.shape)\n",
    "print(df.info())\n",
    "display(df.head())"
   ]
  },
  {
   "cell_type": "markdown",
   "metadata": {},
   "source": [
    "#### Set data  "
   ]
  },
  {
   "cell_type": "code",
   "execution_count": null,
   "metadata": {},
   "outputs": [],
   "source": [
    "#Cell_4.\n",
    "dfX =df.drop(columns='生徒')\n",
    "n=dfX.shape[0] #sample size.\n",
    "p=dfX.shape[1] #number of features.\n",
    "\n",
    "print(n)\n",
    "print(dfX.shape)\n",
    "display(dfX.head())"
   ]
  },
  {
   "cell_type": "markdown",
   "metadata": {},
   "source": [
    "#### Standardization  "
   ]
  },
  {
   "cell_type": "code",
   "execution_count": null,
   "metadata": {},
   "outputs": [],
   "source": [
    "#Cell_5.\n",
    "sc = StandardScaler()\n",
    "X_std = sc.fit_transform(dfX)*(np.sqrt(n-1))/(np.sqrt(n))\n",
    "print(X_std)"
   ]
  },
  {
   "cell_type": "markdown",
   "metadata": {},
   "source": [
    "#### PCA  "
   ]
  },
  {
   "cell_type": "code",
   "execution_count": null,
   "metadata": {},
   "outputs": [],
   "source": [
    "#Cell_6.\n",
    "n_pca = 2\n",
    "pca = PCA(n_components=n_pca)\n",
    "X_pca = pca.fit_transform(X_std)"
   ]
  },
  {
   "cell_type": "markdown",
   "metadata": {},
   "source": [
    "#### PC coordinates  "
   ]
  },
  {
   "cell_type": "code",
   "execution_count": null,
   "metadata": {},
   "outputs": [],
   "source": [
    "#Cell_7.\n",
    "#主成分得点\n",
    "print(X_pca.shape)\n",
    "print(X_pca)"
   ]
  },
  {
   "cell_type": "code",
   "execution_count": null,
   "metadata": {},
   "outputs": [],
   "source": [
    "#Cell_8.\n",
    "#固有値\n",
    "print('eigenvalues:',pca.explained_variance_)\n",
    "#固有ベクトルの成分\n",
    "print('eigenvectors:',pca.components_)"
   ]
  },
  {
   "cell_type": "code",
   "execution_count": null,
   "metadata": {},
   "outputs": [],
   "source": [
    "#Cell_9.\n",
    "#因子負荷量\n",
    "loadings = pca.components_.T * np.sqrt(pca.explained_variance_)\n",
    "print(loadings)"
   ]
  },
  {
   "cell_type": "code",
   "execution_count": null,
   "metadata": {},
   "outputs": [],
   "source": [
    "#Cell_10.因子負荷量の可視化\n",
    "font = {'family' : 'Yu Mincho'}\n",
    "plt.rc('font', **font)\n",
    "\n",
    "plt.xlim(-1,1)\n",
    "plt.ylim(-1,1)\n",
    "plt.xlabel('PC_1')\n",
    "plt.ylabel('PC_2')\n",
    "for i in range(p):\n",
    "    plt.text(loadings[i,0],loadings[i,1], str(dfX.columns[i]),fontdict={'weight':'bold','size':12})\n",
    "\n",
    "plt.show()"
   ]
  },
  {
   "cell_type": "code",
   "execution_count": null,
   "metadata": {},
   "outputs": [],
   "source": [
    "#Cell_11.主成分得点の可視化\n",
    "plt.xlabel('PC_1')\n",
    "plt.ylabel('PC_2')\n",
    "plt.scatter(X_pca[:,0],X_pca[:,1])\n",
    "plt.show()"
   ]
  },
  {
   "cell_type": "markdown",
   "metadata": {},
   "source": [
    "#### Check contribution ratio  "
   ]
  },
  {
   "cell_type": "code",
   "execution_count": null,
   "metadata": {},
   "outputs": [],
   "source": [
    "#Cell_12.\n",
    "print(\"各主成分ごとの寄与率：\",pca.explained_variance_ratio_)\n",
    "print(\"各主成分までの累積寄与率：\",np.cumsum(pca.explained_variance_ratio_))"
   ]
  },
  {
   "cell_type": "markdown",
   "metadata": {},
   "source": [
    "#### Draw graph of contribution  "
   ]
  },
  {
   "cell_type": "code",
   "execution_count": null,
   "metadata": {},
   "outputs": [],
   "source": [
    "#Cell_13.\n",
    "xx = range(1, n_pca+1)\n",
    "plt.bar(xx, pca.explained_variance_ratio_)\n",
    "plt.step(xx, np.cumsum(pca.explained_variance_ratio_), where='mid')\n",
    "plt.ylabel('Explained variance ratio')\n",
    "plt.xlabel('Principal components')\n",
    "plt.show()"
   ]
  },
  {
   "cell_type": "markdown",
   "metadata": {},
   "source": [
    "#### 2D plot "
   ]
  },
  {
   "cell_type": "code",
   "execution_count": null,
   "metadata": {},
   "outputs": [],
   "source": [
    "#Cell_14.\n",
    "def biplot(X_2d, coef_2d, coef_labels=None):\n",
    "    r1 = 1\n",
    "    r2 = 1\n",
    "    coef_2dT = coef_2d.T\n",
    "    if coef_labels is None:\n",
    "        coef_labels = range(len(coef_2dT))\n",
    "    for i, coef in enumerate(coef_2dT):\n",
    "        plt.arrow(0, 0, coef[0]*r1, coef[1]*r1, color='r')\n",
    "        plt.text(coef[0]*r1*r2, coef[1]*r1*r2, coef_labels[i],\n",
    "                 color='b', fontsize=11)\n",
    "    plt.scatter(X_2d[:,0], X_2d[:,1])\n",
    "    plt.xlabel('PC_1')\n",
    "    plt.ylabel('PC_2')\n",
    "    return None\n",
    "\n",
    "biplot(X_pca[:, :2], loadings.T, coef_labels=dfX.columns)"
   ]
  },
  {
   "cell_type": "code",
   "execution_count": null,
   "metadata": {},
   "outputs": [],
   "source": [
    " loadings.T"
   ]
  }
 ],
 "metadata": {
  "kernelspec": {
   "display_name": "Python 3 (ipykernel)",
   "language": "python",
   "name": "python3"
  },
  "language_info": {
   "codemirror_mode": {
    "name": "ipython",
    "version": 3
   },
   "file_extension": ".py",
   "mimetype": "text/x-python",
   "name": "python",
   "nbconvert_exporter": "python",
   "pygments_lexer": "ipython3",
   "version": "3.9.15"
  }
 },
 "nbformat": 4,
 "nbformat_minor": 4
}
