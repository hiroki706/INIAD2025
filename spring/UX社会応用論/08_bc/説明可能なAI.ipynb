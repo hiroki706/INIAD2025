{
  "cells": [
    {
      "cell_type": "markdown",
      "source": [
        "# 1. 環境構築"
      ],
      "metadata": {
        "id": "R-pAUv9JnZmN"
      }
    },
    {
      "cell_type": "code",
      "execution_count": null,
      "metadata": {
        "id": "W9Zikst5-W-W"
      },
      "outputs": [],
      "source": [
        "!pip install shap\n",
        "!pip install slicer\n",
        "import shap\n",
        "import xgboost"
      ]
    },
    {
      "cell_type": "markdown",
      "source": [
        "# 2. データセットの確認"
      ],
      "metadata": {
        "id": "JYc_L5YjniiR"
      }
    },
    {
      "cell_type": "code",
      "source": [
        "# adultデータセットを取得\n",
        "X,y = shap.datasets.adult()\n",
        "\n",
        "# データを確認\n",
        "print(X)"
      ],
      "metadata": {
        "id": "AP2yvOlSsSS_"
      },
      "execution_count": null,
      "outputs": []
    },
    {
      "cell_type": "markdown",
      "source": [
        "# 3. SHAP値の計算"
      ],
      "metadata": {
        "id": "7vEBj3IQbT61"
      }
    },
    {
      "cell_type": "code",
      "source": [
        "# XGBoostモデルの訓練\n",
        "model = xgboost.XGBClassifier().fit(X, y)\n",
        "\n",
        "# SHAP explainerの作成（モデルとデータを渡す）\n",
        "explainer = shap.Explainer(model, X)\n",
        "\n",
        "# SHAP値の計算（各特徴量の影響度を算出）\n",
        "shap_values = explainer(X)"
      ],
      "metadata": {
        "id": "WMkEdOvxs44m"
      },
      "execution_count": null,
      "outputs": []
    },
    {
      "cell_type": "markdown",
      "source": [
        "# 4. 個別の結果の表示"
      ],
      "metadata": {
        "id": "OGvF3hucboGu"
      }
    },
    {
      "cell_type": "code",
      "source": [
        "# 個人ごとのSHAP値と特徴量の関係性を表示\n",
        "n = 0\n",
        "\n",
        "logit_scores = model.predict(X, output_margin=True)\n",
        "\n",
        "print(f\"モデルの予測スコア: {logit_scores[n]}\")\n",
        "if logit_scores[n] > 0:\n",
        "  print(f\"モデルの最終予測: 5万ドルを超える\")\n",
        "else:\n",
        "  print(f\"モデルの最終予測: 5万ドルを超えない\")\n",
        "shap.plots.waterfall(shap_values[n], max_display=12, show=True)"
      ],
      "metadata": {
        "id": "DbzM1R45CREG"
      },
      "execution_count": null,
      "outputs": []
    },
    {
      "cell_type": "markdown",
      "source": [
        "# 5. 全体的な結果の表示"
      ],
      "metadata": {
        "id": "z4sbeNFUfJsy"
      }
    },
    {
      "cell_type": "code",
      "execution_count": null,
      "metadata": {
        "id": "rlQc84OEAIMP"
      },
      "outputs": [],
      "source": [
        "# 全データに対する特徴量ごとのSHAP値の分布 (色は特徴量の値の高低を表す)\n",
        "shap.plots.beeswarm(shap_values, max_display=12)"
      ]
    }
  ],
  "metadata": {
    "colab": {
      "provenance": []
    },
    "kernelspec": {
      "display_name": "Python 3",
      "name": "python3"
    },
    "language_info": {
      "name": "python"
    }
  },
  "nbformat": 4,
  "nbformat_minor": 0
}