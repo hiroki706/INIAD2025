{
 "cells": [
  {
   "cell_type": "code",
   "execution_count": null,
   "metadata": {},
   "outputs": [],
   "source": [
    "import pandas as pd\n",
    "from sklearn.model_selection import train_test_split\n",
    "from sklearn.feature_extraction.text import CountVectorizer\n",
    "from sklearn.naive_bayes import MultinomialNB"
   ]
  },
  {
   "cell_type": "code",
   "execution_count": null,
   "metadata": {},
   "outputs": [],
   "source": [
    "csv_in = 'onsen.csv'\n",
    "\n",
    "# To show more columns and rows\n",
    "pd.options.display.max_columns=999\n",
    "pd.options.display.max_rows=999"
   ]
  },
  {
   "cell_type": "code",
   "execution_count": null,
   "metadata": {},
   "outputs": [],
   "source": [
    "df = pd.read_csv(csv_in, skiprows=0, delimiter=',', header=0)\n",
    "display(df.head())"
   ]
  },
  {
   "cell_type": "code",
   "execution_count": null,
   "metadata": {},
   "outputs": [],
   "source": [
    "print(df['category'].value_counts())"
   ]
  },
  {
   "cell_type": "code",
   "execution_count": null,
   "metadata": {},
   "outputs": [],
   "source": [
    "X = df['text']\n",
    "y = df['category']"
   ]
  },
  {
   "cell_type": "markdown",
   "metadata": {},
   "source": [
    "#### Divide data into train data and test data  \n",
    "NOTE: Specify random_state to fix the way of division  "
   ]
  },
  {
   "cell_type": "code",
   "execution_count": null,
   "metadata": {},
   "outputs": [],
   "source": [
    "X_test, y_test = ([\"群馬 酸性 映画 美肌\"], \"kusatu\")\n"
   ]
  },
  {
   "cell_type": "code",
   "execution_count": null,
   "metadata": {},
   "outputs": [],
   "source": [
    "vectorizer = CountVectorizer(token_pattern='(?u)\\\\b\\\\w+\\\\b')\n",
    "vectorizer.fit(X)\n",
    "vocab = vectorizer.get_feature_names_out()\n",
    "print('Vocabulary size:', len(vocab))\n",
    "print(vocab[:10])  # debug"
   ]
  },
  {
   "cell_type": "code",
   "execution_count": null,
   "metadata": {},
   "outputs": [],
   "source": [
    "X_train_bow = vectorizer.transform(X)\n",
    "X_test_bow = vectorizer.transform(X_test)\n",
    "print('X_train_bow:')\n",
    "print(repr(X_train_bow))\n",
    "print('X_test_bow:')\n",
    "print(repr(X_test_bow))"
   ]
  },
  {
   "cell_type": "code",
   "execution_count": null,
   "metadata": {},
   "outputs": [],
   "source": [
    "Xbow = pd.DataFrame(X_train_bow.toarray(),\n",
    "                    index=y, columns=vocab)\n",
    "display(Xbow.head())"
   ]
  },
  {
   "cell_type": "code",
   "execution_count": null,
   "metadata": {},
   "outputs": [],
   "source": [
    "model = MultinomialNB(alpha=1.0)\n",
    "model.fit(X_train_bow, y)\n",
    "print(model.classes_)\n",
    "train_score = model.score(X_train_bow, y)\n",
    "print('Train accuracy:', train_score)"
   ]
  },
  {
   "cell_type": "code",
   "execution_count": null,
   "metadata": {},
   "outputs": [],
   "source": [
    "# Obtain each prediction\n",
    "model.predict_proba(X_test_bow)\n"
   ]
  },
  {
   "cell_type": "code",
   "execution_count": null,
   "metadata": {},
   "outputs": [],
   "source": [
    "# Make crosstable\n",
    "ctab = pd.crosstab(df_pred['pred'], df_pred['true'])\n",
    "display(ctab)"
   ]
  },
  {
   "cell_type": "code",
   "execution_count": null,
   "metadata": {},
   "outputs": [],
   "source": [
    "# Prediction accuracy\n",
    "test_score = model.score(X_test_bow, y_test)\n",
    "print('Test accuracy:', test_score)"
   ]
  },
  {
   "cell_type": "markdown",
   "metadata": {},
   "source": [
    "#### Set min_df    "
   ]
  },
  {
   "cell_type": "code",
   "execution_count": null,
   "metadata": {},
   "outputs": [],
   "source": [
    "vectorizer = CountVectorizer(min_df=4, token_pattern='(?u)\\\\b\\\\w+\\\\b')\n",
    "vectorizer.fit(X_train)\n",
    "vocab = vectorizer.get_feature_names_out()\n",
    "print('Vocabulary size:', len(vocab))\n",
    "X_train_bow = vectorizer.transform(X_train)\n",
    "print(repr(X_train_bow))\n",
    "X_test_bow = vectorizer.transform(X_test)\n",
    "model = MultinomialNB(alpha=1.0)\n",
    "model.fit(X_train_bow, y_train)\n",
    "print('Train accuracy:', model.score(X_train_bow, y_train))\n",
    "print('Test accuracy:', model.score(X_test_bow, y_test))"
   ]
  },
  {
   "cell_type": "code",
   "execution_count": null,
   "metadata": {},
   "outputs": [],
   "source": [
    "# Obtain each prediction\n",
    "y_test_pred = model.predict(X_test_bow)\n",
    "df_pred = pd.DataFrame({\n",
    "            'pred': y_test_pred,\n",
    "            'true': y_test\n",
    "          }).reset_index(drop=True)\n",
    "ctab = pd.crosstab(df_pred['pred'], df_pred['true'])\n",
    "display(ctab)"
   ]
  },
  {
   "cell_type": "code",
   "execution_count": null,
   "metadata": {},
   "outputs": [],
   "source": []
  }
 ],
 "metadata": {
  "kernelspec": {
   "display_name": "datasienceict",
   "language": "python",
   "name": "python3"
  },
  "language_info": {
   "codemirror_mode": {
    "name": "ipython",
    "version": 3
   },
   "file_extension": ".py",
   "mimetype": "text/x-python",
   "name": "python",
   "nbconvert_exporter": "python",
   "pygments_lexer": "ipython3",
   "version": "3.8.20"
  }
 },
 "nbformat": 4,
 "nbformat_minor": 4
}
