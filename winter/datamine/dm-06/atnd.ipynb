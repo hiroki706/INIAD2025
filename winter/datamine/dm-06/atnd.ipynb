{
 "cells": [
  {
   "cell_type": "code",
   "execution_count": null,
   "id": "7bbededf",
   "metadata": {},
   "outputs": [],
   "source": []
  },
  {
   "cell_type": "code",
   "execution_count": 2,
   "id": "37beeafe",
   "metadata": {},
   "outputs": [
    {
     "name": "stdout",
     "output_type": "stream",
     "text": [
      "['INIAD Business', 'INIAD Civil', 'INIAD Design', 'INIAD Engineering']\n"
     ]
    }
   ],
   "source": [
    "# 以下の空欄(A) を、内包表記を用いたプログラムで埋めよ。\n",
    "\n",
    "xs = [  'Business',  'Civil',  'Design',  'Engineering'  ]\n",
    "# xs2 = ____(A)____\n",
    "xs2 = [\"INIAD \"+s for s in xs]\n",
    "print( xs2 )\n",
    "\n",
    "\n",
    "# [出力]\n",
    "\n",
    "assert xs2 ==[  'INIAD Business',  'INIAD Civil',  'INIAD Design',  'INIAD Engineering'  ]\n"
   ]
  },
  {
   "cell_type": "code",
   "execution_count": null,
   "id": "03a76011",
   "metadata": {},
   "outputs": [],
   "source": []
  }
 ],
 "metadata": {
  "kernelspec": {
   "display_name": "datasienceict",
   "language": "python",
   "name": "python3"
  },
  "language_info": {
   "codemirror_mode": {
    "name": "ipython",
    "version": 3
   },
   "file_extension": ".py",
   "mimetype": "text/x-python",
   "name": "python",
   "nbconvert_exporter": "python",
   "pygments_lexer": "ipython3",
   "version": "3.11.13"
  }
 },
 "nbformat": 4,
 "nbformat_minor": 5
}
