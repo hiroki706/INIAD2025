{
 "cells": [
  {
   "cell_type": "code",
   "execution_count": null,
   "id": "bfa8b055",
   "metadata": {},
   "outputs": [],
   "source": [
    "# P(x,y,z) : (x - y) / z = 0\n",
    "\n",
    "# Pの全ての変数のドメインは、整数です。以下の真理値を計算しなさい。 trueの場合はTと記入し、falseの場合はFと記入してください。\n",
    "\n",
    "#  ∀x∀y∀z P(x,y,z)\n",
    "\n",
    "import sympy as sp\n",
    "\n",
    "x, y, z = sp.symbols('x y z')\n",
    "P = (x - y) / z\n",
    "\n",
    "\n",
    "# ∀x∃y∀z P(x,y,z)\n",
    "\n",
    "# ∀x∃y∃z P(x,y,z)\n"
   ]
  },
  {
   "cell_type": "code",
   "execution_count": null,
   "id": "e61ee004",
   "metadata": {},
   "outputs": [],
   "source": []
  }
 ],
 "metadata": {
  "kernelspec": {
   "display_name": ".venv",
   "language": "python",
   "name": "python3"
  },
  "language_info": {
   "codemirror_mode": {
    "name": "ipython",
    "version": 3
   },
   "file_extension": ".py",
   "mimetype": "text/x-python",
   "name": "python",
   "nbconvert_exporter": "python",
   "pygments_lexer": "ipython3",
   "version": "3.13.3"
  }
 },
 "nbformat": 4,
 "nbformat_minor": 5
}
