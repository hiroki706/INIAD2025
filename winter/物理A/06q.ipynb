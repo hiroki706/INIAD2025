{
 "cells": [
  {
   "cell_type": "markdown",
   "id": "24d58afd",
   "metadata": {},
   "source": [
    "# 問題\n",
    ">粗い床の上においた質量$5.0[kg]$のおもりを、水平となす角$30°$で引っ張ったところ$38[N]$を超えたところで動き出した。重力加速度\n",
    "の大きさを$g=9.8[m/s2]$として、静止摩擦係数$μ$を求めよ。"
   ]
  },
  {
   "cell_type": "code",
   "execution_count": 16,
   "id": "ddfa989d",
   "metadata": {},
   "outputs": [
    {
     "data": {
      "text/plain": [
       "1.0969650000000002"
      ]
     },
     "execution_count": 16,
     "metadata": {},
     "output_type": "execute_result"
    }
   ],
   "source": [
    "from math import cos,sin,radians\n",
    "import numpy as np\n",
    "F = 38\n",
    "m = 5.0\n",
    "g = 9.8\n",
    "angle = radians(30)\n",
    "cosx = 0.866025 #cos(angle)\n",
    "sinx = 0.5#sin(angle)\n",
    "\n",
    "(F*cosx) / (m*g-F*sinx)"
   ]
  },
  {
   "cell_type": "markdown",
   "id": "8d43dfe1",
   "metadata": {},
   "source": [
    "解いていきます。\n",
    "\n",
    "# 状況整理（力のつり合い）\n",
    "\n",
    "おもり（質量 (m=5.0,\\mathrm{kg})）に大きさ (F) の力を水平方向となす角 (30^\\circ) 上向きに引く。\n",
    "動き出す直前（静止限界）では\n",
    "\n",
    "* 鉛直方向：法線力 (N) と重力 (mg)、引く力の上向き成分 (F\\sin30^\\circ) がつり合う\n",
    "  [\n",
    "  N + F\\sin30^\\circ = mg \\quad\\Rightarrow\\quad N = mg - F\\sin30^\\circ\n",
    "  ]\n",
    "* 水平方向：引く力の水平成分 (F\\cos30^\\circ) と最大静止摩擦力 (\\mu N) がつり合う\n",
    "  [\n",
    "  F\\cos30^\\circ = \\mu N = \\mu,(mg - F\\sin30^\\circ)\n",
    "  ]\n",
    "\n",
    "ここから (\\mu) を解くと\n",
    "[\n",
    "\\boxed{\\ \\mu=\\dfrac{F\\cos30^\\circ}{,mg - F\\sin30^\\circ,}\\ }\n",
    "]\n",
    "\n",
    "# 数値代入\n",
    "\n",
    "条件より「(38,\\mathrm{N}) を超えたところで動き出した」→ 限界はおよそ (F=38,\\mathrm{N})。\n",
    "(g=9.8,\\mathrm{m/s^2}), (\\sin30^\\circ=\\tfrac12), (\\cos30^\\circ=\\tfrac{\\sqrt3}{2}\\approx0.866025), (mg=5.0\\times9.8=49,\\mathrm{N})。\n",
    "\n",
    "* 分母：(mg - F\\sin30^\\circ = 49 - 38\\times0.5 = 49 - 19 = 30,\\mathrm{N})\n",
    "* 分子：(F\\cos30^\\circ = 38\\times0.866025 \\approx 32.909,\\mathrm{N})\n",
    "\n",
    "したがって\n",
    "[\n",
    "\\mu \\approx \\frac{32.909}{30} \\approx 1.10\n",
    "]\n",
    "\n",
    "# 答え\n",
    "\n",
    "[\n",
    "\\boxed{\\mu \\approx 1.10}\n",
    "]\n",
    "\n",
    "（角度をつけて上向きに引くと法線力が減る＝最大静止摩擦も減るため、同じ (F) でも水平方向の有効成分で見ると、(\\mu) はやや大きめに見積もられます。今回の値はゴムと乾いた床などで起こり得る範囲です。）\n"
   ]
  }
 ],
 "metadata": {
  "kernelspec": {
   "display_name": "datasienceict",
   "language": "python",
   "name": "python3"
  },
  "language_info": {
   "codemirror_mode": {
    "name": "ipython",
    "version": 3
   },
   "file_extension": ".py",
   "mimetype": "text/x-python",
   "name": "python",
   "nbconvert_exporter": "python",
   "pygments_lexer": "ipython3",
   "version": "3.11.13"
  }
 },
 "nbformat": 4,
 "nbformat_minor": 5
}
