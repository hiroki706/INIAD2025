{
 "cells": [
  {
   "cell_type": "code",
   "execution_count": 4,
   "metadata": {},
   "outputs": [],
   "source": [
    "#Cell_1.\n",
    "import numpy as np\n",
    "import pandas as pd\n",
    "import matplotlib.pyplot as plt\n",
    "from sklearn.decomposition import PCA\n",
    "from sklearn.preprocessing import StandardScaler"
   ]
  },
  {
   "cell_type": "code",
   "execution_count": 5,
   "metadata": {},
   "outputs": [],
   "source": [
    "#Cell_2.\n",
    "csv_in = 'grades-mid.csv'\n",
    "\n",
    "# To show all rows and columns in the results \n",
    "pd.options.display.max_columns=999\n",
    "pd.options.display.max_rows=999"
   ]
  },
  {
   "cell_type": "code",
   "execution_count": 6,
   "metadata": {},
   "outputs": [
    {
     "name": "stdout",
     "output_type": "stream",
     "text": [
      "(30, 5)\n",
      "<class 'pandas.core.frame.DataFrame'>\n",
      "RangeIndex: 30 entries, 0 to 29\n",
      "Data columns (total 5 columns):\n",
      " #   Column      Non-Null Count  Dtype\n",
      "---  ------      --------------  -----\n",
      " 0   Student ID  30 non-null     int64\n",
      " 1   Math        30 non-null     int64\n",
      " 2   Physics     30 non-null     int64\n",
      " 3   English     30 non-null     int64\n",
      " 4   French      30 non-null     int64\n",
      "dtypes: int64(5)\n",
      "memory usage: 1.3 KB\n",
      "None\n"
     ]
    },
    {
     "data": {
      "text/html": [
       "<div>\n",
       "<style scoped>\n",
       "    .dataframe tbody tr th:only-of-type {\n",
       "        vertical-align: middle;\n",
       "    }\n",
       "\n",
       "    .dataframe tbody tr th {\n",
       "        vertical-align: top;\n",
       "    }\n",
       "\n",
       "    .dataframe thead th {\n",
       "        text-align: right;\n",
       "    }\n",
       "</style>\n",
       "<table border=\"1\" class=\"dataframe\">\n",
       "  <thead>\n",
       "    <tr style=\"text-align: right;\">\n",
       "      <th></th>\n",
       "      <th>Student ID</th>\n",
       "      <th>Math</th>\n",
       "      <th>Physics</th>\n",
       "      <th>English</th>\n",
       "      <th>French</th>\n",
       "    </tr>\n",
       "  </thead>\n",
       "  <tbody>\n",
       "    <tr>\n",
       "      <th>0</th>\n",
       "      <td>1</td>\n",
       "      <td>78</td>\n",
       "      <td>75</td>\n",
       "      <td>92</td>\n",
       "      <td>87</td>\n",
       "    </tr>\n",
       "    <tr>\n",
       "      <th>1</th>\n",
       "      <td>2</td>\n",
       "      <td>88</td>\n",
       "      <td>79</td>\n",
       "      <td>85</td>\n",
       "      <td>77</td>\n",
       "    </tr>\n",
       "    <tr>\n",
       "      <th>2</th>\n",
       "      <td>3</td>\n",
       "      <td>87</td>\n",
       "      <td>90</td>\n",
       "      <td>78</td>\n",
       "      <td>51</td>\n",
       "    </tr>\n",
       "    <tr>\n",
       "      <th>3</th>\n",
       "      <td>4</td>\n",
       "      <td>91</td>\n",
       "      <td>72</td>\n",
       "      <td>83</td>\n",
       "      <td>66</td>\n",
       "    </tr>\n",
       "    <tr>\n",
       "      <th>4</th>\n",
       "      <td>5</td>\n",
       "      <td>76</td>\n",
       "      <td>88</td>\n",
       "      <td>65</td>\n",
       "      <td>73</td>\n",
       "    </tr>\n",
       "  </tbody>\n",
       "</table>\n",
       "</div>"
      ],
      "text/plain": [
       "   Student ID  Math  Physics  English  French\n",
       "0           1    78       75       92      87\n",
       "1           2    88       79       85      77\n",
       "2           3    87       90       78      51\n",
       "3           4    91       72       83      66\n",
       "4           5    76       88       65      73"
      ]
     },
     "metadata": {},
     "output_type": "display_data"
    }
   ],
   "source": [
    "#Cell_3.\n",
    "df = pd.read_csv(csv_in, sep=',', skiprows=0, header=0,encoding='shift-jis')\n",
    "print(df.shape)\n",
    "print(df.info())\n",
    "display(df.head())"
   ]
  },
  {
   "cell_type": "code",
   "execution_count": 7,
   "metadata": {},
   "outputs": [
    {
     "name": "stdout",
     "output_type": "stream",
     "text": [
      "30\n",
      "(30, 4)\n"
     ]
    },
    {
     "data": {
      "text/html": [
       "<div>\n",
       "<style scoped>\n",
       "    .dataframe tbody tr th:only-of-type {\n",
       "        vertical-align: middle;\n",
       "    }\n",
       "\n",
       "    .dataframe tbody tr th {\n",
       "        vertical-align: top;\n",
       "    }\n",
       "\n",
       "    .dataframe thead th {\n",
       "        text-align: right;\n",
       "    }\n",
       "</style>\n",
       "<table border=\"1\" class=\"dataframe\">\n",
       "  <thead>\n",
       "    <tr style=\"text-align: right;\">\n",
       "      <th></th>\n",
       "      <th>Math</th>\n",
       "      <th>Physics</th>\n",
       "      <th>English</th>\n",
       "      <th>French</th>\n",
       "    </tr>\n",
       "  </thead>\n",
       "  <tbody>\n",
       "    <tr>\n",
       "      <th>0</th>\n",
       "      <td>78</td>\n",
       "      <td>75</td>\n",
       "      <td>92</td>\n",
       "      <td>87</td>\n",
       "    </tr>\n",
       "    <tr>\n",
       "      <th>1</th>\n",
       "      <td>88</td>\n",
       "      <td>79</td>\n",
       "      <td>85</td>\n",
       "      <td>77</td>\n",
       "    </tr>\n",
       "    <tr>\n",
       "      <th>2</th>\n",
       "      <td>87</td>\n",
       "      <td>90</td>\n",
       "      <td>78</td>\n",
       "      <td>51</td>\n",
       "    </tr>\n",
       "    <tr>\n",
       "      <th>3</th>\n",
       "      <td>91</td>\n",
       "      <td>72</td>\n",
       "      <td>83</td>\n",
       "      <td>66</td>\n",
       "    </tr>\n",
       "    <tr>\n",
       "      <th>4</th>\n",
       "      <td>76</td>\n",
       "      <td>88</td>\n",
       "      <td>65</td>\n",
       "      <td>73</td>\n",
       "    </tr>\n",
       "  </tbody>\n",
       "</table>\n",
       "</div>"
      ],
      "text/plain": [
       "   Math  Physics  English  French\n",
       "0    78       75       92      87\n",
       "1    88       79       85      77\n",
       "2    87       90       78      51\n",
       "3    91       72       83      66\n",
       "4    76       88       65      73"
      ]
     },
     "metadata": {},
     "output_type": "display_data"
    }
   ],
   "source": [
    "#Cell_4.\n",
    "dfX =df.drop(columns='Student ID')\n",
    "n=dfX.shape[0] #sample size.\n",
    "p=dfX.shape[1] #number of features.\n",
    "\n",
    "print(n)\n",
    "print(dfX.shape)\n",
    "display(dfX.head())"
   ]
  },
  {
   "cell_type": "code",
   "execution_count": 9,
   "metadata": {},
   "outputs": [
    {
     "name": "stdout",
     "output_type": "stream",
     "text": [
      "[[-0.19536054 -0.33887867  0.98072878  1.07414437]\n",
      " [ 1.02564284 -0.01355515  0.34507124  0.10934404]\n",
      " [ 0.90354251  0.88108453 -0.2905863  -2.39913683]\n",
      " [ 1.39194386 -0.58287131  0.1634548  -0.95193633]\n",
      " [-0.43956122  0.71842277 -1.47109317 -0.2765761 ]\n",
      " [ 0.65934183 -0.25754779  0.88992056  0.39878414]\n",
      " [-0.6837619   0.14910661 -0.19977808 -0.37305613]\n",
      " [-2.14896596 -0.01355515  0.52668768  2.13542474]\n",
      " [ 1.26984352  1.12507717 -1.19866851 -0.08361603]\n",
      " [-1.29426359 -0.17621691 -0.83543563  1.26710444]\n",
      " [-0.31746088  0.39309925  1.16234522 -0.75897626]\n",
      " [-1.29426359 -3.10412858  1.34396166  0.68822424]\n",
      " [-0.92796257  0.55576101 -0.10896986 -1.04841636]\n",
      " [ 0.17094047 -0.50154043  0.25426302 -0.18009606]\n",
      " [ 1.02564284 -0.90819483 -0.38139452  0.5917442 ]\n",
      " [-1.29426359 -1.64017275  0.88992056  1.1706244 ]\n",
      " [ 0.53724149  1.20640805  0.6174959   0.3023041 ]\n",
      " [ 0.90354251  1.04374629 -1.10786029 -1.43433649]\n",
      " [-0.56166156 -0.90819483  1.25315344  0.97766434]\n",
      " [ 0.04884014  0.23043749 -0.83543563 -0.5660162 ]\n",
      " [ 1.5140442  -0.09488603 -1.38028495  0.78470427]\n",
      " [ 1.39194386  0.63709189 -0.01816164 -0.46953616]\n",
      " [-0.19536054 -0.42020955  1.61638632  1.07414437]\n",
      " [ 0.78144217  1.28773893 -1.01705207 -0.66249623]\n",
      " [-0.6837619   0.31176837  1.071537   -0.37305613]\n",
      " [ 0.41514115  0.14910661 -0.83543563 -1.04841636]\n",
      " [-1.17216325  0.88108453 -0.47220274  0.20582407]\n",
      " [ 0.65934183  0.39309925  0.52668768  1.07414437]\n",
      " [-1.41636393 -2.04682715  0.88992056  0.3023041 ]\n",
      " [-0.0732602   1.04374629 -2.37917537 -1.53081653]]\n"
     ]
    }
   ],
   "source": [
    "#Cell_5.\n",
    "sc = StandardScaler()\n",
    "X_std = sc.fit_transform(dfX)*(np.sqrt(n-1))/(np.sqrt(n))\n",
    "print(X_std)"
   ]
  },
  {
   "cell_type": "code",
   "execution_count": 10,
   "metadata": {},
   "outputs": [],
   "source": [
    "#Cell_6.\n",
    "n_pca = 2\n",
    "pca = PCA(n_components=n_pca)\n",
    "X_pca = pca.fit_transform(X_std)"
   ]
  },
  {
   "cell_type": "code",
   "execution_count": 11,
   "metadata": {},
   "outputs": [
    {
     "name": "stdout",
     "output_type": "stream",
     "text": [
      "(30, 2)\n",
      "[[ 1.31368069 -0.34643327]\n",
      " [-0.21667507 -1.01078421]\n",
      " [-2.23576405 -0.51390197]\n",
      " [-0.70727823 -1.44773397]\n",
      " [-1.08016278  1.26673144]\n",
      " [ 0.50161096 -1.02639273]\n",
      " [-0.06681788  0.67789472]\n",
      " [ 2.31450563  1.64320406]\n",
      " [-1.8193247  -0.15004075]\n",
      " [ 0.88400813  1.51096594]\n",
      " [ 0.14179025 -0.2535915 ]\n",
      " [ 3.26491625 -0.40558914]\n",
      " [-0.47073036  0.90182996]\n",
      " [ 0.22990336 -0.41546329]\n",
      " [ 0.13255623 -0.86665696]\n",
      " [ 2.49755223  0.25159909]\n",
      " [-0.41201054 -0.39590775]\n",
      " [-2.25147809 -0.00342495]\n",
      " [ 1.87016344 -0.34198648]\n",
      " [-0.85886098  0.39851558]\n",
      " [-0.93095534 -0.5399165 ]\n",
      " [-1.2053109  -0.99192979]\n",
      " [ 1.68225924 -0.68237093]\n",
      " [-1.88938119  0.16930625]\n",
      " [ 0.49709839  0.09532503]\n",
      " [-1.22292645  0.04348688]\n",
      " [-0.08545013  1.45266629]\n",
      " [ 0.31163764 -0.62474823]\n",
      " [ 2.32817941  0.18408411]\n",
      " [-2.51673517  1.42126306]]\n"
     ]
    }
   ],
   "source": [
    "#Cell_7.\n",
    "print(X_pca.shape)\n",
    "print(X_pca)"
   ]
  },
  {
   "cell_type": "code",
   "execution_count": 12,
   "metadata": {},
   "outputs": [
    {
     "name": "stdout",
     "output_type": "stream",
     "text": [
      "eigenvalues: [2.31541556 0.7041994 ]\n",
      "eigenvectors: [[-0.4445017  -0.53251862  0.51170374  0.5069531 ]\n",
      " [-0.82281352  0.27451328 -0.49336511  0.06489398]]\n"
     ]
    }
   ],
   "source": [
    "#Cell_8.\n",
    "print('eigenvalues:',pca.explained_variance_)\n",
    "print('eigenvectors:',pca.components_)"
   ]
  },
  {
   "cell_type": "code",
   "execution_count": 9,
   "metadata": {},
   "outputs": [
    {
     "name": "stdout",
     "output_type": "stream",
     "text": [
      "[[-0.67637554 -0.69047705]\n",
      " [-0.8103064   0.23036218]\n",
      " [ 0.77863346 -0.41401518]\n",
      " [ 0.77140466  0.05445681]]\n"
     ]
    }
   ],
   "source": [
    "#Cell_9.\n",
    "loadings = pca.components_.T * np.sqrt(pca.explained_variance_) \n",
    "print(loadings)"
   ]
  },
  {
   "cell_type": "code",
   "execution_count": null,
   "metadata": {},
   "outputs": [],
   "source": [
    "#Cell_10.\n",
    "\n",
    "font = {'family' : 'Yu Mincho'}\n",
    "plt.rc('font', **font)\n",
    "\n",
    "plt.xlim(-1,1)\n",
    "plt.ylim(-1,1)\n",
    "plt.xlabel('PC_1')\n",
    "plt.ylabel('PC_2')\n",
    "for i in range(p):\n",
    "    plt.text(loadings[i,0],loadings[i,1], str(dfX.columns[i]),fontdict={'weight':'bold','size':12})\n",
    "\n",
    "plt.show()"
   ]
  },
  {
   "cell_type": "code",
   "execution_count": 11,
   "metadata": {},
   "outputs": [
    {
     "data": {
      "image/png": "[encoded data removed]",
      "text/plain": [
       "<Figure size 640x480 with 1 Axes>"
      ]
     },
     "metadata": {},
     "output_type": "display_data"
    }
   ],
   "source": [
    "#Cell_11.\n",
    "plt.xlabel('PC_1')\n",
    "plt.ylabel('PC_2')\n",
    "plt.scatter(XXX[:,0],XXX[:,1])\n",
    "plt.show()"
   ]
  },
  {
   "cell_type": "code",
   "execution_count": 13,
   "metadata": {},
   "outputs": [
    {
     "name": "stdout",
     "output_type": "stream",
     "text": [
      "各主成分ごとの寄与率： [0.57885389 0.17604985]\n",
      "各主成分までの累積寄与率： [0.57885389 0.75490374]\n"
     ]
    }
   ],
   "source": [
    "#Cell_12.\n",
    "print(\"各主成分ごとの寄与率：\",pca.explained_variance_ratio_)\n",
    "print(\"各主成分までの累積寄与率：\",np.cumsum(pca.explained_variance_ratio_))"
   ]
  },
  {
   "cell_type": "code",
   "execution_count": 13,
   "metadata": {},
   "outputs": [
    {
     "data": {
      "image/png": "[encoded data removed]",
      "text/plain": [
       "<Figure size 640x480 with 1 Axes>"
      ]
     },
     "metadata": {},
     "output_type": "display_data"
    }
   ],
   "source": [
    "#Cell_13.\n",
    "xx = range(1, n_pca+1)\n",
    "plt.bar(xx, pca.explained_variance_ratio_)\n",
    "plt.step(xx, np.cumsum(pca.explained_variance_ratio_), where='mid')\n",
    "plt.ylabel('Explained variance ratio')\n",
    "plt.xlabel('Principal components')\n",
    "plt.show()"
   ]
  },
  {
   "cell_type": "code",
   "execution_count": 14,
   "metadata": {},
   "outputs": [
    {
     "data": {
      "image/png": "[encoded data removed]",
      "text/plain": [
       "<Figure size 640x480 with 1 Axes>"
      ]
     },
     "metadata": {},
     "output_type": "display_data"
    }
   ],
   "source": [
    "#Cell_14.\n",
    "def biplot(X_2d, coef_2d, coef_labels=None):\n",
    "    r1 = 1\n",
    "    r2 = 1\n",
    "    coef_2dT = coef_2d.T\n",
    "    if coef_labels is None:\n",
    "        coef_labels = range(len(coef_2dT))\n",
    "    for i, coef in enumerate(coef_2dT):\n",
    "        plt.arrow(0, 0, coef[0]*r1, coef[1]*r1, color='r')    \n",
    "        plt.text(coef[0]*r1*r2, coef[1]*r1*r2, coef_labels[i],\n",
    "                 color='b', fontsize=11)\n",
    "    plt.scatter(X_2d[:,0], X_2d[:,1])\n",
    "    plt.xlabel('PC_1')\n",
    "    plt.ylabel('PC_2')\n",
    "    return None\n",
    "\n",
    "biplot(X_pca[:, :2], loadings.T, coef_labels=dfX.columns)"
   ]
  }
 ],
 "metadata": {
  "kernelspec": {
   "display_name": "Python 3 (ipykernel)",
   "language": "python",
   "name": "python3"
  },
  "language_info": {
   "codemirror_mode": {
    "name": "ipython",
    "version": 3
   },
   "file_extension": ".py",
   "mimetype": "text/x-python",
   "name": "python",
   "nbconvert_exporter": "python",
   "pygments_lexer": "ipython3",
   "version": "3.9.15"
  }
 },
 "nbformat": 4,
 "nbformat_minor": 4
}
