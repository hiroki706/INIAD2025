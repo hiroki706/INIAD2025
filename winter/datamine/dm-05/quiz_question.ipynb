{
 "cells": [
  {
   "cell_type": "code",
   "execution_count": null,
   "metadata": {},
   "outputs": [],
   "source": [
    "import numpy as np\n",
    "import pandas as pd\n",
    "import matplotlib.pyplot as plt\n",
    "from sklearn import datasets\n",
    "\n",
    "%config InlineBackend.figure_formats = {'png', 'retina'}  # for high-reso graph\n",
    "# plt.rcParams['font.family'] = 'Yu Mincho' # for Japanese in graph (Win)\n",
    "# plt.rcParams['font.family'] = 'IPAexGothic' # for Japanese in graph (Mac)\n",
    "plt.rcParams['font.family'] = 'NotoKufiArabic-Medium' # for Japanese in graph (Mac)"
   ]
  },
  {
   "cell_type": "code",
   "execution_count": null,
   "metadata": {},
   "outputs": [],
   "source": [
    "import matplotlib.font_manager as fm\n",
    "fonts = fm.findSystemFonts()\n",
    "fonts"
   ]
  },
  {
   "cell_type": "code",
   "execution_count": null,
   "metadata": {},
   "outputs": [],
   "source": [
    "csv_in='Kuramoto_1.csv'\n",
    "df = pd.read_csv(csv_in,  skiprows=0, header=0, encoding='shift_jis')\n",
    "print(df.shape)\n",
    "print(df.info())\n",
    "display(df.head())"
   ]
  },
  {
   "cell_type": "code",
   "execution_count": null,
   "metadata": {},
   "outputs": [],
   "source": [
    "df_wood= df[df['構造']=='木造']\n",
    "display(df_wood)"
   ]
  },
  {
   "cell_type": "code",
   "execution_count": null,
   "metadata": {},
   "outputs": [],
   "source": [
    "df2 = df_wood[['建築年代','被害度合','割合']]\n",
    "display(df2)"
   ]
  },
  {
   "cell_type": "code",
   "execution_count": null,
   "metadata": {},
   "outputs": [],
   "source": [
    "pivot = pd.pivot_table(df2, values=\"割合\", columns=\"被害度合\", index='建築年代',aggfunc=\"sum\")\n",
    "display(pivot)"
   ]
  },
  {
   "cell_type": "code",
   "execution_count": null,
   "metadata": {},
   "outputs": [],
   "source": [
    "height = np.zeros(pivot.shape[0])\n",
    "X = np.array(range(pivot.shape[0]))\n",
    "plt.xticks(X, pivot.index)\n",
    "for i,r in pivot.T.iterrows():\n",
    "    plt.bar(X, r, bottom=height, label=r.name)\n",
    "    height+=r\n",
    "plt.xlabel('Category')\n",
    "plt.ylabel('Annual Spending (m.u.)')\n",
    "plt.xticks(rotation=90)\n",
    "plt.legend()\n",
    "plt.show()"
   ]
  },
  {
   "cell_type": "code",
   "execution_count": null,
   "metadata": {},
   "outputs": [],
   "source": []
  },
  {
   "cell_type": "code",
   "execution_count": null,
   "metadata": {},
   "outputs": [],
   "source": []
  }
 ],
 "metadata": {
  "kernelspec": {
   "display_name": "datasienceict",
   "language": "python",
   "name": "python3"
  },
  "language_info": {
   "codemirror_mode": {
    "name": "ipython",
    "version": 3
   },
   "file_extension": ".py",
   "mimetype": "text/x-python",
   "name": "python",
   "nbconvert_exporter": "python",
   "pygments_lexer": "ipython3",
   "version": "3.8.20"
  }
 },
 "nbformat": 4,
 "nbformat_minor": 4
}
