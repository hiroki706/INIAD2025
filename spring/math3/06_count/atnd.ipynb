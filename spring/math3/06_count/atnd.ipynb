{
 "cells": [
  {
   "cell_type": "code",
   "execution_count": 1,
   "id": "5e1a1cc1",
   "metadata": {},
   "outputs": [
    {
     "name": "stdout",
     "output_type": "stream",
     "text": [
      "a^2が偶数であるとき、aを奇数と仮定する\n",
      "a = 2 * k + 1 (0<= k)\n",
      "a^2 = (2 * k + 1)^2\n",
      "     = 4 * k^2 + 4 * k + 1\n",
      "     = 2 * (2 * k^2 + 2 * k) + 1\n",
      "a^2は奇数である\n",
      "a^2が偶数であると仮定したが、a^2は奇数である\n",
      "よって、aは偶数である\n",
      "証明完了\n"
     ]
    }
   ],
   "source": [
    "# aは整数である場合、以下の定理を証明しなさい。\n",
    "# a^2が偶数であるときaは偶数です。\n",
    "# ヒント：間接証明を使用。「aは奇数と仮定する…」からスタートする。\n",
    "\n",
    "\n",
    "print(\"a^2が偶数であるとき、aを奇数と仮定する\")\n",
    "print(\"a = 2 * k + 1 (0<= k)\")\n",
    "\n",
    "print(\"a^2 = (2 * k + 1)^2\")\n",
    "print(\"     = 4 * k^2 + 4 * k + 1\")\n",
    "print(\"     = 2 * (2 * k^2 + 2 * k) + 1\")\n",
    "print(\"a^2は奇数である\")\n",
    "print(\"a^2が偶数であると仮定したが、a^2は奇数である\")\n",
    "print(\"よって、aは偶数である\")\n",
    "print(\"証明完了\")\n"
   ]
  },
  {
   "cell_type": "code",
   "execution_count": 2,
   "id": "154fab82",
   "metadata": {},
   "outputs": [
    {
     "name": "stdout",
     "output_type": "stream",
     "text": [
      "重複を許さない場合、3桁の数字は以下のように計算できます。\n",
      "3桁の数字の総数: 120\n",
      "400未満の数字を数える\n",
      "400未満の数字の総数: 40\n",
      "5の倍数の数字を数える\n",
      "5の倍数の数字の総数: 20\n"
     ]
    }
   ],
   "source": [
    "# 重複を許してない場合\n",
    "# (a) 2, 3, 5, 6, 7, 9の6つの数字から作成できる3桁の数字はいくつありますか？\n",
    "# (b) これら ((a)から) の数字のうち、400未満の数字はいくつありますか？\n",
    "# (c) これら ((a)から) の数字のうち、5の倍数の数字はいくつありますか？\n",
    "import itertools\n",
    "import math\n",
    "# (a) 重複を許さない場合、3桁の数字は以下のように計算できます。\n",
    "print(\"重複を許さない場合、3桁の数字は以下のように計算できます。\")\n",
    "numbers = [2, 3, 5, 6, 7, 9]\n",
    "three_digit_numbers = [f\"{x[0]}{x[1]}{x[2]}\" for x in itertools.permutations(numbers, 3)]\n",
    "print(\"3桁の数字の総数:\", len(three_digit_numbers))\n",
    "# (b) 400未満の数字を数える\n",
    "print(\"400未満の数字を数える\")\n",
    "count_b = sum(1 for num in three_digit_numbers if int(num) < 400)\n",
    "print(\"400未満の数字の総数:\", count_b)\n",
    "# (c) 5の倍数の数字を数える\n",
    "print(\"5の倍数の数字を数える\")\n",
    "count_c = sum(1 for num in three_digit_numbers if int(num) % 5 == 0)\n",
    "print(\"5の倍数の数字の総数:\", count_c)"
   ]
  },
  {
   "cell_type": "code",
   "execution_count": 4,
   "id": "dcc6a662",
   "metadata": {},
   "outputs": [
    {
     "name": "stdout",
     "output_type": "stream",
     "text": [
      "\n",
      "itertools.product()\n",
      "リストを引数にとり、重複組み合わせを返す関数\n",
      ">>> from itertools import product\n",
      ">>> list(product([1, 2], repeat=2))\n",
      "[(1, 1), (1, 2), (2, 1), (2, 2)]\n",
      "\n",
      "\n",
      "itertools.permutations()\n",
      "リストを引数にとり、順列を返す関数\n",
      ">>> from itertools import permutations\n",
      ">>> list(permutations([1, 2], 2))\n",
      "[(1, 2), (2, 1)]\n",
      "\n",
      "\n",
      "itertools.combinations()\n",
      "リストを引数にとり、順序なしの組み合わせを返す関数\n",
      ">>> from itertools import combinations\n",
      ">>> list(combinations([1, 2, 3], 2))\n",
      "[(1, 2), (1, 3), (2, 3)]\n",
      "\n",
      "\n",
      "itertools.combinations_with_replacement()\n",
      "リストを引数にとり、順序なしの組み合わせを返す関数（重複を許す）\n",
      ">>> from itertools import combinations_with_replacement\n",
      ">>> list(combinations_with_replacement([1, 2], 2))\n",
      "[(1, 1), (1, 2), (2, 2)]\n",
      "\n"
     ]
    }
   ],
   "source": [
    "# Pythonのitertoolsモジュールから、4つの組合せイテレータを調べてください。 これら4つの関数を自分の言葉で説明し、それぞれに1つの例（サンプル入力と出力を含むPythonコード）をあげてください。\n",
    "import doctest\n",
    "def describe_product():\n",
    "    \"\"\"\n",
    "    itertools.product()\n",
    "    リストを引数にとり、重複組み合わせを返す関数\n",
    "    >>> from itertools import product\n",
    "    >>> list(product([1, 2], repeat=2))\n",
    "    [(1, 1), (1, 2), (2, 1), (2, 2)]\n",
    "    \"\"\"\n",
    "    pass\n",
    "def describe_permutations():\n",
    "    \"\"\"\n",
    "    itertools.permutations()\n",
    "    リストを引数にとり、順列を返す関数\n",
    "    >>> from itertools import permutations\n",
    "    >>> list(permutations([1, 2], 2))\n",
    "    [(1, 2), (2, 1)]\n",
    "    \"\"\"\n",
    "    pass\n",
    "def describe_combinations():\n",
    "    \"\"\"\n",
    "    itertools.combinations()\n",
    "    リストを引数にとり、順序なしの組み合わせを返す関数\n",
    "    >>> from itertools import combinations\n",
    "    >>> list(combinations([1, 2, 3], 2))\n",
    "    [(1, 2), (1, 3), (2, 3)]\n",
    "    \"\"\"\n",
    "    pass\n",
    "def describe_combinations_with_replacement():\n",
    "    \"\"\"\n",
    "    itertools.combinations_with_replacement()\n",
    "    リストを引数にとり、順序なしの組み合わせを返す関数（重複を許す）\n",
    "    >>> from itertools import combinations_with_replacement\n",
    "    >>> list(combinations_with_replacement([1, 2], 2))\n",
    "    [(1, 1), (1, 2), (2, 2)]\n",
    "    \"\"\"\n",
    "    pass\n",
    "# doctestを実行して、上記の関数の説明と例を確認します。\n",
    "if __name__ == \"__main__\":\n",
    "    doctest.testmod()\n",
    "    print(describe_product.__doc__)\n",
    "    print(describe_permutations.__doc__)\n",
    "    print(describe_combinations.__doc__)\n",
    "    print(describe_combinations_with_replacement.__doc__)"
   ]
  },
  {
   "cell_type": "code",
   "execution_count": null,
   "id": "9bbea28c",
   "metadata": {},
   "outputs": [],
   "source": []
  }
 ],
 "metadata": {
  "kernelspec": {
   "display_name": ".venv",
   "language": "python",
   "name": "python3"
  },
  "language_info": {
   "codemirror_mode": {
    "name": "ipython",
    "version": 3
   },
   "file_extension": ".py",
   "mimetype": "text/x-python",
   "name": "python",
   "nbconvert_exporter": "python",
   "pygments_lexer": "ipython3",
   "version": "3.13.3"
  }
 },
 "nbformat": 4,
 "nbformat_minor": 5
}
