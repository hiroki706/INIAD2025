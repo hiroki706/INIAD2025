{
 "cells": [
  {
   "cell_type": "code",
   "execution_count": null,
   "metadata": {},
   "outputs": [],
   "source": [
    "#Cell_1.\n",
    "import numpy as np\n",
    "import pandas as pd\n",
    "import matplotlib.pyplot as plt\n",
    "import statsmodels.api as sm\n",
    "import statsmodels.formula.api as smf\n",
    "\n",
    "from sklearn.preprocessing import scale\n",
    "from sklearn.metrics import mean_squared_error\n",
    "\n",
    "import warnings\n",
    "warnings.simplefilter('ignore')\n",
    "\n",
    "import plotly\n",
    "\n",
    "plt.rcParams['font.family'] = 'Yu Mincho' # for Japanese in graph (Win)"
   ]
  },
  {
   "cell_type": "code",
   "execution_count": null,
   "metadata": {},
   "outputs": [],
   "source": [
    "#Cell_2.\n",
    "from greykite.algo.changepoint.adalasso.changepoint_detector import ChangepointDetector\n",
    "from greykite.algo.forecast.silverkite.constants.silverkite_column import SilverkiteColumn\n",
    "from greykite.common.features.timeseries_features import get_available_holidays_across_countries\n",
    "from greykite.framework.input.univariate_time_series import UnivariateTimeSeries\n",
    "from greykite.framework.templates.autogen.forecast_config import ForecastConfig\n",
    "from greykite.framework.templates.autogen.forecast_config import MetadataParam\n",
    "from greykite.framework.templates.autogen.forecast_config import ModelComponentsParam\n",
    "from greykite.framework.templates.forecaster import Forecaster\n",
    "from greykite.framework.templates.model_templates import ModelTemplateEnum\n",
    "from greykite.framework.utils.result_summary import summarize_grid_search_results"
   ]
  },
  {
   "cell_type": "code",
   "execution_count": null,
   "metadata": {},
   "outputs": [],
   "source": [
    "#Cell_3.\n",
    "csv_in=\"yields.csv\"\n",
    "df=pd.read_csv(csv_in,skiprows=0,header=0,delimiter=',',encoding=\"shift-jis\")\n",
    "print(df.shape) #確認\n",
    "print(df.head()) #確認\n",
    "print(type(df['time'][0]))"
   ]
  },
  {
   "cell_type": "code",
   "execution_count": null,
   "metadata": {},
   "outputs": [],
   "source": [
    "#Cell_4.\n",
    "from datetime import datetime\n",
    "for i in range(len(df)):\n",
    "    df.loc[i,'time']= datetime.fromtimestamp((df.loc[i,'time']/1000))"
   ]
  },
  {
   "cell_type": "code",
   "execution_count": null,
   "metadata": {},
   "outputs": [],
   "source": [
    "#Cell_5.\n",
    "display(df.head())\n",
    "display(df.tail())"
   ]
  },
  {
   "cell_type": "code",
   "execution_count": null,
   "metadata": {},
   "outputs": [],
   "source": [
    "#Cell_6.\n",
    "df_sorted = df.sort_values(by='time')\n",
    "display(df_sorted.tail(20))"
   ]
  },
  {
   "cell_type": "code",
   "execution_count": null,
   "metadata": {},
   "outputs": [],
   "source": [
    "#Cell_7.\n",
    "df_sorted['time']=pd.to_datetime(df_sorted['time'])\n",
    "df_sorted['time']=df_sorted['time'].dt.date\n",
    "\n",
    "df_sorted=df_sorted.reset_index(drop=True)\n",
    "df_sorted['time']=pd.to_datetime(df_sorted['time'])\n",
    "display(df_sorted.head())"
   ]
  },
  {
   "cell_type": "code",
   "execution_count": null,
   "metadata": {},
   "outputs": [],
   "source": [
    "#Cell_8.\n",
    "csv_in2=\"8316_2018.csv\"\n",
    "df2=pd.read_csv(csv_in2,skiprows=1,header=0,delimiter=',',encoding=\"shift-jis\")\n",
    "print(df2.shape) #確認\n",
    "print(df2.head()) #確認\n",
    "print(type(df2['日付'][0]))\n",
    "df2['日付']=pd.to_datetime(df2['日付'])\n",
    "print(type(df2['日付'][0]))"
   ]
  },
  {
   "cell_type": "code",
   "execution_count": null,
   "metadata": {},
   "outputs": [],
   "source": [
    "#Cell_9.\n",
    "df2.columns=['time','start','high','low','close','volume','adj-close']\n",
    "display(df2.head())"
   ]
  },
  {
   "cell_type": "code",
   "execution_count": null,
   "metadata": {},
   "outputs": [],
   "source": [
    "#Cell_10.\n",
    "df_merged=pd.merge(df2,df_sorted,on='time',how='left')\n",
    "display(df_merged.head())"
   ]
  },
  {
   "cell_type": "code",
   "execution_count": null,
   "metadata": {},
   "outputs": [],
   "source": [
    "#Cell_11.\n",
    "df_merged2=df_merged[['time','close','JP01','JP02','JP05','JP10','US01','US02','US05','US10']]\n",
    "\n",
    "print(df_merged2.shape)\n",
    "print(df_merged2.info())\n",
    "display(df_merged2.head())"
   ]
  },
  {
   "cell_type": "code",
   "execution_count": null,
   "metadata": {},
   "outputs": [],
   "source": [
    "#Cell_12.\n",
    "df2=df_merged2.fillna(method=\"ffill\")"
   ]
  },
  {
   "cell_type": "code",
   "execution_count": null,
   "metadata": {},
   "outputs": [],
   "source": [
    "#Cell_13.\n",
    "metadata = MetadataParam(\n",
    "    time_col=\"time\", # 日付の列名\n",
    "    value_col=\"close\", # 値の列名\n",
    "    freq=\"D\", # 日付の単位\n",
    "    train_end_date=pd.datetime(2018, 5, 20)\n",
    ")"
   ]
  },
  {
   "cell_type": "code",
   "execution_count": null,
   "metadata": {},
   "outputs": [],
   "source": [
    "#Cell_14.\n",
    "regressors=dict(\n",
    "    regressor_cols=[\n",
    "        ['JP01','JP02','JP05','JP10','US01','US02','US05','US10']\n",
    "    ]\n",
    ")"
   ]
  },
  {
   "cell_type": "code",
   "execution_count": null,
   "metadata": {},
   "outputs": [],
   "source": [
    "#Cell_15.\n",
    "yearly_seasonality_order = 10\n",
    "weekly_seasonality_order = 5\n",
    "seasonality = {\n",
    "    \"yearly_seasonality\": yearly_seasonality_order,\n",
    "    \"quarterly_seasonality\": False,\n",
    "    \"monthly_seasonality\": False,\n",
    "    \"weekly_seasonality\": weekly_seasonality_order,\n",
    "    \"daily_seasonality\": False\n",
    "}"
   ]
  },
  {
   "cell_type": "code",
   "execution_count": null,
   "metadata": {},
   "outputs": [],
   "source": [
    "#Cell_16.\n",
    "growth = {\n",
    " \"growth_term\": \"linear\"\n",
    "}\n",
    "changepoints = {\n",
    " \"changepoints_dict\": dict(\n",
    "     method=\"auto\",\n",
    "     yearly_seasonality_order=10,\n",
    "     regularization_strength=0.5,\n",
    "     resample_freq=\"7D\",\n",
    "     potential_changepoint_n=25,\n",
    "     yearly_seasonality_change_freq=\"365D\",\n",
    "     no_changepoint_distance_from_end=\"365D\"\n",
    " )\n",
    "}"
   ]
  },
  {
   "cell_type": "code",
   "execution_count": null,
   "metadata": {},
   "outputs": [],
   "source": [
    "#Cell_17.\n",
    "model_components = ModelComponentsParam(\n",
    "    seasonality=seasonality,\n",
    "    growth=growth,\n",
    "    #events=events,\n",
    "    #changepoints=changepoints,\n",
    "    autoregression=None,\n",
    "    regressors=regressors,\n",
    "    uncertainty={\n",
    "     \"uncertainty_dict\": \"auto\",\n",
    "    },\n",
    "    custom={\n",
    "     \"fit_algorithm_dict\": {\n",
    "         \"fit_algorithm\": \"ridge\",\n",
    "     },\n",
    "     #\"extra_pred_cols\": extra_pred_cols\n",
    "    }\n",
    ")"
   ]
  },
  {
   "cell_type": "code",
   "execution_count": null,
   "metadata": {},
   "outputs": [],
   "source": [
    "#Cell_18.\n",
    "forecaster = Forecaster()\n",
    "result = forecaster.run_forecast_config(\n",
    "    df=df2,\n",
    "    config=ForecastConfig(\n",
    "        model_template=ModelTemplateEnum.SILVERKITE.name,\n",
    "        forecast_horizon=14,\n",
    "        coverage=0.95, # 予測区間を95%に設定\n",
    "        metadata_param=metadata,\n",
    "        model_components_param=model_components\n",
    "    )\n",
    ")"
   ]
  },
  {
   "cell_type": "code",
   "execution_count": null,
   "metadata": {},
   "outputs": [],
   "source": [
    "#Cell_19.\n",
    "print(result.model[-1].summary(max_colwidth=50))"
   ]
  },
  {
   "cell_type": "code",
   "execution_count": null,
   "metadata": {},
   "outputs": [],
   "source": [
    "#Cell_20.\n",
    "backtest = result.backtest\n",
    "fig = backtest.plot()\n",
    "plotly.io.show(fig)"
   ]
  },
  {
   "cell_type": "code",
   "execution_count": null,
   "metadata": {},
   "outputs": [],
   "source": [
    "#Cell_21.\n",
    "fig = result.forecast.plot_components()\n",
    "plotly.io.show(fig)"
   ]
  },
  {
   "cell_type": "code",
   "execution_count": null,
   "metadata": {},
   "outputs": [],
   "source": [
    "#Cell_22.\n",
    "model = ChangepointDetector()\n",
    "res = model.find_trend_changepoints(\n",
    "    df=df2, # データフレーム\n",
    "    time_col=\"time\", # 日付の列名\n",
    "    value_col=\"close\", # 値の列名\n",
    "    yearly_seasonality_order=0, # 年周期を表現するためのフーリエ級数の次数(今回は年周期を仮定してないので0)\n",
    "    regularization_strength=0.5, # adaptive lassoの罰則の強さ(0~1の値)\n",
    "    resample_freq=\"7D\", # データを括る粒度\n",
    "    potential_changepoint_n=20, # 変化点の数、値を大きくすると計算負荷が高くなる\n",
    "    yearly_seasonality_change_freq=None, # 年周期の値が変わる間隔(今回は年周期ないので無視)\n",
    "    no_changepoint_distance_from_end=\"14D\", # ラスト14日は変化点なし\n",
    "    actual_changepoint_min_distance=\"7D\" # 変化点どうしの感覚は最低7日空ける\n",
    ")\n",
    "\n",
    "fig = model.plot(\n",
    "    observation=True,\n",
    "    trend_estimate=False,\n",
    "    trend_change=True,\n",
    "    yearly_seasonality_estimate=False,\n",
    "    adaptive_lasso_estimate=True,\n",
    "    plot=False)\n",
    "plotly.io.show(fig)"
   ]
  },
  {
   "cell_type": "code",
   "execution_count": null,
   "metadata": {},
   "outputs": [],
   "source": [
    "#Lets try a customized model.\n",
    "#Cell_23.\n",
    "growth = {\n",
    "    \"growth_term\": \"linear\" # 線形トレンド\n",
    "}\n",
    "\n",
    "changepoints = {\n",
    "    \"changepoints_dict\": {\n",
    "        \"method\": \"auto\",\n",
    "        \"yearly_seasonality_order\": 0,\n",
    "        \"regularization_strength\": 0.5,\n",
    "        \"resample_freq\": \"7D\",\n",
    "        \"potential_changepoint_n\": 20,\n",
    "        \"yearly_seasonality_change_freq\": None,\n",
    "        \"no_changepoint_distance_from_end\": \"14D\",\n",
    "        \"actual_changepoint_min_distance\": \"7D\"\n",
    "    }\n",
    "}\n",
    "\n",
    "seasonality = {\n",
    "    \"yearly_seasonality\": False,\n",
    "    \"quarterly_seasonality\": False,\n",
    "    \"monthly_seasonality\": False,\n",
    "    \"weekly_seasonality\": 2, # 週周期の次数\n",
    "    \"daily_seasonality\": False\n",
    "}\n",
    "\n",
    "events = {\n",
    "    \"holiday_lookup_countries\": None # 祝日なし\n",
    "}\n",
    "\n",
    "model_components = ModelComponentsParam(\n",
    "    seasonality=seasonality,\n",
    "    growth=growth,\n",
    "    changepoints=changepoints,\n",
    "    autoregression={\n",
    "        \"autoreg_dict\": None # 自己回帰の項なし\n",
    "    },\n",
    "    events=events,\n",
    "    regressors=regressors,\n",
    "    lagged_regressors={\n",
    "        \"lagged_regressor_dict\": None # 説明変数のラグも当然なし\n",
    "    },\n",
    "    custom={\n",
    "        \"fit_algorithm_dict\": {\n",
    "            \"fit_algorithm\": \"ridge\"\n",
    "        },\n",
    "        \"feature_sets_enabled\": {\n",
    "            SilverkiteColumn.COLS_DAY_OF_WEEK: False, # 曜日ダミーの有無\n",
    "            SilverkiteColumn.COLS_TREND_WEEKEND: False, # 平日/週末とトレンドとの交互作用の有無\n",
    "            SilverkiteColumn.COLS_TREND_DAY_OF_WEEK: False, # 曜日とトレンドとの交互作用の有無\n",
    "            SilverkiteColumn.COLS_TREND_WEEKLY_SEAS: False # 週周期の変化を許容するかどうか\n",
    "        }\n",
    "    },\n",
    "    uncertainty={\n",
    "        \"uncertainty_dict\": {\n",
    "            \"uncertainty_method\": \"simple_conditional_residuals\",\n",
    "            \"params\": {\n",
    "                \"quantiles\": [0.025, 0.975],\n",
    "                \"conditional_cols\": [\"month\"], # 予測区間を月ごとに計算する\n",
    "                \"quantile_estimation_method\": \"normal_fit\"\n",
    "            }\n",
    "\n",
    "        },\n",
    "    }\n",
    ")"
   ]
  },
  {
   "cell_type": "code",
   "execution_count": null,
   "metadata": {},
   "outputs": [],
   "source": [
    "#Cell_24.\n",
    "custom_result = forecaster.run_forecast_config(\n",
    "    df=df2,\n",
    "    config=ForecastConfig(\n",
    "        model_template=ModelTemplateEnum.SILVERKITE.name,\n",
    "        forecast_horizon=14,\n",
    "        coverage=0.95,  # 95% prediction intervals\n",
    "        model_components_param=model_components,\n",
    "        metadata_param=metadata\n",
    "    )\n",
    ")"
   ]
  },
  {
   "cell_type": "code",
   "execution_count": null,
   "metadata": {},
   "outputs": [],
   "source": [
    "#Cell_25.\n",
    "backtest = custom_result.backtest\n",
    "fig = backtest.plot()\n",
    "plotly.io.show(fig)"
   ]
  },
  {
   "cell_type": "code",
   "execution_count": null,
   "metadata": {},
   "outputs": [],
   "source": [
    "#Cell_26.\n",
    "print(custom_result.model[-1].summary(max_colwidth=50))"
   ]
  },
  {
   "cell_type": "code",
   "execution_count": null,
   "metadata": {},
   "outputs": [],
   "source": [
    "#Cell_27.\n",
    "fig = custom_result.forecast.plot_components()\n",
    "plotly.io.show(fig)"
   ]
  },
  {
   "cell_type": "code",
   "execution_count": null,
   "metadata": {},
   "outputs": [],
   "source": [
    "#Cell_28.\n",
    "custom_result.backtest.test_evaluation"
   ]
  }
 ],
 "metadata": {
  "kernelspec": {
   "display_name": "Python 3 (ipykernel)",
   "language": "python",
   "name": "python3"
  },
  "language_info": {
   "codemirror_mode": {
    "name": "ipython",
    "version": 3
   },
   "file_extension": ".py",
   "mimetype": "text/x-python",
   "name": "python",
   "nbconvert_exporter": "python",
   "pygments_lexer": "ipython3",
   "version": "3.7.1"
  }
 },
 "nbformat": 4,
 "nbformat_minor": 4
}
