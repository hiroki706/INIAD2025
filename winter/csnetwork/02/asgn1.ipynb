{
 "cells": [
  {
   "cell_type": "markdown",
   "id": "69fe80d5",
   "metadata": {},
   "source": [
    "# 1.\n",
    "\n",
    "* 下記の条件での、ホップごとの遅延 (per-hop delay) の値はいくつになりますか？\n",
    "\n",
    "  * 処理遅延 (Processing delay) = $0.1$ [ms]\n",
    "  * キューイング遅延 (Queueing delay) = $20$ [ms]\n",
    "  * リンクの距離 (Link distance) = $200$ [km]\n",
    "  * リンクの伝搬スピード (Link propagation speed) = $(2 \\times 10^8)$ [m/s]\n",
    "  * パケットサイズ (Packet size) = $1500$ [bytes]\n",
    "  * リンク伝送速度 (Link transmission rate) = $100$ [Mbps]\n",
    "\n",
    "* 途中の計算式も含めて，計算結果を回答してください /"
   ]
  },
  {
   "cell_type": "code",
   "execution_count": 8,
   "id": "4fa7d3e6",
   "metadata": {},
   "outputs": [
    {
     "data": {
      "text/plain": [
       "21.220000000000002"
      ]
     },
     "execution_count": 8,
     "metadata": {},
     "output_type": "execute_result"
    }
   ],
   "source": [
    "# 処理遅延\n",
    "process_delay = 0.1\n",
    "# キューイング遅延\n",
    "queue_delay = 20\n",
    "\n",
    "# 伝搬遅延\n",
    "prop_delay = (200*1000) / (2*10**8) * 1000\n",
    "# 送信遅延\n",
    "tx_delay = (1500 * 8) / (100*10**6) * 1000\n",
    "\n",
    "sum([process_delay, queue_delay, prop_delay, tx_delay])"
   ]
  },
  {
   "cell_type": "markdown",
   "id": "d1259d59",
   "metadata": {},
   "source": [
    "各遅延の内訳（単位は ms）\n",
    "\n",
    "* 処理遅延: $(D_{\\text{proc}} = 0.1)$\n",
    "* キューイング遅延: $(D_{\\text{queue}} = 20)$\n",
    "* 伝搬遅延:\n",
    "  ```math\n",
    "  D_{\\text{prop}}=\\frac{\\text{距離}}{\\text{伝搬速度}}\\\\\n",
    "  =\\frac{200,\\text{km}\\times 1000,\\text{m/km}}{2\\times 10^8,\\text{m/s}}\n",
    "  =\\frac{200{,}000}{200{,}000{,}000},\\\\\n",
    "  \\text{s}=0.001,\\text{s}=1.0\\text{ms}\n",
    "  ```\n",
    "* 伝送（送信）遅延:\n",
    "  ```math\n",
    "  D_{\\text{tx}}=\\frac{\\text{パケット長[bit]}}{\\text{レート[bit/s]}}\\\\\n",
    "  =\\frac{1500\\times 8}{100\\times 10^6},\\text{s}\n",
    "  =\\frac{12{,}000}{100{,}000{,}000},\\text{s}\n",
    "  =0.00012,\\text{s}=0.12,\\text{ms}\n",
    "  ```\n",
    "\n",
    "合計（per-hop delay）\n",
    "$$\n",
    "D_{\\text{hop}}=D_{\\text{proc}}+D_{\\text{queue}}+D_{\\text{prop}}+D_{\\text{tx}}\n",
    "=0.1+20+1.0+0.12=21.22,\\text{ms}\n",
    "$$\n",
    "\n",
    "# 答え\n",
    "\n",
    "**ホップごとの遅延（per-hop delay）は 21.22 ms。**\n"
   ]
  },
  {
   "cell_type": "code",
   "execution_count": 20,
   "id": "e1788e54",
   "metadata": {},
   "outputs": [
    {
     "data": {
      "text/plain": [
       "TestResults(failed=0, attempted=2)"
      ]
     },
     "execution_count": 20,
     "metadata": {},
     "output_type": "execute_result"
    }
   ],
   "source": [
    "def calc_hop_delay(\n",
    "    proc_delay: float,\n",
    "    queue_delay: float,\n",
    "    link_distance: float,\n",
    "    propagation_speed: float,\n",
    "    pkt_size: int,\n",
    "    transmission_rate: float,\n",
    ") -> float:\n",
    "    \"\"\"\n",
    "    Parameters\n",
    "    ----------\n",
    "    proc_delay : float\n",
    "        処理遅延 (Processing delay) [s]\n",
    "    queue_delay : float\n",
    "        キューイング遅延 (Queueing delay) [s]\n",
    "    link_distance : float\n",
    "        リンクの距離 (Link distance) [m]\n",
    "    propagation_speed : float\n",
    "        リンクの伝搬スピード (Link propagation speed) [m/s]\n",
    "    pkt_size : int\n",
    "        パケットサイズ (Packet size) [bytes]\n",
    "    transmission_rate : float\n",
    "        リンク伝送速度 (Link transmission rate) [bps]\n",
    "\n",
    "    Returns\n",
    "    -------\n",
    "    float\n",
    "        1ホップあたりの遅延 (per-hop delay) [s]\n",
    "\n",
    "    Example\n",
    "    -------\n",
    "    >>> per_hop_delay = calc_hop_delay(0.1/1000, 20/1000, 200*1000, 2*10**8, 1500, 100*10**6)\n",
    "    >>> f\"{per_hop_delay:.5f}\"\n",
    "    '0.02122'\n",
    "\n",
    "    Notes\n",
    "    -----\n",
    "    per-hop delay D_hop は次のように計算される:\n",
    "        D_hop = proc_delay + queue_delay + prop_delay + trans_delay\n",
    "\n",
    "    - prop_delay = link_distance / propagation_speed\n",
    "    - trans_delay = (pkt_size * 8) / transmission_rate\n",
    "    \"\"\"\n",
    "    # 伝搬遅延\n",
    "    prop_delay = link_distance / propagation_speed\n",
    "    # 伝送遅延\n",
    "    trans_delay = (pkt_size * 8) / transmission_rate\n",
    "    # 合計\n",
    "    return proc_delay + queue_delay + prop_delay + trans_delay\n",
    "import doctest\n",
    "doctest.testmod()"
   ]
  },
  {
   "cell_type": "markdown",
   "id": "f4802792",
   "metadata": {},
   "source": [
    "## 3. TCP輻輳制御における、スロースタートモードと輻輳回避モードについて、自分なりにまとめてください。"
   ]
  },
  {
   "cell_type": "markdown",
   "id": "1d8d1ff1",
   "metadata": {},
   "source": [
    "2つのモードは、cwnd(Congestion Window)という送信側が一度に送ってよいデータ量の上限をネットワークの混雑状況に応じて調整するためにある。\n",
    "スロースタートモードのcwndの初期値は1MSSほどで、1RTTごとにcwndが2倍になる指数関数的増加をする。素早くスループットを高める目的で使用されるがネットワーク混雑の影響を受けやすい。コネクション開始時、再送信タイムアウト時に使用される。cwndがある閾値(ssthresh)に到達したら輻輳回避モードになる。\n",
    "  ssthresh = if コネクション開始時 [最大ウィンドウサイズ] elif 再送信タイムアウト [その時点でのcwndの半分]\n",
    "輻輳回避モードでは1RTTごとにcwndが1MSSだけ増加する線形増加をする。つまりcwnd の増え方が穏やかになる。輻輳を起こさない範囲で安定した転送を続け、負荷をかけすぎないように徐々に帯域を探るモード。"
   ]
  }
 ],
 "metadata": {
  "kernelspec": {
   "display_name": "datasienceict",
   "language": "python",
   "name": "python3"
  },
  "language_info": {
   "codemirror_mode": {
    "name": "ipython",
    "version": 3
   },
   "file_extension": ".py",
   "mimetype": "text/x-python",
   "name": "python",
   "nbconvert_exporter": "python",
   "pygments_lexer": "ipython3",
   "version": "3.8.20"
  }
 },
 "nbformat": 4,
 "nbformat_minor": 5
}
