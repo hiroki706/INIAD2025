{
 "cells": [
  {
   "cell_type": "code",
   "execution_count": 2,
   "id": "d42a3f1b",
   "metadata": {},
   "outputs": [
    {
     "name": "stdout",
     "output_type": "stream",
     "text": [
      "15! = 1307674368000\n",
      "P(15, 12) = 217945728000\n",
      "C(15, 12) = 455\n"
     ]
    }
   ],
   "source": [
    "# Python（3.8以降）のmathモジュールのマニュアルページから、階乗、P(n, r) および C(n, r) を計算するための関数を検索しなさい。\n",
    "#     https://docs.python.org/ja/3.10/library/math.html (Python 3.10, 日本語版)\n",
    "#     https://docs.python.org/3.10/library/math.html (Python 3.10, English ver.)\n",
    "\n",
    "# 次に、以下を計算するためのPythonプログラムを作成しなさい。\n",
    "#  15!, P(15, 12), C(15, 12)\n",
    "\n",
    "import math\n",
    "\n",
    "print(\"15! =\", math.factorial(15))\n",
    "print(\"P(15, 12) =\", math.perm(15, 12))\n",
    "print(\"C(15, 12) =\", math.comb(15, 12))"
   ]
  },
  {
   "cell_type": "code",
   "execution_count": 11,
   "id": "2363330d",
   "metadata": {},
   "outputs": [
    {
     "data": {
      "text/plain": [
       "0.13333333333333333"
      ]
     },
     "execution_count": 11,
     "metadata": {},
     "output_type": "execute_result"
    }
   ],
   "source": [
    "(4 / 36) / (5 / 6)"
   ]
  },
  {
   "cell_type": "code",
   "execution_count": 8,
   "id": "646e79fa",
   "metadata": {},
   "outputs": [
    {
     "data": {
      "text/plain": [
       "0.13333333333333333"
      ]
     },
     "execution_count": 8,
     "metadata": {},
     "output_type": "execute_result"
    }
   ],
   "source": [
    "( 5 / 36 ) * (6 * 5)\n",
    "(25 / 6)\n",
    "2 /15"
   ]
  },
  {
   "cell_type": "code",
   "execution_count": 16,
   "id": "a0f0d923",
   "metadata": {},
   "outputs": [
    {
     "data": {
      "text/plain": [
       "0.3333333333333333"
      ]
     },
     "execution_count": 16,
     "metadata": {},
     "output_type": "execute_result"
    }
   ],
   "source": [
    "(10 / 36) / ( 5 /6)"
   ]
  },
  {
   "cell_type": "code",
   "execution_count": 13,
   "id": "4fc0e4e6",
   "metadata": {},
   "outputs": [
    {
     "data": {
      "text/plain": [
       "0.3333333333333333"
      ]
     },
     "execution_count": 13,
     "metadata": {},
     "output_type": "execute_result"
    }
   ],
   "source": [
    "1/3"
   ]
  },
  {
   "cell_type": "code",
   "execution_count": 17,
   "id": "4a0a07d7",
   "metadata": {},
   "outputs": [
    {
     "data": {
      "text/plain": [
       "0.1"
      ]
     },
     "execution_count": 17,
     "metadata": {},
     "output_type": "execute_result"
    }
   ],
   "source": [
    "(2 / 5) * (1/4)"
   ]
  },
  {
   "cell_type": "code",
   "execution_count": null,
   "id": "764f7888",
   "metadata": {},
   "outputs": [],
   "source": []
  }
 ],
 "metadata": {
  "kernelspec": {
   "display_name": ".venv",
   "language": "python",
   "name": "python3"
  },
  "language_info": {
   "codemirror_mode": {
    "name": "ipython",
    "version": 3
   },
   "file_extension": ".py",
   "mimetype": "text/x-python",
   "name": "python",
   "nbconvert_exporter": "python",
   "pygments_lexer": "ipython3",
   "version": "3.13.3"
  }
 },
 "nbformat": 4,
 "nbformat_minor": 5
}
