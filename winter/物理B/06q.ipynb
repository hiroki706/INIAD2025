{
 "cells": [
  {
   "cell_type": "markdown",
   "id": "6af02c99",
   "metadata": {},
   "source": [
    "以下の空欄に有効数字二桁の数字のみを入れよ．\n",
    "# 問題\n",
    "> 地表では鉛直下向きに大きさ$100[N/C]$の電場がある．真空の誘電率を$ε_0=8.85×10-12[C2/(N･m2)]$，地球の半径を$6400[km]$として，高度$80[km]$の電離層直下での電場の大きさ$E[N/C]$を求めよ．"
   ]
  },
  {
   "cell_type": "code",
   "execution_count": null,
   "id": "c6356770",
   "metadata": {},
   "outputs": [
    {
     "data": {
      "text/plain": [
       "97.54599999999999"
      ]
     },
     "execution_count": 2,
     "metadata": {},
     "output_type": "execute_result"
    }
   ],
   "source": [
    "# (6.4/6.48)**2\n",
    "# 100*0.97546"
   ]
  },
  {
   "cell_type": "markdown",
   "id": "38da03fa",
   "metadata": {},
   "source": [
    "了解！“地球（半径R）”と“電離層（高度hにある導電性の殻）”でできる**同心球コンデンサー**として考えると、最短でスッキリ解けます。1から順にいきます。\n",
    "\n",
    "---\n",
    "\n",
    "# 前提の整理\n",
    "\n",
    "* 地表（半径 (R=6400,\\mathrm{km}=6.4\\times10^6,\\mathrm{m})）では鉛直下向きに (E_0=100,\\mathrm{N/C})。\n",
    "* 電離層の高度は (h=80,\\mathrm{km}=8.0\\times10^4,\\mathrm{m})。\n",
    "* 真空の誘電率 (\\varepsilon_0=8.85\\times10^{-12},\\mathrm{C^2/(N\\cdot m^2)})。\n",
    "\n",
    "地球表面と電離層直下はどちらも（近似的に）導体面とみなせるので、**その間の電場は半径方向で、電荷は両殻に等量異符号で蓄えられている**と考えます。すると、**地表から電離層までの空間の電場は、中心電荷 (Q) によるクーロン場と同じ形（(\\propto 1/r^2))**になります。\n",
    "\n",
    "---\n",
    "\n",
    "# ステップ1：地表の電場から蓄積電荷（または面電荷密度）を結びつける\n",
    "\n",
    "導体のすぐ外の電場と面電荷密度 (\\sigma) は\n",
    "[\n",
    "E_0=\\frac{\\sigma}{\\varepsilon_0}\n",
    "]\n",
    "で結ばれます。よって\n",
    "[\n",
    "\\sigma=\\varepsilon_0 E_0\n",
    "]\n",
    "ですが、実は**最終目的（電離層直下の電場）には (\\sigma) や (Q) を数値で出す必要はありません**。理由は次のステップ。\n",
    "\n",
    "---\n",
    "\n",
    "# ステップ2：半径依存性（(\\boldsymbol{1/r^2})）で電場をスケールさせる\n",
    "\n",
    "ガウスの法則で、半径 (r) の球面を貫く電束は一定（=内部の電荷 (Q)）なので、\n",
    "[\n",
    "E(r)\\cdot 4\\pi r^2=\\frac{Q}{\\varepsilon_0}\\quad\\Rightarrow\\quad\n",
    "E(r)=\\frac{Q}{4\\pi\\varepsilon_0}\\frac{1}{r^2}.\n",
    "]\n",
    "したがって、**同じ (Q)** に対して半径が (R) から (R+h) に変わると電場の比は\n",
    "[\n",
    "\\frac{E(R+h)}{E(R)}=\\left(\\frac{R}{R+h}\\right)^2.\n",
    "]\n",
    "よって求める電離層直下（(r=R+h)）での電場は\n",
    "[\n",
    "\\boxed{,E(R+h)=E_0\\left(\\frac{R}{R+h}\\right)^2,}.\n",
    "]\n",
    "\n",
    "---\n",
    "\n",
    "# ステップ3：数値計算\n",
    "\n",
    "* (R=6.4\\times10^6,\\mathrm{m})\n",
    "* (R+h=6.48\\times10^6,\\mathrm{m})\n",
    "\n",
    "[\n",
    "\\left(\\frac{R}{R+h}\\right)^2=\\left(\\frac{6.4}{6.48}\\right)^2\\approx 0.97546.\n",
    "]\n",
    "[\n",
    "E(R+h)=100\\times 0.97546\\approx 97.5,\\mathrm{N/C}.\n",
    "]\n",
    "\n",
    "---\n",
    "\n",
    "# 答え\n",
    "\n",
    "[\n",
    "\\boxed{E\\approx 9.75\\times10^{1}\\ \\mathrm{N/C}\\ (\\text{鉛直下向き})}\n",
    "]\n",
    "（有効数字2桁なら (,9.8\\times10^1,\\mathrm{N/C}) 程度）\n",
    "\n",
    "---\n",
    "\n",
    "## 補足（確認用に (Q) を出す場合）\n",
    "\n",
    "地表の (\\sigma=\\varepsilon_0 E_0\\approx 8.85\\times10^{-10},\\mathrm{C/m^2})。\n",
    "地球表面積 (4\\pi R^2) を掛けると\n",
    "[\n",
    "Q=\\sigma\\cdot 4\\pi R^2\\approx 4.6\\times10^5,\\mathrm{C}.\n",
    "]\n",
    "これを使って (E(R+h)=\\dfrac{1}{4\\pi\\varepsilon_0}\\dfrac{Q}{(R+h)^2}) としても同じ値になります。\n",
    "\n",
    "---\n",
    "\n",
    "要点は「地球—電離層を同心球コンデンサーとみなし、**ガウスの法則で電場が (1/r^2) で弱まる**」ことだけ押さえればOKです。\n"
   ]
  }
 ],
 "metadata": {
  "kernelspec": {
   "display_name": "datasienceict",
   "language": "python",
   "name": "python3"
  },
  "language_info": {
   "codemirror_mode": {
    "name": "ipython",
    "version": 3
   },
   "file_extension": ".py",
   "mimetype": "text/x-python",
   "name": "python",
   "nbconvert_exporter": "python",
   "pygments_lexer": "ipython3",
   "version": "3.11.13"
  }
 },
 "nbformat": 4,
 "nbformat_minor": 5
}
