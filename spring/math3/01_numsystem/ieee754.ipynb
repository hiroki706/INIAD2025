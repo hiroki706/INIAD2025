{
 "cells": [
  {
   "cell_type": "markdown",
   "id": "3a3f1c2e",
   "metadata": {},
   "source": [
    "ある数値のIEEE 754表現（単精度浮動小数点数）は、次に示すように16進数に変換されています。元の数値は正または負ですか？なぜ？\n",
    "\n",
    "# *A101B404*"
   ]
  },
  {
   "cell_type": "code",
   "execution_count": 2,
   "id": "be95dd14",
   "metadata": {},
   "outputs": [
    {
     "name": "stdout",
     "output_type": "stream",
     "text": [
      "16進数: A101B404\n",
      "2進数: 10100001000000011011010000000100\n"
     ]
    }
   ],
   "source": [
    "# ある数値のIEEE 754表現（単精度浮動小数点数）は、次に示すように16進数に変換されています。元の数値は正または負ですか？なぜ？\n",
    "\n",
    "float_num = \"A101B404\"\n",
    "\n",
    "# 16進数を2進数に変換して表示してみる\n",
    "binary_num = bin(int(float_num, 16))[2:].zfill(32)\n",
    "print(f\"16進数: {float_num}\")\n",
    "print(f\"2進数: {binary_num}\")"
   ]
  },
  {
   "cell_type": "code",
   "execution_count": 4,
   "id": "15d9b789",
   "metadata": {},
   "outputs": [
    {
     "data": {
      "text/plain": [
       "'負'"
      ]
     },
     "execution_count": 4,
     "metadata": {},
     "output_type": "execute_result"
    }
   ],
   "source": [
    "# 符号ビットを取得\n",
    "sign_bit = binary_num[0]\n",
    "# 符号ビットが0なら正、1なら負\n",
    "if sign_bit == '0':\n",
    "    sign = \"正\"\n",
    "else:\n",
    "    sign = \"負\"\n",
    "sign"
   ]
  },
  {
   "cell_type": "code",
   "execution_count": null,
   "id": "97963445",
   "metadata": {},
   "outputs": [],
   "source": [
    "# IEEE 754の符号ビットは最初の1ビットで、0なら正、1なら負を示します。\n",
    "# この場合、符号ビットは1なので、元の数値は負です。\n",
    "\n",
    "# 上に示されている16進数を2進数に変換すると、10100001000000011011010000000100。先頭の1ビットが1なので元の数値が負であることが分かる。"
   ]
  },
  {
   "cell_type": "code",
   "execution_count": 6,
   "id": "12e9d6b3",
   "metadata": {},
   "outputs": [
    {
     "name": "stdout",
     "output_type": "stream",
     "text": [
      "元の数値: -4.394514877425248e-19\n"
     ]
    }
   ],
   "source": [
    "import numpy as np\n",
    "int_data = int(float_num, 16)\n",
    "# 32bit整数をnumpyのfloat32型に変換\n",
    "u32_data = np.uint32(int_data)\n",
    "f32_data = np.frombuffer(u32_data.tobytes(), dtype=np.float32)[0]\n",
    "\n",
    "print(f\"元の数値: {f32_data}\")"
   ]
  },
  {
   "cell_type": "code",
   "execution_count": null,
   "id": "b5d97e94",
   "metadata": {},
   "outputs": [],
   "source": []
  }
 ],
 "metadata": {
  "kernelspec": {
   "display_name": ".venv",
   "language": "python",
   "name": "python3"
  },
  "language_info": {
   "codemirror_mode": {
    "name": "ipython",
    "version": 3
   },
   "file_extension": ".py",
   "mimetype": "text/x-python",
   "name": "python",
   "nbconvert_exporter": "python",
   "pygments_lexer": "ipython3",
   "version": "3.13.3"
  }
 },
 "nbformat": 4,
 "nbformat_minor": 5
}
