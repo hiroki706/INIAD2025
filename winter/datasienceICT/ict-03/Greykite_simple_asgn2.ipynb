{
 "cells": [
  {
   "cell_type": "code",
   "execution_count": null,
   "metadata": {
    "colab": {
     "base_uri": "https://localhost:8080/",
     "height": 384,
     "output_embedded_package_id": "1ce_CGbp83cyFVIBQazQfRMVoJVDXVG5U"
    },
    "executionInfo": {
     "elapsed": 59460,
     "status": "ok",
     "timestamp": 1726231092362,
     "user": {
      "displayName": "honda hirotada",
      "userId": "05978163151942341108"
     },
     "user_tz": -540
    },
    "id": "R2GJ-BTdVcSY",
    "outputId": "98bb9594-7171-42ee-96af-c03c5d8c72ea"
   },
   "outputs": [],
   "source": [
    "#Cell_1.\n",
    "import numpy as np\n",
    "import pandas as pd\n",
    "import matplotlib.pyplot as plt\n",
    "import statsmodels.api as sm\n",
    "import statsmodels.formula.api as smf\n",
    "\n",
    "import warnings\n",
    "warnings.simplefilter('ignore')\n",
    "\n",
    "import plotly\n",
    "\n",
    "from plotly.offline import init_notebook_mode, iplot\n",
    "init_notebook_mode()\n",
    "\n",
    "from sklearn.preprocessing import scale\n",
    "from sklearn.metrics import mean_squared_error\n",
    "\n",
    "\n",
    "plt.rcParams['font.family'] = 'Noto Sans' # for Japanese in graph (L)"
   ]
  },
  {
   "cell_type": "code",
   "execution_count": null,
   "metadata": {
    "executionInfo": {
     "elapsed": 2007,
     "status": "ok",
     "timestamp": 1726231126861,
     "user": {
      "displayName": "honda hirotada",
      "userId": "05978163151942341108"
     },
     "user_tz": -540
    },
    "id": "eRMX15RJVcSg"
   },
   "outputs": [],
   "source": [
    "#Cell_2.\n",
    "from greykite.algo.changepoint.adalasso.changepoint_detector import ChangepointDetector\n",
    "from greykite.algo.forecast.silverkite.constants.silverkite_column import SilverkiteColumn\n",
    "from greykite.common.features.timeseries_features import get_available_holidays_across_countries\n",
    "from greykite.framework.input.univariate_time_series import UnivariateTimeSeries\n",
    "from greykite.framework.templates.autogen.forecast_config import ForecastConfig\n",
    "from greykite.framework.templates.autogen.forecast_config import MetadataParam\n",
    "from greykite.framework.templates.autogen.forecast_config import ModelComponentsParam\n",
    "from greykite.framework.templates.forecaster import Forecaster\n",
    "from greykite.framework.templates.model_templates import ModelTemplateEnum\n",
    "from greykite.framework.utils.result_summary import summarize_grid_search_results"
   ]
  },
  {
   "cell_type": "code",
   "execution_count": null,
   "metadata": {
    "colab": {
     "base_uri": "https://localhost:8080/",
     "height": 356
    },
    "executionInfo": {
     "elapsed": 642,
     "status": "error",
     "timestamp": 1726231132478,
     "user": {
      "displayName": "honda hirotada",
      "userId": "05978163151942341108"
     },
     "user_tz": -540
    },
    "id": "VMBE332NVcSh",
    "outputId": "8db68db8-59ea-4a2d-b633-cd0c06ec62a0"
   },
   "outputs": [],
   "source": [
    "#Cell_3.\n",
    "mufj_csv=\"8316_2018.csv\"\n",
    "mufj=pd.read_csv(mufj_csv,skiprows=1,header=0,delimiter=',',encoding=\"shift-jis\")\n",
    "print(mufj.shape) #確認\n",
    "print(mufj.head()) #確認\n",
    "print(type(mufj['日付'][0]))\n",
    "mufj['日付']=pd.to_datetime(mufj['日付'])\n",
    "print(type(mufj['日付'][0]))"
   ]
  },
  {
   "cell_type": "code",
   "execution_count": null,
   "metadata": {
    "colab": {
     "base_uri": "https://localhost:8080/",
     "height": 211
    },
    "executionInfo": {
     "elapsed": 347,
     "status": "error",
     "timestamp": 1726231152131,
     "user": {
      "displayName": "honda hirotada",
      "userId": "05978163151942341108"
     },
     "user_tz": -540
    },
    "id": "BOnPIYCLVcSi",
    "outputId": "f232587f-48b1-4454-e2ea-961b634c1c5e"
   },
   "outputs": [],
   "source": [
    "#Cell_4.\n",
    "ts = UnivariateTimeSeries()\n",
    "ts.load_data(\n",
    "    df=mufj,\n",
    "    time_col=\"日付\", # 日付の列\n",
    "    value_col=\"終値\", # 値の列\n",
    "    freq=\"D\" # 日付の単位\n",
    ")"
   ]
  },
  {
   "cell_type": "code",
   "execution_count": null,
   "metadata": {
    "id": "kzWwFlXmVcSj",
    "outputId": "9921685a-f42d-4d16-a81f-67176e06f864"
   },
   "outputs": [],
   "source": [
    "#Cell_5.\n",
    "fig = ts.plot()\n",
    "plotly.io.show(fig)"
   ]
  },
  {
   "cell_type": "code",
   "execution_count": null,
   "metadata": {},
   "outputs": [],
   "source": [
    "#Cell_6 課題2 Cell6で一週間ごとの移動平均をプロットしている。 これを一か月ごとに変更して実行せよ。\n",
    "fig = ts.plot_grouping_evaluation(\n",
    "    # デフォルトでは平均を計算する(任意の集計方法を指定可能)\n",
    "    groupby_sliding_window_size=30, # 集計する粒度(7の場合、t-3~t+3の7日間の平均を計算)\n",
    "    title=\"Monthly average\")\n",
    "plotly.io.show(fig)"
   ]
  },
  {
   "cell_type": "code",
   "execution_count": null,
   "metadata": {
    "id": "IEh6PlgsVcSk",
    "outputId": "60c52833-1c4a-4ef3-bd5d-66eb0fd9881b"
   },
   "outputs": [],
   "source": [
    "#Cell_6.\n",
    "# fig = ts.plot_grouping_evaluation(\n",
    "#     # デフォルトでは平均を計算する(任意の集計方法を指定可能)\n",
    "#     groupby_sliding_window_size=7, # 集計する粒度(7の場合、t-3~t+3の7日間の平均を計算)\n",
    "#     title=\"Weekly average\")\n",
    "# plotly.io.show(fig)"
   ]
  },
  {
   "cell_type": "code",
   "execution_count": null,
   "metadata": {
    "id": "qh9dV1NvVcSl",
    "outputId": "d5dc0908-5b9d-4483-b302-743577a63717"
   },
   "outputs": [],
   "source": [
    "#Cell_7.\n",
    "fig = ts.plot_quantiles_and_overlays(\n",
    "    groupby_time_feature=\"dow\", # \"day of week\"の略\n",
    "    show_mean=True, # 平均も描画\n",
    "    show_quantiles=[0.1, 0.5, 0.9], # 各分位点も描画 # type: ignore\n",
    "    center_values=True # 中央化の有無\n",
    ")\n",
    "plotly.io.show(fig)"
   ]
  },
  {
   "cell_type": "code",
   "execution_count": null,
   "metadata": {},
   "outputs": [],
   "source": [
    "#Cell_7.\n",
    "fig = ts.plot_quantiles_and_overlays(\n",
    "    groupby_time_feature=\"woy\", # \"week of year\"の略\n",
    "    show_mean=True, # 平均も描画\n",
    "    show_quantiles=[0.1, 0.5, 0.9], # 各分位点も描画 # type: ignore\n",
    "    center_values=True # 中央化の有無\n",
    ")\n",
    "plotly.io.show(fig)"
   ]
  },
  {
   "cell_type": "code",
   "execution_count": null,
   "metadata": {},
   "outputs": [],
   "source": [
    "#Cell_7.\n",
    "fig = ts.plot_quantiles_and_overlays(\n",
    "    groupby_time_feature=\"doy\", # \"day of year\"の略\n",
    "    show_mean=True, # 平均も描画\n",
    "    show_quantiles=[0.1, 0.5, 0.9], # 各分位点も描画 # type: ignore\n",
    "    center_values=True # 中央化の有無\n",
    ")\n",
    "plotly.io.show(fig)"
   ]
  },
  {
   "cell_type": "code",
   "execution_count": null,
   "metadata": {
    "id": "M3Zi8QgGVcSm"
   },
   "outputs": [],
   "source": [
    "#Cell_8.\n",
    "metadata = MetadataParam(\n",
    "    time_col=\"日付\", # 日付の列名\n",
    "    value_col=\"終値\", # 値の列名\n",
    "    freq=\"D\" # 日付の単位\n",
    ")"
   ]
  },
  {
   "cell_type": "code",
   "execution_count": null,
   "metadata": {
    "id": "qzOVvNajVcSn",
    "outputId": "2d430dd2-5896-486a-de60-219ddd5a4eb2"
   },
   "outputs": [],
   "source": [
    "#Cell_9.\n",
    "forecaster = Forecaster()\n",
    "result = forecaster.run_forecast_config(\n",
    "    df=mufj,\n",
    "    config=ForecastConfig(\n",
    "        model_template=ModelTemplateEnum.SILVERKITE.name,\n",
    "        forecast_horizon=30,\n",
    "        coverage=0.95, # 予測区間を95%に設定\n",
    "        metadata_param=metadata\n",
    "    )\n",
    ")"
   ]
  },
  {
   "cell_type": "code",
   "execution_count": null,
   "metadata": {},
   "outputs": [],
   "source": [
    "result.backtest.test_evaluation"
   ]
  },
  {
   "cell_type": "code",
   "execution_count": null,
   "metadata": {
    "id": "PnWuserHVcSo",
    "outputId": "71cbda91-c842-4c4c-812b-bdcd0693fa20"
   },
   "outputs": [],
   "source": [
    "#Cell_10.\n",
    "print(result.model[-1].summary(max_colwidth=50))"
   ]
  },
  {
   "cell_type": "code",
   "execution_count": null,
   "metadata": {
    "id": "J7rLAS_xVcSp",
    "outputId": "b577ee0c-6ac3-4cdb-b630-639e6360f660"
   },
   "outputs": [],
   "source": [
    "#Cell_11.\n",
    "backtest = result.backtest\n",
    "fig = backtest.plot()\n",
    "plotly.io.show(fig)"
   ]
  },
  {
   "cell_type": "code",
   "execution_count": null,
   "metadata": {
    "id": "H7I3ofj6VcSp",
    "outputId": "ca8273cd-52e1-4725-f848-e5336834dd24"
   },
   "outputs": [],
   "source": [
    "#Cell_12.\n",
    "fig = result.forecast.plot_components()\n",
    "plotly.io.show(fig)"
   ]
  },
  {
   "cell_type": "code",
   "execution_count": null,
   "metadata": {
    "id": "7gcBoG-SVcSq",
    "outputId": "c95e619f-b14a-4f1e-d5a6-7c938c259eb2"
   },
   "outputs": [],
   "source": [
    "#Cell_13.\n",
    "model = ChangepointDetector()\n",
    "res = model.find_trend_changepoints(\n",
    "    df=mufj, # データフレーム\n",
    "    time_col=\"日付\", # 日付の列名\n",
    "    value_col=\"終値\", # 値の列名\n",
    "    yearly_seasonality_order=0, # 年周期を表現するためのフーリエ級数の次数(今回は年周期を仮定してないので0)\n",
    "    regularization_strength=0.5, # adaptive lassoの罰則の強さ(0~1の値)\n",
    "    resample_freq=\"7D\", # データを括る粒度\n",
    "    potential_changepoint_n=20, # 変化点の数、値を大きくすると計算負荷が高くなる\n",
    "    yearly_seasonality_change_freq=None, # 年周期の値が変わる間隔(今回は年周期ないので無視)\n",
    "    no_changepoint_distance_from_end=\"14D\", # ラスト14日は変化点なし\n",
    "    actual_changepoint_min_distance=\"7D\" # 変化点どうしの感覚は最低7日空ける\n",
    ")\n",
    "\n",
    "fig = model.plot(\n",
    "    observation=True,\n",
    "    trend_estimate=False,\n",
    "    trend_change=True,\n",
    "    yearly_seasonality_estimate=False,\n",
    "    adaptive_lasso_estimate=True,\n",
    "    plot=False)\n",
    "plotly.io.show(fig)"
   ]
  },
  {
   "cell_type": "code",
   "execution_count": null,
   "metadata": {
    "id": "j7yHKJpUVcSq",
    "outputId": "49a50f59-b68f-4269-cf49-de6f1e426d6c"
   },
   "outputs": [],
   "source": [
    "#Cell_14.\n",
    "growth = {\n",
    "    \"growth_term\": \"linear\" # 線形トレンド\n",
    "}\n",
    "\n",
    "changepoints = {\n",
    "    \"changepoints_dict\": {\n",
    "        \"method\": \"auto\",\n",
    "        \"yearly_seasonality_order\": 0,\n",
    "        \"regularization_strength\": 0.5,\n",
    "        \"resample_freq\": \"7D\",\n",
    "        \"potential_changepoint_n\": 20,\n",
    "        \"yearly_seasonality_change_freq\": None,\n",
    "        \"no_changepoint_distance_from_end\": \"14D\",\n",
    "        \"actual_changepoint_min_distance\": \"7D\"\n",
    "    }\n",
    "}\n",
    "\n",
    "seasonality = {\n",
    "    \"yearly_seasonality\": False,\n",
    "    \"quarterly_seasonality\": False,\n",
    "    \"monthly_seasonality\": False,\n",
    "    \"weekly_seasonality\": 2, # 週周期の次数\n",
    "    \"daily_seasonality\": False\n",
    "}\n",
    "\n",
    "events = {\n",
    "    \"holiday_lookup_countries\": None # 祝日なし\n",
    "}\n",
    "\n",
    "model_components = ModelComponentsParam(\n",
    "    seasonality=seasonality,\n",
    "    growth=growth,\n",
    "    changepoints=changepoints,\n",
    "    autoregression={\n",
    "        \"autoreg_dict\": None # 自己回帰の項なし\n",
    "    },\n",
    "    events=events,\n",
    "    regressors=None, # 説明変数なし\n",
    "    lagged_regressors={\n",
    "        \"lagged_regressor_dict\": None # 説明変数のラグも当然なし\n",
    "    },\n",
    "    custom={\n",
    "        \"fit_algorithm_dict\": {\n",
    "            \"fit_algorithm\": \"ridge\"\n",
    "        },\n",
    "        \"feature_sets_enabled\": {\n",
    "            SilverkiteColumn.COLS_DAY_OF_WEEK: False, # 曜日ダミーの有無\n",
    "            SilverkiteColumn.COLS_TREND_WEEKEND: False, # 平日/週末とトレンドとの交互作用の有無\n",
    "            SilverkiteColumn.COLS_TREND_DAY_OF_WEEK: False, # 曜日とトレンドとの交互作用の有無\n",
    "            SilverkiteColumn.COLS_TREND_WEEKLY_SEAS: False # 週周期の変化を許容するかどうか\n",
    "        }\n",
    "    },\n",
    "    uncertainty={\n",
    "        \"uncertainty_dict\": {\n",
    "            \"uncertainty_method\": \"simple_conditional_residuals\",\n",
    "            \"params\": {\n",
    "                \"quantiles\": [0.025, 0.975],\n",
    "                \"conditional_cols\": [\"year\"], # 予測区間を月ごとに計算する\n",
    "                \"quantile_estimation_method\": \"normal_fit\"\n",
    "            }\n",
    "\n",
    "        },\n",
    "    }\n",
    ")\n",
    "\n",
    "\n",
    "# 実行\n",
    "custom_result = forecaster.run_forecast_config(\n",
    "    df=mufj,\n",
    "    config=ForecastConfig(\n",
    "        model_template=ModelTemplateEnum.SILVERKITE.name,\n",
    "        forecast_horizon=14,\n",
    "        coverage=0.95,  # 95% prediction intervals\n",
    "        model_components_param=model_components,\n",
    "        metadata_param=metadata\n",
    "    )\n",
    ")"
   ]
  },
  {
   "cell_type": "code",
   "execution_count": null,
   "metadata": {
    "id": "1H2IwjYHVcSr",
    "outputId": "3d79aa6e-cd70-4b75-91fb-2e1bb1f3e512"
   },
   "outputs": [],
   "source": [
    "#Cell_15.\n",
    "backtest = custom_result.backtest\n",
    "fig = backtest.plot()\n",
    "plotly.io.show(fig)"
   ]
  },
  {
   "cell_type": "code",
   "execution_count": null,
   "metadata": {
    "id": "CYXI0tGPVcSr",
    "outputId": "9433bc91-7864-423a-846c-4e8b45efc568"
   },
   "outputs": [],
   "source": [
    "#Cell_16.\n",
    "print(custom_result.model[-1].summary(max_colwidth=50))"
   ]
  },
  {
   "cell_type": "code",
   "execution_count": null,
   "metadata": {
    "id": "AhkG6i47VcSs",
    "outputId": "c8309a15-607f-4070-a94b-13c465674875"
   },
   "outputs": [],
   "source": [
    "#Cell_17.\n",
    "fig = custom_result.forecast.plot_components()\n",
    "plotly.io.show(fig)"
   ]
  },
  {
   "cell_type": "code",
   "execution_count": null,
   "metadata": {
    "id": "Yp7uCa0UVcSs",
    "outputId": "3b28648c-5e4b-440a-afd7-1c6aa135fe37"
   },
   "outputs": [],
   "source": [
    "#Cell_18.\n",
    "custom_result.backtest.test_evaluation"
   ]
  },
  {
   "cell_type": "code",
   "execution_count": null,
   "metadata": {},
   "outputs": [],
   "source": []
  }
 ],
 "metadata": {
  "colab": {
   "provenance": []
  },
  "kernelspec": {
   "display_name": "datasienceict",
   "language": "python",
   "name": "python3"
  },
  "language_info": {
   "codemirror_mode": {
    "name": "ipython",
    "version": 3
   },
   "file_extension": ".py",
   "mimetype": "text/x-python",
   "name": "python",
   "nbconvert_exporter": "python",
   "pygments_lexer": "ipython3",
   "version": "3.8.20"
  }
 },
 "nbformat": 4,
 "nbformat_minor": 4
}
