{
 "cells": [
  {
   "cell_type": "code",
   "execution_count": 1,
   "id": "48fec691",
   "metadata": {},
   "outputs": [
    {
     "name": "stdout",
     "output_type": "stream",
     "text": [
      "A x B =  [(1, 2), (1, 3), (2, 2), (2, 3), (3, 2), (3, 3), (4, 2), (4, 3)]\n"
     ]
    }
   ],
   "source": [
    "# A = { 1, 2, 3, 4 }, B = { 2, 3 }\n",
    "\n",
    "# Q1: A x B = ?\n",
    "import itertools\n",
    "A = { 1, 2, 3, 4 }\n",
    "B = { 2, 3 }\n",
    "cartesian_product = list(itertools.product(A, B))\n",
    "print(\"A x B = \", cartesian_product)"
   ]
  },
  {
   "cell_type": "code",
   "execution_count": 3,
   "id": "109710fc",
   "metadata": {},
   "outputs": [
    {
     "name": "stdout",
     "output_type": "stream",
     "text": [
      "A - B =  {1, 4}\n"
     ]
    }
   ],
   "source": [
    "# Q2: A - B = ?\n",
    "difference = A - B\n",
    "print(\"A - B = \", difference)"
   ]
  },
  {
   "cell_type": "code",
   "execution_count": 6,
   "id": "2dfa6429",
   "metadata": {},
   "outputs": [
    {
     "name": "stdout",
     "output_type": "stream",
     "text": [
      "expr1:  (Implies(p, q)) & (Implies(p, r))\n",
      "expr2:  Implies(p, q & r)\n"
     ]
    }
   ],
   "source": [
    "# 真理値表を使って、次のことを証明してください。\n",
    "# (p → q) ∧ (p → r) ≡ p → (q ∧ r)\n",
    "from sympy import symbols, Implies, And\n",
    "from sympy.logic.boolalg import truth_table\n",
    "p, q, r = symbols('p q r')\n",
    "expr1 = And(Implies(p, q), Implies(p, r))\n",
    "expr2 = Implies(p, And(q, r))\n",
    "print(\"expr1: \", expr1)\n",
    "print(\"expr2: \", expr2)"
   ]
  },
  {
   "cell_type": "code",
   "execution_count": 8,
   "id": "031c2cff",
   "metadata": {},
   "outputs": [
    {
     "data": {
      "text/plain": [
       "[([0, 0, 0], True),\n",
       " ([0, 0, 1], True),\n",
       " ([0, 1, 0], True),\n",
       " ([0, 1, 1], True),\n",
       " ([1, 0, 0], False),\n",
       " ([1, 0, 1], False),\n",
       " ([1, 1, 0], True),\n",
       " ([1, 1, 1], True)]"
      ]
     },
     "execution_count": 8,
     "metadata": {},
     "output_type": "execute_result"
    }
   ],
   "source": [
    "list(truth_table(Implies(p, q), [p, q, r]))"
   ]
  },
  {
   "cell_type": "code",
   "execution_count": 9,
   "id": "6121150d",
   "metadata": {},
   "outputs": [
    {
     "data": {
      "text/plain": [
       "[([0, 0, 0], True),\n",
       " ([0, 0, 1], True),\n",
       " ([0, 1, 0], True),\n",
       " ([0, 1, 1], True),\n",
       " ([1, 0, 0], False),\n",
       " ([1, 0, 1], True),\n",
       " ([1, 1, 0], False),\n",
       " ([1, 1, 1], True)]"
      ]
     },
     "execution_count": 9,
     "metadata": {},
     "output_type": "execute_result"
    }
   ],
   "source": [
    "list(truth_table(Implies(p, r), [p, q, r]))"
   ]
  },
  {
   "cell_type": "code",
   "execution_count": 10,
   "id": "11c65118",
   "metadata": {},
   "outputs": [
    {
     "data": {
      "text/plain": [
       "[([0, 0, 0], True),\n",
       " ([0, 0, 1], True),\n",
       " ([0, 1, 0], True),\n",
       " ([0, 1, 1], True),\n",
       " ([1, 0, 0], False),\n",
       " ([1, 0, 1], False),\n",
       " ([1, 1, 0], False),\n",
       " ([1, 1, 1], True)]"
      ]
     },
     "execution_count": 10,
     "metadata": {},
     "output_type": "execute_result"
    }
   ],
   "source": [
    "list(truth_table(And(Implies(p, q), Implies(p, r)), [p, q, r]))"
   ]
  },
  {
   "cell_type": "code",
   "execution_count": 11,
   "id": "bfddc412",
   "metadata": {},
   "outputs": [
    {
     "data": {
      "text/plain": [
       "[([0, 0, 0], True),\n",
       " ([0, 0, 1], True),\n",
       " ([0, 1, 0], True),\n",
       " ([0, 1, 1], True),\n",
       " ([1, 0, 0], False),\n",
       " ([1, 0, 1], False),\n",
       " ([1, 1, 0], False),\n",
       " ([1, 1, 1], True)]"
      ]
     },
     "execution_count": 11,
     "metadata": {},
     "output_type": "execute_result"
    }
   ],
   "source": [
    "list(truth_table(Implies(p, And(q, r)), [p, q, r]))"
   ]
  },
  {
   "cell_type": "code",
   "execution_count": null,
   "id": "69dd20a8",
   "metadata": {},
   "outputs": [],
   "source": []
  }
 ],
 "metadata": {
  "kernelspec": {
   "display_name": ".venv",
   "language": "python",
   "name": "python3"
  },
  "language_info": {
   "codemirror_mode": {
    "name": "ipython",
    "version": 3
   },
   "file_extension": ".py",
   "mimetype": "text/x-python",
   "name": "python",
   "nbconvert_exporter": "python",
   "pygments_lexer": "ipython3",
   "version": "3.13.3"
  }
 },
 "nbformat": 4,
 "nbformat_minor": 5
}
