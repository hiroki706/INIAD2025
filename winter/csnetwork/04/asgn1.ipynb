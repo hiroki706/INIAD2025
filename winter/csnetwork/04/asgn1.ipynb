{
 "cells": [
  {
   "cell_type": "markdown",
   "id": "fd54ada6",
   "metadata": {},
   "source": [
    "# 課題1\n",
    "> 既存のルーティングプロトコルとOpenFlowの違いについて自分なりにまとめてください。"
   ]
  },
  {
   "cell_type": "markdown",
   "id": "bffc5335",
   "metadata": {},
   "source": [
    "既存のルーティングプロトコルは分散型で各ルーターが自律的に動作するインターネットのようなものでスケーラビリティがいいが柔軟なルーティングや制御は難しい一方、OpenFlowはスイッチというノードをコントローラーが一元管理する中央集権型でソフトウェアから柔軟に制御できる"
   ]
  },
  {
   "cell_type": "markdown",
   "id": "c1a5789d",
   "metadata": {},
   "source": [
    "# 課題2\n",
    ">OSPFの問題: 以下のネットワークでルーターBの経路表はどのようになるか解答してください。"
   ]
  },
  {
   "cell_type": "markdown",
   "id": "1b81a5e4",
   "metadata": {},
   "source": [
    "```mermaid\n",
    "graph LR\n",
    "    A ---|2| B ---|3| E\n",
    "    A ---|1| C\n",
    "    B ---|1| D\n",
    "    C ---|3| D ---|1| E\n",
    "```"
   ]
  },
  {
   "cell_type": "markdown",
   "id": "1162e967",
   "metadata": {},
   "source": [
    "ただし、正解データは以下の形式で記述してください。(以下はルーターAの経路表)\n",
    "```\n",
    "{destination network=B: next hop=B}\n",
    "{destination network=C: next hop=C}\n",
    "{destination network=D: next hop=B}\n",
    "{destination network=E: next hop=B}\n",
    "```"
   ]
  },
  {
   "cell_type": "markdown",
   "id": "5601046b",
   "metadata": {},
   "source": [
    "# 課題3\n",
    "OpenFlowでのフローに関する問題\n",
    ">- フローを自分で定義し、本キャプチャデータにおける各フローのパケット数を調べて回答してください。\n",
    ">  - フローの例を記載\n",
    ">    1. (srcIP, dstIP)で定義\n",
    ">      - srcIP=192.168.1.2, dstIP=192.168.3.5\n",
    ">      - srcIP=192.168.1.7, dstIP=216.58.196.228\n",
    ">      - ...\n",
    ">    2. (srcIP,  srcPort, dstIP, dstPort, protocol)で定義\n",
    ">      - srcIP=192.168.1.2, srcPort=60006, dstIP=192.168.3.5, dstPort=80, protocol=TCP\n",
    ">      - srcIP=192.168.1.2, srcPort=50000, dstIP=192.168.3.12, dstPort=443, protocol=TCP\n",
    ">      - srcIP=192.168.1.7, srcPort=50011, dstIP=216.58.196.228, dstPort=80, protocol=TCP\n",
    ">      - ...\n",
    ">  - IPv6は無視してOK\n",
    ">- またその調査結果を踏まえて、(宛先IPアドレス毎にルーティングした場合と比べて)フロー単位で制御するときめ細かな制御ができる理由を自分なりに考えてのべてください。\n",
    ">- ヒント: WireSharkの「統計」>「対話」を選ぶといろんなレベルでパケット数が確認できます。"
   ]
  },
  {
   "cell_type": "markdown",
   "id": "0dda28e2",
   "metadata": {},
   "source": [
    "了解です！この課題は **OSPF（Shortest Path First）** の最短経路計算を、与えられたリンクコスト（辺の数字）で行い、**ルーターBから各宛先ネットワークへの「最初の一歩＝ネクストホップ」**を答える問題です。\n",
    "\n",
    "* 図の数字は **リンクコスト**（小さいほど好ましい）\n",
    "* OSPFは各ルーターが自分を始点に **最短コスト経路** を計算（ダイクストラ）\n",
    "* 経路表に載せる「next hop」は、**最短経路の“最初に出る隣接ルーター”**\n",
    "\n",
    "### 計算（Bを始点）\n",
    "\n",
    "* **A**: 直結 B–A=2 が最短（他経路は 5 以上）→ next hop **A**\n",
    "* **C**: B→A→C が 2+1=**3**、B→D→C は 1+3=4 → next hop **A**\n",
    "* **D**: 直結 B–D=**1** が最短 → next hop **D**\n",
    "* **E**: B→D→E が 1+1=**2**、直結 B–E=3 より安い → next hop **D**\n",
    "\n",
    "### 解答（ルーターBの経路表）\n",
    "\n",
    "```\n",
    "{destination network=A: next hop=A}\n",
    "{destination network=C: next hop=A}\n",
    "{destination network=D: next hop=D}\n",
    "{destination network=E: next hop=D}\n",
    "```\n",
    "\n",
    "ポイント：\n",
    "E行きが「直結のEではなくD経由」になるのは、**合計コスト 2（B→D→E）が 3（B→E）より小さい**からです。これこそがOSPFの「トポロジ全体の最短経路」を選ぶ動きです。\n"
   ]
  },
  {
   "cell_type": "code",
   "execution_count": 17,
   "id": "542bddb9",
   "metadata": {},
   "outputs": [
    {
     "data": {
      "text/html": [
       "<div><style>\n",
       ".dataframe > thead > tr,\n",
       ".dataframe > tbody > tr {\n",
       "  text-align: right;\n",
       "  white-space: pre-wrap;\n",
       "}\n",
       "</style>\n",
       "<small>shape: (5, 13)</small><table border=\"1\" class=\"dataframe\"><thead><tr><th>アドレス A</th><th>アドレス B</th><th>パケット</th><th>バイト</th><th>ストリームID</th><th>Packets A → B</th><th>Bytes A → B</th><th>Packets B → A</th><th>Bytes B → A</th><th>相対的な開始</th><th>時間</th><th>Bits/s A → B</th><th>Bits/s B → A</th></tr><tr><td>str</td><td>str</td><td>i64</td><td>i64</td><td>i64</td><td>i64</td><td>i64</td><td>i64</td><td>i64</td><td>f64</td><td>f64</td><td>str</td><td>str</td></tr></thead><tbody><tr><td>&quot;74.125.23.189&quot;</td><td>&quot;192.168.3.8&quot;</td><td>418</td><td>63237</td><td>2</td><td>265</td><td>34905</td><td>153</td><td>28332</td><td>0.19995</td><td>103.27997</td><td>&quot;2703&quot;</td><td>&quot;2194&quot;</td></tr><tr><td>&quot;162.125.34.129&quot;</td><td>&quot;192.168.3.8&quot;</td><td>20</td><td>7454</td><td>23</td><td>12</td><td>1676</td><td>8</td><td>5778</td><td>25.565319</td><td>78.370895</td><td>&quot;171&quot;</td><td>&quot;589&quot;</td></tr><tr><td>&quot;192.168.3.2&quot;</td><td>&quot;192.168.3.8&quot;</td><td>18</td><td>6138</td><td>1</td><td>18</td><td>6138</td><td>0</td><td>0</td><td>0.139771</td><td>5.118914</td><td>&quot;9592&quot;</td><td>&quot;0&quot;</td></tr><tr><td>&quot;192.168.3.2&quot;</td><td>&quot;224.0.0.251&quot;</td><td>1</td><td>381</td><td>22</td><td>1</td><td>381</td><td>0</td><td>0</td><td>21.714496</td><td>0.0</td><td>&quot;&quot;</td><td>&quot;&quot;</td></tr><tr><td>&quot;192.168.3.2&quot;</td><td>&quot;239.255.255.250&quot;</td><td>6</td><td>2124</td><td>28</td><td>6</td><td>2124</td><td>0</td><td>0</td><td>56.120639</td><td>0.306395</td><td>&quot;55457&quot;</td><td>&quot;0&quot;</td></tr></tbody></table></div>"
      ],
      "text/plain": [
       "shape: (5, 13)\n",
       "┌────────────┬────────────┬──────────┬────────┬───┬────────────┬───────────┬───────────┬───────────┐\n",
       "│ アドレス A ┆ アドレス B ┆ パケット ┆ バイト ┆ … ┆ 相対的な開 ┆ 時間      ┆ Bits/s A  ┆ Bits/s B  │\n",
       "│ ---        ┆ ---        ┆ ---      ┆ ---    ┆   ┆ 始         ┆ ---       ┆ → B       ┆ → A       │\n",
       "│ str        ┆ str        ┆ i64      ┆ i64    ┆   ┆ ---        ┆ f64       ┆ ---       ┆ ---       │\n",
       "│            ┆            ┆          ┆        ┆   ┆ f64        ┆           ┆ str       ┆ str       │\n",
       "╞════════════╪════════════╪══════════╪════════╪═══╪════════════╪═══════════╪═══════════╪═══════════╡\n",
       "│ 74.125.23. ┆ 192.168.3. ┆ 418      ┆ 63237  ┆ … ┆ 0.19995    ┆ 103.27997 ┆ 2703      ┆ 2194      │\n",
       "│ 189        ┆ 8          ┆          ┆        ┆   ┆            ┆           ┆           ┆           │\n",
       "│ 162.125.34 ┆ 192.168.3. ┆ 20       ┆ 7454   ┆ … ┆ 25.565319  ┆ 78.370895 ┆ 171       ┆ 589       │\n",
       "│ .129       ┆ 8          ┆          ┆        ┆   ┆            ┆           ┆           ┆           │\n",
       "│ 192.168.3. ┆ 192.168.3. ┆ 18       ┆ 6138   ┆ … ┆ 0.139771   ┆ 5.118914  ┆ 9592      ┆ 0         │\n",
       "│ 2          ┆ 8          ┆          ┆        ┆   ┆            ┆           ┆           ┆           │\n",
       "│ 192.168.3. ┆ 224.0.0.25 ┆ 1        ┆ 381    ┆ … ┆ 21.714496  ┆ 0.0       ┆           ┆           │\n",
       "│ 2          ┆ 1          ┆          ┆        ┆   ┆            ┆           ┆           ┆           │\n",
       "│ 192.168.3. ┆ 239.255.25 ┆ 6        ┆ 2124   ┆ … ┆ 56.120639  ┆ 0.306395  ┆ 55457     ┆ 0         │\n",
       "│ 2          ┆ 5.250      ┆          ┆        ┆   ┆            ┆           ┆           ┆           │\n",
       "└────────────┴────────────┴──────────┴────────┴───┴────────────┴───────────┴───────────┴───────────┘"
      ]
     },
     "execution_count": 17,
     "metadata": {},
     "output_type": "execute_result"
    }
   ],
   "source": [
    "import polars as pl\n",
    "pl.Config().set_tbl_rows(50)\n",
    "\n",
    "df_cap = pl.read_csv(\"./tmp.csv\")\n",
    "df_cap.head()"
   ]
  },
  {
   "cell_type": "code",
   "execution_count": 18,
   "id": "29c4f505",
   "metadata": {},
   "outputs": [
    {
     "data": {
      "text/html": [
       "<div><style>\n",
       ".dataframe > thead > tr,\n",
       ".dataframe > tbody > tr {\n",
       "  text-align: right;\n",
       "  white-space: pre-wrap;\n",
       "}\n",
       "</style>\n",
       "<small>shape: (32, 3)</small><table border=\"1\" class=\"dataframe\"><thead><tr><th>アドレス A</th><th>アドレス B</th><th>パケット</th></tr><tr><td>str</td><td>str</td><td>i64</td></tr></thead><tbody><tr><td>&quot;74.125.23.189&quot;</td><td>&quot;192.168.3.8&quot;</td><td>418</td></tr><tr><td>&quot;162.125.34.129&quot;</td><td>&quot;192.168.3.8&quot;</td><td>20</td></tr><tr><td>&quot;192.168.3.2&quot;</td><td>&quot;192.168.3.8&quot;</td><td>18</td></tr><tr><td>&quot;192.168.3.2&quot;</td><td>&quot;224.0.0.251&quot;</td><td>1</td></tr><tr><td>&quot;192.168.3.2&quot;</td><td>&quot;239.255.255.250&quot;</td><td>6</td></tr><tr><td>&quot;192.168.3.4&quot;</td><td>&quot;224.0.0.251&quot;</td><td>1</td></tr><tr><td>&quot;192.168.3.4&quot;</td><td>&quot;239.255.255.250&quot;</td><td>12</td></tr><tr><td>&quot;192.168.3.7&quot;</td><td>&quot;224.0.0.251&quot;</td><td>2</td></tr><tr><td>&quot;192.168.3.8&quot;</td><td>&quot;23.10.7.86&quot;</td><td>97</td></tr><tr><td>&quot;192.168.3.8&quot;</td><td>&quot;23.42.67.28&quot;</td><td>86</td></tr><tr><td>&quot;192.168.3.8&quot;</td><td>&quot;35.227.225.114&quot;</td><td>386</td></tr><tr><td>&quot;192.168.3.8&quot;</td><td>&quot;52.69.69.136&quot;</td><td>139</td></tr><tr><td>&quot;192.168.3.8&quot;</td><td>&quot;52.114.76.35&quot;</td><td>15</td></tr><tr><td>&quot;192.168.3.8&quot;</td><td>&quot;52.230.80.159&quot;</td><td>6</td></tr><tr><td>&quot;192.168.3.8&quot;</td><td>&quot;143.204.127.159&quot;</td><td>9</td></tr><tr><td>&quot;192.168.3.8&quot;</td><td>&quot;151.101.74.49&quot;</td><td>216</td></tr><tr><td>&quot;192.168.3.8&quot;</td><td>&quot;161.69.17.30&quot;</td><td>29</td></tr><tr><td>&quot;192.168.3.8&quot;</td><td>&quot;161.69.45.107&quot;</td><td>47</td></tr><tr><td>&quot;192.168.3.8&quot;</td><td>&quot;161.69.199.18&quot;</td><td>6</td></tr><tr><td>&quot;192.168.3.8&quot;</td><td>&quot;172.217.24.138&quot;</td><td>8</td></tr><tr><td>&quot;192.168.3.8&quot;</td><td>&quot;172.217.25.195&quot;</td><td>41</td></tr><tr><td>&quot;192.168.3.8&quot;</td><td>&quot;172.217.25.206&quot;</td><td>19</td></tr><tr><td>&quot;192.168.3.8&quot;</td><td>&quot;192.168.3.1&quot;</td><td>32</td></tr><tr><td>&quot;192.168.3.8&quot;</td><td>&quot;192.168.3.4&quot;</td><td>126</td></tr><tr><td>&quot;192.168.3.8&quot;</td><td>&quot;192.168.3.11&quot;</td><td>63</td></tr><tr><td>&quot;192.168.3.8&quot;</td><td>&quot;192.168.3.255&quot;</td><td>3</td></tr><tr><td>&quot;192.168.3.8&quot;</td><td>&quot;239.255.255.250&quot;</td><td>7</td></tr><tr><td>&quot;192.168.3.9&quot;</td><td>&quot;224.0.0.251&quot;</td><td>7</td></tr><tr><td>&quot;192.168.3.10&quot;</td><td>&quot;192.168.3.255&quot;</td><td>4</td></tr><tr><td>&quot;192.168.3.10&quot;</td><td>&quot;224.0.0.251&quot;</td><td>1</td></tr><tr><td>&quot;192.168.3.10&quot;</td><td>&quot;255.255.255.255&quot;</td><td>4</td></tr><tr><td>&quot;192.168.3.11&quot;</td><td>&quot;224.0.0.251&quot;</td><td>12</td></tr></tbody></table></div>"
      ],
      "text/plain": [
       "shape: (32, 3)\n",
       "┌────────────────┬─────────────────┬──────────┐\n",
       "│ アドレス A     ┆ アドレス B      ┆ パケット │\n",
       "│ ---            ┆ ---             ┆ ---      │\n",
       "│ str            ┆ str             ┆ i64      │\n",
       "╞════════════════╪═════════════════╪══════════╡\n",
       "│ 74.125.23.189  ┆ 192.168.3.8     ┆ 418      │\n",
       "│ 162.125.34.129 ┆ 192.168.3.8     ┆ 20       │\n",
       "│ 192.168.3.2    ┆ 192.168.3.8     ┆ 18       │\n",
       "│ 192.168.3.2    ┆ 224.0.0.251     ┆ 1        │\n",
       "│ 192.168.3.2    ┆ 239.255.255.250 ┆ 6        │\n",
       "│ 192.168.3.4    ┆ 224.0.0.251     ┆ 1        │\n",
       "│ 192.168.3.4    ┆ 239.255.255.250 ┆ 12       │\n",
       "│ 192.168.3.7    ┆ 224.0.0.251     ┆ 2        │\n",
       "│ 192.168.3.8    ┆ 23.10.7.86      ┆ 97       │\n",
       "│ 192.168.3.8    ┆ 23.42.67.28     ┆ 86       │\n",
       "│ 192.168.3.8    ┆ 35.227.225.114  ┆ 386      │\n",
       "│ 192.168.3.8    ┆ 52.69.69.136    ┆ 139      │\n",
       "│ 192.168.3.8    ┆ 52.114.76.35    ┆ 15       │\n",
       "│ 192.168.3.8    ┆ 52.230.80.159   ┆ 6        │\n",
       "│ 192.168.3.8    ┆ 143.204.127.159 ┆ 9        │\n",
       "│ 192.168.3.8    ┆ 151.101.74.49   ┆ 216      │\n",
       "│ 192.168.3.8    ┆ 161.69.17.30    ┆ 29       │\n",
       "│ 192.168.3.8    ┆ 161.69.45.107   ┆ 47       │\n",
       "│ 192.168.3.8    ┆ 161.69.199.18   ┆ 6        │\n",
       "│ 192.168.3.8    ┆ 172.217.24.138  ┆ 8        │\n",
       "│ 192.168.3.8    ┆ 172.217.25.195  ┆ 41       │\n",
       "│ 192.168.3.8    ┆ 172.217.25.206  ┆ 19       │\n",
       "│ 192.168.3.8    ┆ 192.168.3.1     ┆ 32       │\n",
       "│ 192.168.3.8    ┆ 192.168.3.4     ┆ 126      │\n",
       "│ 192.168.3.8    ┆ 192.168.3.11    ┆ 63       │\n",
       "│ 192.168.3.8    ┆ 192.168.3.255   ┆ 3        │\n",
       "│ 192.168.3.8    ┆ 239.255.255.250 ┆ 7        │\n",
       "│ 192.168.3.9    ┆ 224.0.0.251     ┆ 7        │\n",
       "│ 192.168.3.10   ┆ 192.168.3.255   ┆ 4        │\n",
       "│ 192.168.3.10   ┆ 224.0.0.251     ┆ 1        │\n",
       "│ 192.168.3.10   ┆ 255.255.255.255 ┆ 4        │\n",
       "│ 192.168.3.11   ┆ 224.0.0.251     ┆ 12       │\n",
       "└────────────────┴─────────────────┴──────────┘"
      ]
     },
     "execution_count": 18,
     "metadata": {},
     "output_type": "execute_result"
    }
   ],
   "source": [
    "df_cap.select(\"アドレス A\", \"アドレス B\", \"パケット\")"
   ]
  },
  {
   "cell_type": "markdown",
   "id": "07eec427",
   "metadata": {},
   "source": [
    "本キャプチャデータでは、同一ホスト（192.168.3.8）から多様な宛先への通信が観測され、パケット数や通信方向に大きな差が見られた。\n",
    "宛先IPアドレス単位でのルーティングでは、これらすべての通信が同一の経路・制御ポリシーで扱われるため、通信特性に応じた最適な制御が困難である。\n",
    "一方、OpenFlowのようにフロー（srcIP, srcPort, dstIP, dstPort, protocol）単位で制御すれば、アプリケーション種別や通信方向ごとに異なる経路選択・帯域制御・優先度設定が可能となり、きめ細かなトラフィック管理が実現できる。"
   ]
  },
  {
   "cell_type": "markdown",
   "id": "c6dfc6c1",
   "metadata": {},
   "source": []
  }
 ],
 "metadata": {
  "kernelspec": {
   "display_name": "datasienceict",
   "language": "python",
   "name": "python3"
  },
  "language_info": {
   "codemirror_mode": {
    "name": "ipython",
    "version": 3
   },
   "file_extension": ".py",
   "mimetype": "text/x-python",
   "name": "python",
   "nbconvert_exporter": "python",
   "pygments_lexer": "ipython3",
   "version": "3.11.13"
  }
 },
 "nbformat": 4,
 "nbformat_minor": 5
}
