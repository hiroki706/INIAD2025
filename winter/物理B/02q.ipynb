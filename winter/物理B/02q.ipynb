{
 "cells": [
  {
   "cell_type": "markdown",
   "id": "8c006116",
   "metadata": {},
   "source": [
    "# 問題\n",
    ">気圧$1.0 [atm]$一定のもとヘリウムに熱$Q=507[J]$を加えたところ，体積が$4.0[L]$から$6.0[L]$となった．気体定数を$R=8.31 [(J/(mol･K))]$として，ヘリウムの内部エネルギーの変化$ΔU[J]$を求めよ．\n",
    "\n",
    "答え\n",
    "$ 304 [J] $\n"
   ]
  },
  {
   "cell_type": "markdown",
   "id": "8476c01b",
   "metadata": {},
   "source": [
    "# 解答\n",
    "やり方はシンプルです。**熱力学第一法則**\n",
    "$$\n",
    "Q=\\Delta U+W \\quad\\Rightarrow\\quad \\Delta U=Q-W\n",
    "$$\n",
    "を使い、等圧変化なので仕事は\n",
    "$$\n",
    "W=P\\Delta V\n",
    "$$\n",
    "です（符号は「気体がした仕事」を (+) ）。\n",
    "\n",
    "* 与えられた値\n",
    "\n",
    "$ Q=507[\\mathrm{J}]$  \n",
    "$ P=1.0[\\mathrm{atm}]$  \n",
    "$ \\Delta V=6.0-4.0=2.0[\\mathrm{L}]=2.0\\times10^{-3}[\\mathrm{m^3}]$  \n",
    "\n",
    "$1 [atm]$ を SI に直して (W) を計算：\n",
    "$$\n",
    "W=P\\Delta V=(1013\\times10^2[\\mathrm{Pa}])\\times(2.0\\times10^{-3}[\\mathrm{m^3}])=202.6[\\mathrm{J}]\n",
    "$$\n",
    "\n",
    "したがって\n",
    "$$\n",
    "\\boxed{\\Delta U=507-200=304.4[\\mathrm{J}]}\n",
    "$$\n",
    "\n",
    "※ $1 [atm]$ を $(1.01325\\times10^5[\\mathrm{Pa}])$ とする厳密値を使うと ($\\Delta U\\simeq304[\\mathrm{J}]$)。高校物理ではしばしば ($1.0\\times10^5[\\mathrm{Pa}]$) を用いるので、**答えは ($\\Delta U\\approx3.1\\times10^2[\\mathrm{J}]$)** が標準的です。\n",
    "\n",
    "$1[atm]=1013[hPa]$"
   ]
  },
  {
   "cell_type": "code",
   "execution_count": 10,
   "id": "e505dc73",
   "metadata": {},
   "outputs": [
    {
     "name": "stdout",
     "output_type": "stream",
     "text": [
      "202.6\n",
      "304.4\n"
     ]
    }
   ],
   "source": [
    "# Compute ΔU = Q - W for two common conversions of 1 atm\n",
    "Q = 507.0  # J\n",
    "print((1013*10**2)*(2.0*10**-3))\n",
    "print(Q- (1013*10**2)*(2.0*10**-3))"
   ]
  },
  {
   "cell_type": "markdown",
   "id": "72c53cdc",
   "metadata": {},
   "source": []
  }
 ],
 "metadata": {
  "kernelspec": {
   "display_name": "datasienceict",
   "language": "python",
   "name": "python3"
  },
  "language_info": {
   "codemirror_mode": {
    "name": "ipython",
    "version": 3
   },
   "file_extension": ".py",
   "mimetype": "text/x-python",
   "name": "python",
   "nbconvert_exporter": "python",
   "pygments_lexer": "ipython3",
   "version": "3.8.20"
  }
 },
 "nbformat": 4,
 "nbformat_minor": 5
}
