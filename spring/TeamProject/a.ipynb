{
 "cells": [
  {
   "cell_type": "code",
   "execution_count": 9,
   "id": "f7fea8de",
   "metadata": {},
   "outputs": [
    {
     "name": "stdout",
     "output_type": "stream",
     "text": [
      "['/home/iniad/Documents/INIAD2025/spring/TeamProject/smallpdf-convert-20250611-154215/main-00.jpg', '/home/iniad/Documents/INIAD2025/spring/TeamProject/smallpdf-convert-20250611-154215/main-1.jpg', '/home/iniad/Documents/INIAD2025/spring/TeamProject/smallpdf-convert-20250611-154215/main-2.jpg', '/home/iniad/Documents/INIAD2025/spring/TeamProject/smallpdf-convert-20250611-154215/main-3.jpg', '/home/iniad/Documents/INIAD2025/spring/TeamProject/smallpdf-convert-20250611-154215/main-4.jpg', '/home/iniad/Documents/INIAD2025/spring/TeamProject/smallpdf-convert-20250611-154215/main-5.jpg', '/home/iniad/Documents/INIAD2025/spring/TeamProject/smallpdf-convert-20250611-154215/main-6.jpg', '/home/iniad/Documents/INIAD2025/spring/TeamProject/smallpdf-convert-20250611-154215/main-7.jpg', '/home/iniad/Documents/INIAD2025/spring/TeamProject/smallpdf-convert-20250611-154215/main-8.jpg', '/home/iniad/Documents/INIAD2025/spring/TeamProject/smallpdf-convert-20250611-154215/main-9.jpg', '/home/iniad/Documents/INIAD2025/spring/TeamProject/smallpdf-convert-20250611-154215/main-99.jpg', '/home/iniad/Documents/INIAD2025/spring/TeamProject/smallpdf-convert-20250611-154215/main-999.jpg']\n"
     ]
    }
   ],
   "source": [
    "from pathlib import Path\n",
    "from PIL import Image\n",
    "\n",
    "# ❶ 結合したい画像ファイルを並べたリスト\n",
    "image_dir = \"/home/iniad/Documents/INIAD2025/spring/TeamProject/smallpdf-convert-20250611-154215\"\n",
    "image_files = sorted(Path(image_dir).glob(\"*.jpg\"))  # jpg ファイルを取得\n",
    "# 画像ファイルのパスを文字列のリストに変換\n",
    "image_files = sorted([str(f) for f in image_files])\n",
    "print(image_files)"
   ]
  },
  {
   "cell_type": "code",
   "execution_count": 10,
   "id": "fb5bf081",
   "metadata": {},
   "outputs": [
    {
     "name": "stdout",
     "output_type": "stream",
     "text": [
      "Saved as vertical_with_gap.jpg\n"
     ]
    }
   ],
   "source": [
    "gap = 20                      # ← 画像間の余白（ピクセル）\n",
    "bg_color = (255, 255, 255)    # ← 余白の背景色（白）\n",
    "\n",
    "images = [Image.open(f) for f in image_files]\n",
    "\n",
    "# 幅は最大幅、 高さは各画像の高さ合計 + gap×(枚数−1)\n",
    "width  = max(img.width  for img in images)\n",
    "height = sum(img.height for img in images) + gap * (len(images) - 1)\n",
    "\n",
    "canvas = Image.new(\"RGB\", (width, height), bg_color)\n",
    "\n",
    "y_offset = 0\n",
    "for idx, img in enumerate(images):\n",
    "    # 必要なら横幅をそろえる（縦横比保持）\n",
    "    if img.width != width:\n",
    "        ratio = width / img.width\n",
    "        img = img.resize((width, int(img.height * ratio)), Image.LANCZOS)\n",
    "\n",
    "    canvas.paste(img, (0, y_offset))\n",
    "    y_offset += img.height + gap     # ← 貼り付け後に gap 分進める\n",
    "\n",
    "canvas.save(\"vertical_with_gap.jpg\", quality=95)\n",
    "print(\"Saved as vertical_with_gap.jpg\")"
   ]
  },
  {
   "cell_type": "code",
   "execution_count": null,
   "id": "94267bbd",
   "metadata": {},
   "outputs": [],
   "source": []
  }
 ],
 "metadata": {
  "kernelspec": {
   "display_name": ".venv",
   "language": "python",
   "name": "python3"
  },
  "language_info": {
   "codemirror_mode": {
    "name": "ipython",
    "version": 3
   },
   "file_extension": ".py",
   "mimetype": "text/x-python",
   "name": "python",
   "nbconvert_exporter": "python",
   "pygments_lexer": "ipython3",
   "version": "3.13.3"
  }
 },
 "nbformat": 4,
 "nbformat_minor": 5
}
