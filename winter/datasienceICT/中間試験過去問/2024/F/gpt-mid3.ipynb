{
 "cells": [
  {
   "cell_type": "code",
   "execution_count": 1,
   "id": "6a8a0b88-7f23-428b-8e40-a6c6dc1a1246",
   "metadata": {},
   "outputs": [],
   "source": [
    "#Cell_1.\n",
    "import openai\n",
    "import re\n",
    "import os\n",
    "from openai import OpenAI\n",
    "\n",
    "oai = XXX(\n",
    "    api_key = '',\n",
    "    base_url = \"https://api.openai.iniad.org/api/v1\"\n",
    ")"
   ]
  },
  {
   "cell_type": "code",
   "execution_count": 2,
   "id": "c400b425-a150-4f07-be7d-7e2e437b2bee",
   "metadata": {},
   "outputs": [],
   "source": [
    "#Cell_2.\n",
    "with open('usedcar.csv', 'r', encoding='utf-8') as file:\n",
    "       file_content = file.read()"
   ]
  },
  {
   "cell_type": "code",
   "execution_count": 3,
   "id": "571424fb-1f50-46fd-baf9-fd12d360f99b",
   "metadata": {},
   "outputs": [
    {
     "name": "stdout",
     "output_type": "stream",
     "text": [
      "アップロードされたデータは、中古車に関する情報を示すCSV形式のデータセットです。各行は異なる中古車を表しており、以下の4つの特徴量（カラム）で構成されています。\n",
      "\n",
      "1. **価格**: 車の価格を表しています（単位は不明ですが、通常は万円やドルなどの通貨単位で表されます）。\n",
      "2. **走行距離**: 車の走行距離を表す数値で、通常はキロメートル（km）で記載されていると考えられます。\n",
      "3. **乗車年数**: 車が使われている年数を示しています。この数値が大きいほど、車が長い期間使用されていることを意味します。\n",
      "4. **車検の残り期間**: 車検が残っている期間を示しています。この数値は月単位で表され、車検が近づいているか、まだ長い間有効かを示します。\n",
      "\n",
      "このデータを分析することで、中古車の価格に影響を与える要因を探ったり、価格予測モデルを構築したりすることができます。例えば、一般的には走行距離が短い車、乗車年数が少ない車、車検の残り期限が長い車は高価格で取引される傾向にあります。\n",
      "\n",
      "以下は、このデータに基づいて行うことができる一般的な分析の例です。\n",
      "\n",
      "- **相関分析**: 価格と他の変数（走行距離、乗車年数、車検の残り期間）との相関関係を調べる。\n",
      "- **回帰分析**: 価格を目的変数として、走行距離、乗車年数、車検の残り期間を説明変数として使用し、線形回帰モデルを構築する。\n",
      "- **データ可視化**: 散布図やヒストグラムを使用して、変数間の関係を視覚的に表現する。\n",
      "\n",
      "データの内容に応じて、より詳細な分析手法を適用することも可能です。\n"
     ]
    }
   ],
   "source": [
    "#Cell_3.\n",
    "messages=[\n",
    "       {\"role\": \"system\", \"content\": \"あなたはデータサイエンティストです。\"},\n",
    "       {\"role\": \"user\", \"content\": \"いまアップロードしたデータ'usedcar.csv'について解説してください。\"},\n",
    "       {\"role\": \"user\", \"content\": file_content}\n",
    "]\n",
    "\n",
    "resp = oai.chat.completions.create(\n",
    "    model='gpt-4o-mini',\n",
    "    messages=messages,\n",
    ")\n",
    "\n",
    "print(YYY.choices[0].message.content)"
   ]
  },
  {
   "cell_type": "code",
   "execution_count": 4,
   "id": "9895361f-5a5c-49bf-8ebb-286e63556731",
   "metadata": {},
   "outputs": [
    {
     "name": "stdout",
     "output_type": "stream",
     "text": [
      "中古車価格に影響を与える潜在的な要因は多岐にわたります。以下に、提供されたデータセットには含まれていないが、車の価格に影響を与える可能性のある要因をいくつか挙げてみます。\n",
      "\n",
      "1. **メーカー・ブランド**: 車のメーカーやブランドは、一般的に価格に大きな影響を与えます。高級ブランドや人気のあるブランドは、中古車でも高価格で取引される傾向があります。\n",
      "\n",
      "2. **モデル**: 同じメーカー内でもモデルによって価格が異なることがあります。特にスポーツカーやSUVなどは高値になることがあります。\n",
      "\n",
      "3. **年式**: 車の製造年も重要な要因です。新しいモデルほど一般的に高価になりますが、状態や走行距離、人気によって異なる場合があります。\n",
      "\n",
      "4. **事故歴**: 事故歴がある車は、事故歴がない同じ車と比較して低い価格で取引されることが一般的です。\n",
      "\n",
      "5. **保守歴**: 定期メンテナンスや修理の記録があるかどうかも価格に影響します。適切にメンテナンスされた車は高評価です。\n",
      "\n",
      "6. **ボディスタイル**: セダン、クーペ、ワゴンなどのボディスタイルにより、需要と価格が異なることがあります。\n",
      "\n",
      "7. **装備やオプション**: 追加の装備品やオプション、特別な機能が搭載されている車は、その分価格が高くなる傾向があります。\n",
      "\n",
      "8. **色**: 車の色や仕上げも需要に影響します。一部の色は人気があり、中古市場で高値がつく場合があります。\n",
      "\n",
      "9. **地域**: 車が販売される地域や国によっても価格が変動します。需要と供給、地域特有の市場条件が影響します。\n",
      "\n",
      "10. **エンジンの種類**: ガソリン車、ディーゼル車、ハイブリッド車や電気自動車（EV）などのエンジンタイプによる価格差もあります。\n",
      "\n",
      "11. **燃費性能**: 燃費が良い車は、長期的にはコストが低くなるため、高い評価を受け、価格が高くなる場合があります。\n",
      "\n",
      "これらの要因を考慮に入れることで、より正確なモデルを構築できる可能性が高くなります。データ収集時には、できるだけ多くの関連する要因を考慮することが重要です。\n"
     ]
    }
   ],
   "source": [
    "#Cell_4.\n",
    "messages.ZZZ({\"role\": \"assistant\", \"content\": resp.choices[0].message.content})\n",
    "messages.ZZZ({\"role\": \"user\", \"content\": \"有難うございます。そうしましたら、このused_car.csvに基づいて中古車価格を説明するモデルを作りたいです。このデータには含まれていない潜在的な要因には、どのようなものがあると考えますか？\"})\n",
    "\n",
    "resp = oai.chat.completions.create(\n",
    "    model='gpt-4o-mini',\n",
    "    messages=messages,\n",
    ")\n",
    "\n",
    "print(resp.choices[0].message.content)"
   ]
  }
 ],
 "metadata": {
  "kernelspec": {
   "display_name": "Python 3 (ipykernel)",
   "language": "python",
   "name": "python3"
  },
  "language_info": {
   "codemirror_mode": {
    "name": "ipython",
    "version": 3
   },
   "file_extension": ".py",
   "mimetype": "text/x-python",
   "name": "python",
   "nbconvert_exporter": "python",
   "pygments_lexer": "ipython3",
   "version": "3.9.15"
  }
 },
 "nbformat": 4,
 "nbformat_minor": 5
}
