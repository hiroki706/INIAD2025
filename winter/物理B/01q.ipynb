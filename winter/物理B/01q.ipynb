{
 "cells": [
  {
   "cell_type": "markdown",
   "id": "0fba9dfc",
   "metadata": {},
   "source": [
    "# 問題\n",
    "> 富士山頂は気圧$0.62 [atm]$で気温$5.0[℃]$だった．山頂で$15 [L]$だった気体を，気圧$1.0[atm]$で気温$27[℃]$の麓まで運んだときの気体の体積$V [L]$を求めよ．\n",
    "\n",
    "\n",
    "答: $V = 10\\mathrm{[\\, L]}$"
   ]
  },
  {
   "cell_type": "markdown",
   "id": "07765dac",
   "metadata": {},
   "source": [
    "# 解答\n",
    "これは**ボイル・シャルルの法則を組み合わせた気体の状態方程式**（理想気体の状態変化）を使う問題です。順を追って説明します。\n",
    "\n",
    "## 1. 状態方程式の関係式\n",
    "\n",
    "理想気体に対して、状態変化で分子数が一定なら\n",
    "\n",
    "$$\n",
    "\\frac{P_1 V_1}{T_1} = \\frac{P_2 V_2}{T_2}\n",
    "$$\n",
    "\n",
    "が成り立ちます。\n",
    "ここで\n",
    "* (P)：圧力 [atm]\n",
    "* (V)：体積 [L]\n",
    "* (T)：絶対温度 [K]（＝ ℃ + 273）\n",
    "\n",
    "です。\n",
    "\n",
    "---\n",
    "\n",
    "## 2. 与えられた条件を整理\n",
    "\n",
    "* 山頂（状態1）：\n",
    "  $$ P_1 = 0.62 [atm] $$\n",
    "  $$ \\quad V_1 = 15[L] $$\n",
    "  $$ \\quad T_1 = 5.0 + 273 = 278 [K] $$\n",
    "\n",
    "* 麓（状態2）：\n",
    "  $$ P_2 = 1.0 [atm] $$\n",
    "  $$ \\quad V_2 = ? $$\n",
    "  $$ \\quad T_2 = 27 + 273 = 300 [K] $$"
   ]
  },
  {
   "cell_type": "code",
   "execution_count": 2,
   "id": "8c7de658",
   "metadata": {},
   "outputs": [],
   "source": [
    "p_1, v_1, t_1 = (0.62, 15, 5+273)\n",
    "p_2, v_2, t_2 = (1.0, None, 27+273)"
   ]
  },
  {
   "cell_type": "markdown",
   "id": "420ce57f",
   "metadata": {},
   "source": [
    "## 3. 関係式に代入\n",
    "\n",
    "$$\n",
    "\\frac{P_1 V_1}{T_1} = \\frac{P_2 V_2}{T_2}\n",
    "$$\n",
    "\n",
    "両辺から (V_2) を解くと：\n",
    "\n",
    "$$\n",
    "V_2 = \\frac{P_1 V_1 T_2}{P_2 T_1}\n",
    "$$\n",
    "\n",
    "---\n",
    "\n",
    "## 4. 計算\n",
    "\n",
    "数値を代入します。\n",
    "\n",
    "$$\n",
    "V_2 = \\frac{0.62 \\times 15 \\times 300}{1.0 \\times 278}\n",
    "$$\n",
    "\n",
    "まず分子：\n",
    "$$\n",
    "0.62 \\times 15 = 9.30\n",
    "$$\n",
    "$$\n",
    "9.30 \\times 300 = 2790\n",
    "$$\n",
    "\n",
    "分母：\n",
    "$$\n",
    "278\n",
    "$$\n",
    "\n",
    "割り算：\n",
    "$$\n",
    "V_2 = \\frac{2790}{278} \\approx 10.0\n",
    "$$\n"
   ]
  },
  {
   "cell_type": "code",
   "execution_count": 3,
   "id": "1e4a5f4b",
   "metadata": {},
   "outputs": [
    {
     "data": {
      "text/plain": [
       "10.035971223021583"
      ]
     },
     "execution_count": 3,
     "metadata": {},
     "output_type": "execute_result"
    }
   ],
   "source": [
    "(p_1*v_1*t_2)/(p_2*t_1)"
   ]
  },
  {
   "cell_type": "markdown",
   "id": "a3e74148",
   "metadata": {},
   "source": [
    "## 5. 答え\n",
    "\n",
    "$$\n",
    "\\boxed{10 ,[L]}\n",
    "$$\n",
    "\n",
    "---\n",
    "\n",
    "## ポイント\n",
    "\n",
    "* 温度は必ず絶対温度[K]に直す。\n",
    "* 圧力と体積はそのまま代入できる（単位を揃えてあればOK）。\n",
    "* 山頂では気圧が低いため膨張しているが、麓に持っていくと気圧が上がるので縮む。温度上昇の効果もあるが、最終的には体積は小さくなり **15 L → 約10 L** になる。"
   ]
  },
  {
   "cell_type": "markdown",
   "id": "5fcb4306",
   "metadata": {},
   "source": []
  }
 ],
 "metadata": {
  "kernelspec": {
   "display_name": "datasienceict",
   "language": "python",
   "name": "python3"
  },
  "language_info": {
   "codemirror_mode": {
    "name": "ipython",
    "version": 3
   },
   "file_extension": ".py",
   "mimetype": "text/x-python",
   "name": "python",
   "nbconvert_exporter": "python",
   "pygments_lexer": "ipython3",
   "version": "3.8.20"
  }
 },
 "nbformat": 4,
 "nbformat_minor": 5
}
