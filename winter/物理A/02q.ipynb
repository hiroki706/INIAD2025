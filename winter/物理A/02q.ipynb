{
 "cells": [
  {
   "cell_type": "markdown",
   "id": "2efca0b5",
   "metadata": {},
   "source": [
    "# 問題\n",
    ">時刻$t[s]$での加速度が$a(t)=-2.0t+3.0[m/s2]$で与えられる。\n",
    ">静かに動き出した球が、静止するまでに移動した距離$h[m]$を求めよ。\n",
    "\n",
    "解答 $4.5m$"
   ]
  },
  {
   "cell_type": "code",
   "execution_count": null,
   "id": "c16aea43",
   "metadata": {},
   "outputs": [],
   "source": []
  },
  {
   "cell_type": "markdown",
   "id": "cfa85f8e",
   "metadata": {},
   "source": [
    "# 解答\n",
    "### 1. 与えられた加速度\n",
    "```math\n",
    "a(t) = -2.0t + 3.0 \\quad [\\text{m/s}^2]\n",
    "```\n",
    "---\n",
    "\n",
    "### 2. 速度を求める\n",
    "\n",
    "速度は加速度の積分で求められる。\n",
    "```math\n",
    "v(t) = \\int a(t),dt = \\int (-2.0t + 3.0),dt\n",
    "```\n",
    "```math\n",
    "v(t) = -t^2 + 3.0t + C\n",
    "```\n",
    "\n",
    "初期条件：「静かに動き出した」とあるので、時刻 ($t=0$) で ($v(0)=0$)。\n",
    "```math\n",
    "0 = -0^2 + 3.0 \\cdot 0 + C \\quad \\Rightarrow \\quad C=0\n",
    "```\n",
    "\n",
    "したがって、\n",
    "```math\n",
    "v(t) = -t^2 + 3t\n",
    "```"
   ]
  },
  {
   "cell_type": "code",
   "execution_count": null,
   "id": "725f93b6",
   "metadata": {},
   "outputs": [],
   "source": []
  },
  {
   "cell_type": "markdown",
   "id": "6d2a23fb",
   "metadata": {},
   "source": [
    "\n",
    "### 3. 球が静止する時刻\n",
    "\n",
    "静止条件： $(v(t)=0)$\n",
    "\n",
    "```math\n",
    "-t^2 + 3t = 0\n",
    "```\n",
    "```math\n",
    "t(-t + 3) = 0\n",
    "```\n",
    "\n",
    "解： ($t=0$) または ($t=3$)\n",
    "\n",
    "開始時刻 ($t=0$) のほか、**静止するのは ($t=3.0\\text{s}$)**。\n",
    "\n",
    "---\n",
    "\n",
    "### 4. 変位を求める\n",
    "\n",
    "変位は速度を積分すればよい：\n",
    "```math\n",
    "x(t) = \\int v(t),dt = \\int (-t^2 + 3t),dt\n",
    "```\n",
    "```math\n",
    "x(t) = -\\tfrac{1}{3}t^3 + \\tfrac{3}{2}t^2 + C'\n",
    "```\n",
    "\n",
    "初期条件： ($x(0)=0$) とすると ($C'=0$)。\n",
    "```math\n",
    "x(t) = -\\tfrac{1}{3}t^3 + \\tfrac{3}{2}t^2\n",
    "```\n",
    "\n",
    "---\n",
    "\n",
    "### 5. 移動距離 (h)\n",
    "\n",
    "静止する時刻 ($t=3$) での位置：\n",
    "```math\n",
    "x(3) = -\\tfrac{1}{3}(27) + \\tfrac{3}{2}(9)\n",
    "```\n",
    "```math\n",
    "x(3) = -9 + 13.5 = 4.5[\\text{m}]\n",
    "```\n",
    "\n",
    "---\n",
    "\n",
    "## ✅ 答え\n",
    "\n",
    "球が静止するまでに移動する距離は\n",
    "\n",
    "```math\n",
    "\\boxed{4.5\\text{m}}\n",
    "```"
   ]
  },
  {
   "cell_type": "markdown",
   "id": "7d6859af",
   "metadata": {},
   "source": []
  }
 ],
 "metadata": {
  "language_info": {
   "name": "python"
  }
 },
 "nbformat": 4,
 "nbformat_minor": 5
}
