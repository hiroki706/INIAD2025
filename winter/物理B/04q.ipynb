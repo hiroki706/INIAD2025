{
 "cells": [
  {
   "cell_type": "markdown",
   "id": "0ae1c1ce",
   "metadata": {},
   "source": [
    "# 問題\n",
    "有効数字2桁の数字で\n",
    ">断熱容器中で$27[℃]$の水$140[L]$に$77[℃]$のお湯$60[L]$を加えたところ一定の温度となった。\n",
    "熱平衡となる前後でのエントロピー変化$ΔS[kJ/K]$を求めよ。\n",
    "ただし、水の比熱を$4.2[J/(g･K)]$、水の密度を$1.0[g/cm3]$とする。"
   ]
  },
  {
   "cell_type": "code",
   "execution_count": null,
   "id": "61faf745",
   "metadata": {},
   "outputs": [],
   "source": []
  },
  {
   "cell_type": "markdown",
   "id": "021fbcf6",
   "metadata": {},
   "source": [
    "解き方を順に示します。\n",
    "\n",
    "**与条件**\n",
    "\n",
    "* 断熱（外界との熱のやりとりなし）\n",
    "* 水の密度 1.0 g/cm³ ⇒ 1 L = 1 kg\n",
    "* 比熱 (c=4.2\\ \\mathrm{kJ/(kg\\cdot K)})（J/gK を kJ/kgK に換算）\n",
    "* 初期温度：冷水 (27^\\circ\\mathrm{C}=300.15\\ \\mathrm{K})、温水 (77^\\circ\\mathrm{C}=350.15\\ \\mathrm{K})\n",
    "* 質量：(m_1=140\\ \\mathrm{kg})、(m_2=60\\ \\mathrm{kg})\n",
    "\n",
    "---\n",
    "\n",
    "### 1) 平衡温度 (T_f)\n",
    "\n",
    "断熱かつ同一物質（同じ (c)）なのでエネルギー保存から\n",
    "[\n",
    "T_f=\\frac{m_1T_1+m_2T_2}{m_1+m_2}\n",
    "=\\frac{140\\times 300.15+60\\times 350.15}{200}\n",
    "=315.15\\ \\mathrm{K}\\ (＝42^\\circ\\mathrm{C})\n",
    "]\n",
    "\n",
    "---\n",
    "\n",
    "### 2) エントロピー変化\n",
    "\n",
    "可逆的に同温度へ温め/冷まし直す経路を考えると、各成分のエントロピー変化は\n",
    "[\n",
    "\\Delta S_i = m_i c \\ln\\frac{T_f}{T_i}\n",
    "]\n",
    "したがって全体の変化は\n",
    "[\n",
    "\\Delta S_{\\text{total}}\n",
    "= m_1 c \\ln!\\frac{315.15}{300.15}\n",
    "\n",
    "* m_2 c \\ln!\\frac{315.15}{350.15}.\n",
    "  ]\n",
    "\n",
    "数値代入（(c=4.2\\ \\mathrm{kJ/(kg\\cdot K)})）：\n",
    "[\n",
    "\\begin{aligned}\n",
    "\\Delta S_1 &=\n",
    "140\\times 4.2 \\times \\ln(315.15/300.15)\n",
    "\\approx +28.67\\ \\mathrm{kJ/K},\\\n",
    "\\Delta S_2 &=\n",
    "60\\times 4.2 \\times \\ln(315.15/350.15)\n",
    "\\approx -26.54\\ \\mathrm{kJ/K},\\\n",
    "\\Delta S_{\\text{total}} &\\approx 28.67-26.54\n",
    "= \\boxed{2.14\\ \\mathrm{kJ/K}}.\n",
    "\\end{aligned}\n",
    "]\n",
    "\n",
    "**チェック**：断熱混合は不可逆過程なので (\\Delta S_{\\text{total}}>0)。得られた正の値は物理的に妥当です。\n"
   ]
  },
  {
   "cell_type": "markdown",
   "id": "977afc6c",
   "metadata": {},
   "source": []
  }
 ],
 "metadata": {
  "language_info": {
   "name": "python"
  }
 },
 "nbformat": 4,
 "nbformat_minor": 5
}
