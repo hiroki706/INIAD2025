{
 "cells": [
  {
   "cell_type": "markdown",
   "id": "e8bf2312",
   "metadata": {},
   "source": [
    "# 問題\n",
    "> 地球の半径を$ 6400 km $とし、高さ$ 60 m $の灯台の上では下より日の出の時刻が何秒早くなるか答えよ。\n",
    "\n",
    "答え: $ t=60 $\n"
   ]
  },
  {
   "cell_type": "code",
   "execution_count": null,
   "id": "6a52add9",
   "metadata": {},
   "outputs": [],
   "source": []
  }
 ],
 "metadata": {
  "language_info": {
   "name": "python"
  }
 },
 "nbformat": 4,
 "nbformat_minor": 5
}
