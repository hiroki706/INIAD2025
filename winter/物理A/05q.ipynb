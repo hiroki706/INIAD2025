{
 "cells": [
  {
   "cell_type": "markdown",
   "id": "8b88cc84",
   "metadata": {},
   "source": [
    "# 問題\n",
    "> 質量$2.0[kg]$の球を長さ$4.9[m]$のヒモに結び，一端を天井に固定して鉛直となす角$60°$で回転させた．重力加速度の大きさを$g=9.8[m/s2]$として，回転の周期$τ[s]$を求めよ．"
   ]
  },
  {
   "cell_type": "code",
   "execution_count": 7,
   "id": "81a2b698",
   "metadata": {},
   "outputs": [
    {
     "data": {
      "text/plain": [
       "3.141592653589793"
      ]
     },
     "execution_count": 7,
     "metadata": {},
     "output_type": "execute_result"
    }
   ],
   "source": [
    "from math import sqrt, pi, cos\n",
    "\n",
    "2*pi*sqrt((4.9*0.5)/9.8)"
   ]
  },
  {
   "cell_type": "markdown",
   "id": "07785f22",
   "metadata": {},
   "source": [
    "解き方：これは「円すい振り子（conical pendulum）」です。ヒモは鉛直から角θ＝60°傾き、一定角速度で水平円運動します。半径は (r=L\\sin\\theta) です。\n",
    "\n",
    "力のつり合いと向心力より\n",
    "\n",
    "* 鉛直方向：(T\\cos\\theta = mg)\n",
    "* 水平方向（向心力）：(T\\sin\\theta = m\\frac{v^2}{r})\n",
    "\n",
    "上2式から張力 (T) を消すと\n",
    "[\n",
    "\\frac{v^2}{r} = g\\tan\\theta\n",
    "]\n",
    "また (\\frac{v^2}{r}=\\omega^2 r)（(\\omega) は角速度）なので\n",
    "[\n",
    "\\omega^2 = \\frac{g\\tan\\theta}{r}=\\frac{g\\tan\\theta}{L\\sin\\theta}\n",
    "= \\frac{g}{L\\cos\\theta}.\n",
    "]\n",
    "したがって周期 (\\tau) は\n",
    "[\n",
    "\\tau=\\frac{2\\pi}{\\omega}=2\\pi\\sqrt{\\frac{L\\cos\\theta}{g}}.\n",
    "]\n",
    "\n",
    "数値代入（(L=4.9\\ \\mathrm{m},\\ \\theta=60^\\circ,\\ g=9.8\\ \\mathrm{m/s^2})）：\n",
    "[\n",
    "\\tau = 2\\pi \\sqrt{\\frac{4.9\\cdot \\cos 60^\\circ}{9.8}}\n",
    "= 2\\pi \\sqrt{\\frac{4.9\\cdot 0.5}{9.8}}\n",
    "= 2\\pi \\sqrt{\\frac{2.45}{9.8}}\n",
    "= 2\\pi \\sqrt{0.25}\n",
    "= 2\\pi \\cdot 0.5\n",
    "= \\pi\\ \\mathrm{s}.\n",
    "]\n",
    "\n",
    "答え：(\\boxed{\\tau = \\pi\\ \\text{s} \\ (\\approx 3.14\\ \\text{s})})\n",
    "\n",
    "※質量 (m) は最終的に消えるため、与えられていても周期には影響しません。\n"
   ]
  },
  {
   "cell_type": "markdown",
   "id": "f4536e1c",
   "metadata": {},
   "source": []
  }
 ],
 "metadata": {
  "kernelspec": {
   "display_name": "datasienceict",
   "language": "python",
   "name": "python3"
  },
  "language_info": {
   "codemirror_mode": {
    "name": "ipython",
    "version": 3
   },
   "file_extension": ".py",
   "mimetype": "text/x-python",
   "name": "python",
   "nbconvert_exporter": "python",
   "pygments_lexer": "ipython3",
   "version": "3.11.13"
  }
 },
 "nbformat": 4,
 "nbformat_minor": 5
}
