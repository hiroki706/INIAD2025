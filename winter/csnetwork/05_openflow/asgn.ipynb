{
 "cells": [
  {
   "cell_type": "markdown",
   "id": "f4ec40ed",
   "metadata": {},
   "source": [
    "### OpenFlowによりマルチキャスト通信を実現するには、以下の4つの機能のうち、どれを使えばいいか考えて報告してください。\n",
    "\n",
    "1. パケットを転送する\n",
    "2. 流量を調べる\n",
    "3. 書き換える\n",
    "4. 分岐する(パケットをコピーして複数方向へ転送/tee)"
   ]
  },
  {
   "cell_type": "markdown",
   "id": "50e655e6",
   "metadata": {},
   "source": [
    "## 4. 分岐する\n",
    "マルチキャストとは、1つの送信元から特定の複数の受信者グループに、同じデータを同時に送信する通信のこと。同じデータを複数に送るためには分岐する機能を使えばよい。"
   ]
  },
  {
   "cell_type": "code",
   "execution_count": null,
   "id": "64cd2d63",
   "metadata": {},
   "outputs": [],
   "source": []
  },
  {
   "cell_type": "markdown",
   "id": "205bfbea",
   "metadata": {},
   "source": [
    "- フローエントリのマッチングルールと統計情報取得を実行するプログラムを考えよう\n",
    "- マッチングルールとして、IPアドレスに対する条件と、もうひとつ何か条件を組み合わせる\n",
    "    - 192.168.0.0/16にマッチしつつdstPortが80\n",
    "    - 具体的な条件は自由に設定してOKです\n",
    "- 統計情報取得のために、ハードタイムアウトを設定した場合を想定してください。\n",
    "    - フローエントリ作成からT_out(=60s)たったら統計情報出力\n",
    "    - パケット数とバイト数を統計情報として出力\n",
    "- 提出物は、上記マッチングルールにあったパケットに関する統計情報を収集しタイムアウト時にその情報を出力する疑似コードを提出してください。"
   ]
  },
  {
   "cell_type": "code",
   "execution_count": null,
   "id": "71c8ea3e",
   "metadata": {},
   "outputs": [
    {
     "ename": "",
     "evalue": "",
     "output_type": "error",
     "traceback": [
      "\u001b[1;31mカーネルを起動できませんでした。. \n",
      "\u001b[1;31m詳細については、Jupyter [ログ] (command:jupyter.viewOutput) を参照してください。"
     ]
    }
   ],
   "source": [
    "from dataclasses import dataclass\n",
    "@dataclass\n",
    "class Event:\n",
    "    ip: str\n",
    "    dstPort: int\n",
    "@dataclass\n",
    "class Switch:\n",
    "    def send(self, message: Event) -> None: ...\n",
    "@dataclass\n",
    "class Controller:\n",
    "    switch: Switch\n",
    "    def next_event(self, timeout: int): ...\n",
    "\n",
    "def flow_matching_info_timeout(sw: Switch) -> None:\n",
    "    ..."
   ]
  },
  {
   "cell_type": "code",
   "execution_count": null,
   "id": "63a8a0ab",
   "metadata": {},
   "outputs": [],
   "source": [
    "flow_mod = {\n",
    "    \"type\": \"FLOW_MOD\",\n",
    "    \"match\": {\n",
    "        \"ipv4_src\": \"192.168.0.0/16\",\n",
    "        \"tcp_dst\": 80\n",
    "    },\n",
    "    \"hard_timeout\": 60,\n",
    "    \"flags\": [\"SEND_FLOW_REM\"]\n",
    "\n",
    "print(\"[install] add flow with hard_timeout={flow_mod[hard_timeout]}s\")\n",
    "\n",
    "if flow_removed:\n",
    "    if flow_removed[\"reason\"] == \"HARD_TIMEOUT\":\n",
    "        print(\"=== Flow Stats on HARD_TIMEOUT ===\")\n",
    "        print(info: flow_removed[packet_count], [byte_count])\n",
    "    pkts = flow_removed[\"packet_count\"]\n",
    "    bytes_ = flow_removed[\"byte_count\"]\n",
    "    dur = flow_removed[\"duration_sec\"]\n",
    "\n",
    "    print(\"match    : IPv4, TCP, ipv4_src=192.168.0.0/16, tcp_dst=80\")\n",
    "    print(f\"duration : {dur} s\")\n",
    "    print(f\"packets  : {pkts}\")\n",
    "    print(f\"bytes    : {bytes_}\")\n"
   ]
  },
  {
   "cell_type": "markdown",
   "id": "dba0b305",
   "metadata": {},
   "source": []
  }
 ],
 "metadata": {
  "kernelspec": {
   "display_name": "datasienceict",
   "language": "python",
   "name": "python3"
  },
  "language_info": {
   "name": "python",
   "version": "3.8.20"
  }
 },
 "nbformat": 4,
 "nbformat_minor": 5
}
