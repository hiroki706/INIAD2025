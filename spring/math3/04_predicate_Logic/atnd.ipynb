{
 "cells": [
  {
   "cell_type": "code",
   "execution_count": null,
   "id": "5e7fb7df",
   "metadata": {},
   "outputs": [],
   "source": [
    "x = 5\n",
    "y = 15\n",
    "# Python IDLEを使用して以下を計算しなさい。"
   ]
  },
  {
   "cell_type": "code",
   "execution_count": 2,
   "id": "d1ef79d9",
   "metadata": {},
   "outputs": [
    {
     "data": {
      "text/plain": [
       "1"
      ]
     },
     "execution_count": 2,
     "metadata": {},
     "output_type": "execute_result"
    }
   ],
   "source": [
    "x & int(\"0b11\", 2)"
   ]
  },
  {
   "cell_type": "code",
   "execution_count": 3,
   "id": "e3623e6f",
   "metadata": {},
   "outputs": [
    {
     "data": {
      "text/plain": [
       "-11"
      ]
     },
     "execution_count": 3,
     "metadata": {},
     "output_type": "execute_result"
    }
   ],
   "source": [
    "x | ~y"
   ]
  },
  {
   "cell_type": "code",
   "execution_count": 4,
   "id": "5dc1953d",
   "metadata": {},
   "outputs": [
    {
     "data": {
      "text/plain": [
       "10"
      ]
     },
     "execution_count": 4,
     "metadata": {},
     "output_type": "execute_result"
    }
   ],
   "source": [
    "y ^ x"
   ]
  },
  {
   "cell_type": "code",
   "execution_count": null,
   "id": "33ad54e3",
   "metadata": {},
   "outputs": [],
   "source": []
  }
 ],
 "metadata": {
  "kernelspec": {
   "display_name": ".venv",
   "language": "python",
   "name": "python3"
  },
  "language_info": {
   "codemirror_mode": {
    "name": "ipython",
    "version": 3
   },
   "file_extension": ".py",
   "mimetype": "text/x-python",
   "name": "python",
   "nbconvert_exporter": "python",
   "pygments_lexer": "ipython3",
   "version": "3.13.3"
  }
 },
 "nbformat": 4,
 "nbformat_minor": 5
}
