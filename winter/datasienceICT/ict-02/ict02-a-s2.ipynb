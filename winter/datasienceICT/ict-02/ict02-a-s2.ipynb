{
 "cells": [
  {
   "cell_type": "code",
   "execution_count": 22,
   "metadata": {},
   "outputs": [],
   "source": [
    "#Cell_1.\n",
    "# %matplotlib notebook\n",
    "# グラフをインラインで表示\n",
    "%matplotlib inline\n",
    "import warnings\n",
    "warnings.simplefilter('ignore')\n",
    "\n",
    "import gc\n",
    "import math\n",
    "import pickle\n",
    "\n",
    "import mylibs.mylib1 as mylib1\n",
    "import mylibs.mylib2 as mylib2\n",
    "import mylibs.mylib3 as mylib3\n",
    "\n",
    "import matplotlib.pyplot as plt\n",
    "import numpy as np\n",
    "import pandas as pd\n",
    "from scipy.stats import norm\n",
    "\n",
    "# 表示する行・列の数を設定\n",
    "pd.options.display.max_rows = 8\n",
    "pd.options.display.max_columns = 12\n",
    "\n",
    "# matplotlib のフォントを設定\n",
    "# plt.rcParams['font.family'] = 'Times New Roman'\n",
    "# plt.rcParams['mathtext.fontset'] = 'stix'"
   ]
  },
  {
   "cell_type": "code",
   "execution_count": 23,
   "metadata": {},
   "outputs": [
    {
     "data": {
      "text/plain": [
       "({70: 89,\n",
       "  90: 99,\n",
       "  100: 109,\n",
       "  110: 119,\n",
       "  120: 129,\n",
       "  130: 139,\n",
       "  140: 149,\n",
       "  150: 159,\n",
       "  160: 169,\n",
       "  170: 179,\n",
       "  180: 199},\n",
       " {40: 49,\n",
       "  50: 59,\n",
       "  60: 69,\n",
       "  70: 79,\n",
       "  80: 89,\n",
       "  90: 99,\n",
       "  100: 109,\n",
       "  110: 119,\n",
       "  120: 129,\n",
       "  130: 139,\n",
       "  140: 159})"
      ]
     },
     "execution_count": 23,
     "metadata": {},
     "output_type": "execute_result"
    }
   ],
   "source": [
    "#Cell_2.\n",
    "df_bp = pd.read_csv('./public_stats/processed/df_bp.csv')\n",
    "\n",
    "f = open('./public_stats/processed/dict_bp_min_dist.binaryfile', 'rb')  # rb: Read Binary\n",
    "dict_bp_min_dist = pickle.load(f)\n",
    "f.close()\n",
    "\n",
    "f = open('./public_stats/processed/dict_sbp_max.binaryfile', 'rb')  # rb: Read Binary\n",
    "dict_sbp_max = pickle.load(f)\n",
    "f.close()\n",
    "\n",
    "f = open('./public_stats/processed/dict_dbp_max.binaryfile', 'rb')  # rb: Read Binary\n",
    "dict_dbp_max = pickle.load(f)\n",
    "f.close()\n",
    "dict_sbp_max, dict_dbp_max"
   ]
  },
  {
   "cell_type": "markdown",
   "metadata": {
    "colab_type": "text",
    "id": "C20o-2k0-oug"
   },
   "source": [
    "### 健診レコードの擬似生成"
   ]
  },
  {
   "cell_type": "code",
   "execution_count": 24,
   "metadata": {},
   "outputs": [
    {
     "data": {
      "text/plain": [
       "dict_keys(['20s', '30s', '40s', '50s', '60s', '70s'])"
      ]
     },
     "execution_count": 24,
     "metadata": {},
     "output_type": "execute_result"
    }
   ],
   "source": [
    "#Cell_3.\n",
    "dict_bp_min_dist['F']['dbp'].keys()"
   ]
  },
  {
   "cell_type": "code",
   "execution_count": 25,
   "metadata": {},
   "outputs": [
    {
     "data": {
      "text/plain": [
       "'50s'"
      ]
     },
     "execution_count": 25,
     "metadata": {},
     "output_type": "execute_result"
    }
   ],
   "source": [
    "#Cell_4.\n",
    "def alb_to_ageband(alb):\n",
    "    if alb <= 29:\n",
    "        return '20s'\n",
    "    elif alb >= 70:\n",
    "        return '70s'\n",
    "    else:\n",
    "        return str(int(alb // 10 * 10)) + 's'\n",
    "\n",
    "\n",
    "alb_to_ageband(55)"
   ]
  },
  {
   "cell_type": "code",
   "execution_count": 26,
   "metadata": {},
   "outputs": [
    {
     "data": {
      "text/plain": [
       "array([ 40,  50,  50,  50,  50,  50,  50,  50,  50,  50,  50,  50,  50,\n",
       "        50,  50,  60,  60,  60,  60,  60,  60,  60,  60,  60,  60,  60,\n",
       "        60,  60,  60,  60,  60,  60,  60,  60,  60,  60,  60,  60,  60,\n",
       "        60,  60,  60,  60,  60,  60,  60,  60,  60,  60,  60,  60,  60,\n",
       "        60,  60,  60,  60,  60,  60,  60,  60,  60,  60,  60,  60,  60,\n",
       "        60,  60,  60,  60,  60,  70,  70,  70,  70,  70,  70,  70,  70,\n",
       "        70,  70,  70,  70,  70,  70,  70,  70,  70,  70,  70,  70,  70,\n",
       "        70,  70,  70,  70,  70,  70,  70,  70,  70,  70,  70,  70,  70,\n",
       "        70,  70,  70,  70,  70,  70,  70,  70,  70,  70,  70,  70,  70,\n",
       "        70,  70,  70,  70,  70,  70,  70,  70,  70,  70,  70,  70,  70,\n",
       "        70,  70,  70,  80,  80,  80,  80,  80,  80,  80,  80,  80,  80,\n",
       "        80,  80,  80,  80,  80,  80,  80,  80,  80,  80,  80,  80,  80,\n",
       "        80,  80,  80,  80,  90,  90,  90,  90, 100], dtype=int16)"
      ]
     },
     "execution_count": 26,
     "metadata": {},
     "output_type": "execute_result"
    }
   ],
   "source": [
    "#Cell_5.\n",
    "np.random.choice(dict_bp_min_dist['F']['dbp']['30s'], 100, replace=True)\n",
    "dict_bp_min_dist['F']['dbp']['30s']"
   ]
  },
  {
   "cell_type": "code",
   "execution_count": 27,
   "metadata": {},
   "outputs": [
    {
     "data": {
      "text/plain": [
       "Text(0.5, 1.0, 'Distribution of DBP (Famale, 30s)')"
      ]
     },
     "execution_count": 27,
     "metadata": {},
     "output_type": "execute_result"
    },
    {
     "data": {
      "image/png": "[encoded data removed]",
      "text/plain": [
       "<Figure size 640x480 with 1 Axes>"
      ]
     },
     "metadata": {},
     "output_type": "display_data"
    }
   ],
   "source": [
    "%matplotlib inline\n",
    "#Cell_6.\n",
    "# np.random.choice による出力が元の分布に従っていることをヒストグラムにより確認\n",
    "\n",
    "import seaborn as sns\n",
    "sns.set()\n",
    "\n",
    "fig = plt.figure()\n",
    "ax = fig.add_subplot(111)\n",
    "\n",
    "# Original Distribution\n",
    "dbp_min_0 = dict_bp_min_dist['F']['dbp']['30s']\n",
    "dbp_max_0 = [dict_dbp_max[dbp_min] for dbp_min in dbp_min_0]\n",
    "sbp_0 = (dbp_min_0 + dbp_max_0 + 1) / 2  # 血圧\n",
    "length = len(np.unique(sbp_0))\n",
    "label = 'Original (N=' + str(len(sbp_0)) + ')'\n",
    "ax.hist(sbp_0, bins=length, range=(40, 120), label=label, zorder=2)\n",
    "\n",
    "# Reproducted Distribution\n",
    "dbp_min_1 = np.random.choice(\n",
    "    dict_bp_min_dist['F']['dbp']['30s'], 1000, replace=True)\n",
    "dbp_max_1 = [dict_dbp_max[dbp_min] for dbp_min in dbp_min_1]\n",
    "sbp_1 = (dbp_min_1 + dbp_max_1 + 1) / 2\n",
    "label = 'Reproducted (N=1000)'\n",
    "ax.hist(sbp_1, bins=length, range=(40, 120), label=label, zorder=1)\n",
    "ax.set_xlabel('DBP')\n",
    "ax.set_ylabel('N')\n",
    "\n",
    "ax.legend(loc='best')\n",
    "ax.set_title('Distribution of DBP (Famale, 30s)', fontsize=15)"
   ]
  }
 ],
 "metadata": {
  "colab": {
   "name": "publish-04.ipynb",
   "provenance": [],
   "toc_visible": true
  },
  "kernelspec": {
   "display_name": "datasienceict",
   "language": "python",
   "name": "python3"
  },
  "language_info": {
   "codemirror_mode": {
    "name": "ipython",
    "version": 3
   },
   "file_extension": ".py",
   "mimetype": "text/x-python",
   "name": "python",
   "nbconvert_exporter": "python",
   "pygments_lexer": "ipython3",
   "version": "3.8.20"
  }
 },
 "nbformat": 4,
 "nbformat_minor": 4
}
