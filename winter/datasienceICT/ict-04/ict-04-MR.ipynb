{
 "cells": [
  {
   "cell_type": "code",
   "execution_count": null,
   "metadata": {},
   "outputs": [],
   "source": [
    "#Cell_1.\n",
    "import numpy as np\n",
    "import pandas as pd\n",
    "import matplotlib.pyplot as plt\n",
    "import statsmodels.api as sm\n",
    "import statsmodels.formula.api as smf\n",
    "\n",
    "from sklearn.preprocessing import scale\n",
    "from sklearn.metrics import mean_squared_error\n",
    "\n",
    "\n",
    "plt.rcParams['font.family'] = 'Noto Sans' # for Japanese in graph (Win)"
   ]
  },
  {
   "cell_type": "code",
   "execution_count": null,
   "metadata": {},
   "outputs": [],
   "source": [
    "#Cell_2.\n",
    "csv_in=\"8316_2018.csv\"\n",
    "df=pd.read_csv(csv_in,skiprows=1,header=0,delimiter=',',encoding=\"shift-jis\")\n",
    "print(df.shape) #確認\n",
    "print(df.head()) #確認\n",
    "print(type(df['日付'][0]))\n",
    "df['日付']=pd.to_datetime(df['日付'])\n",
    "print(type(df['日付'][0]))"
   ]
  },
  {
   "cell_type": "code",
   "execution_count": null,
   "metadata": {},
   "outputs": [],
   "source": [
    "#Cell_3.\n",
    "df_d=df.copy()\n",
    "df_d['日付']-=df_d['日付'][0]\n",
    "print(type(df_d['日付'][0]))\n",
    "df_d['日付']/=np.timedelta64(1,'D')\n",
    "print(type(df_d['日付'][0]))\n",
    "print(df_d.head())"
   ]
  },
  {
   "cell_type": "code",
   "execution_count": null,
   "metadata": {},
   "outputs": [],
   "source": [
    "#Cell_4.\n",
    "df_d['week']=0\n",
    "print(df_d.shape)\n",
    "display(df_d.head())"
   ]
  },
  {
   "cell_type": "code",
   "execution_count": null,
   "metadata": {},
   "outputs": [],
   "source": [
    "#Cell_5.\n",
    "df_d['week'] = df_d['日付']//7 + 1"
   ]
  },
  {
   "cell_type": "code",
   "execution_count": null,
   "metadata": {},
   "outputs": [],
   "source": [
    "#Cell_6.\n",
    "display(df_d.head())\n",
    "display(df_d.tail())"
   ]
  },
  {
   "cell_type": "code",
   "execution_count": null,
   "metadata": {},
   "outputs": [],
   "source": [
    "#Cell_7.\n",
    "#Extract 2018 and onward.\n",
    "interest = pd.read_csv('d1-5-5.csv',skiprows=525,encoding='cp932')\n",
    "display(interest.head())"
   ]
  },
  {
   "cell_type": "code",
   "execution_count": null,
   "metadata": {},
   "outputs": [],
   "source": [
    "#Cell_8.\n",
    "interest=interest.iloc[:,0:4]\n",
    "interest.columns=['week','US','EUR','JP']\n",
    "display(interest.head())\n",
    "print(interest.info())\n",
    "for i in range(23):\n",
    "    interest.loc[i,'week']=i+1\n",
    "display(interest.head(23))\n"
   ]
  },
  {
   "cell_type": "code",
   "execution_count": null,
   "metadata": {},
   "outputs": [],
   "source": [
    "#Cell_9.\n",
    "interest2 = interest.iloc[0:23,:]\n",
    "display(interest2)"
   ]
  },
  {
   "cell_type": "code",
   "execution_count": null,
   "metadata": {},
   "outputs": [],
   "source": [
    "#Cell_10.\n",
    "df2= pd.merge(df_d,interest2,on='week',how='left')\n",
    "display(df2.head())\n",
    "display(df2.tail())"
   ]
  },
  {
   "cell_type": "code",
   "execution_count": null,
   "metadata": {},
   "outputs": [],
   "source": [
    "#Cell_11.\n",
    "plt.plot(df2['日付'],df2['US'])\n",
    "plt.plot(df2['日付'],df2['EUR'])\n",
    "plt.plot(df2['日付'],df2['JP'])\n",
    "plt.show()"
   ]
  },
  {
   "cell_type": "code",
   "execution_count": null,
   "metadata": {},
   "outputs": [],
   "source": [
    "#Cell_12.\n",
    "plt.plot(df2['日付'],df2['終値'])\n",
    "plt.show()"
   ]
  },
  {
   "cell_type": "code",
   "execution_count": null,
   "metadata": {},
   "outputs": [],
   "source": [
    "#Cell_13.\n",
    "X = df2[['日付','出来高','US','JP']]\n",
    "Y = df2[['終値']]"
   ]
  },
  {
   "cell_type": "code",
   "execution_count": null,
   "metadata": {},
   "outputs": [],
   "source": [
    "#Cell_14.\n",
    "X_c=sm.add_constant(X)\n",
    "model=sm.OLS(Y,X_c)"
   ]
  },
  {
   "cell_type": "code",
   "execution_count": null,
   "metadata": {},
   "outputs": [],
   "source": [
    "#Cell_15.\n",
    "results=model.fit()\n",
    "print(results.summary())"
   ]
  },
  {
   "cell_type": "code",
   "execution_count": null,
   "metadata": {},
   "outputs": [],
   "source": [
    "#Cell_16.\n",
    "X_dumm=X.copy()\n",
    "X_scaled_ar = scale(X_dumm)\n",
    "y_scaled_ar = scale(Y)"
   ]
  },
  {
   "cell_type": "code",
   "execution_count": null,
   "metadata": {},
   "outputs": [],
   "source": [
    "#Cell_17.\n",
    "model = sm.OLS(y_scaled_ar, X_scaled_ar)\n",
    "results_scaled = model.fit()\n",
    "print(results_scaled.summary())"
   ]
  },
  {
   "cell_type": "code",
   "execution_count": null,
   "metadata": {},
   "outputs": [],
   "source": [
    "#Cell_18.\n",
    "X_test = pd.DataFrame([[1,180, 9*(10**6), 2.0, 0.001],\n",
    "                       [1,365, 9*(10**6), 2.0, 0.1],\n",
    "                        ],\n",
    "                        columns=X_c.columns)  # example\n",
    "print('X for prediction:')\n",
    "display(X_test)"
   ]
  },
  {
   "cell_type": "code",
   "execution_count": null,
   "metadata": {},
   "outputs": [],
   "source": [
    "#Cell_19.\n",
    "#X_test_c = sm.add_constant(X_test)\n",
    "y_test = results.predict(X_test)\n",
    "print('Predicted y:')\n",
    "print(y_test)"
   ]
  }
 ],
 "metadata": {
  "kernelspec": {
   "display_name": "datasienceict",
   "language": "python",
   "name": "python3"
  },
  "language_info": {
   "codemirror_mode": {
    "name": "ipython",
    "version": 3
   },
   "file_extension": ".py",
   "mimetype": "text/x-python",
   "name": "python",
   "nbconvert_exporter": "python",
   "pygments_lexer": "ipython3",
   "version": "3.8.20"
  }
 },
 "nbformat": 4,
 "nbformat_minor": 4
}
