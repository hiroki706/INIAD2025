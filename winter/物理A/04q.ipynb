{
 "cells": [
  {
   "cell_type": "markdown",
   "id": "fe4fb167",
   "metadata": {},
   "source": [
    "以下の空欄に有効数字二桁の数字のみを入れよ．\n",
    "# 問題\n",
    ">月は地球の周りを地球の半径の$60$倍を$27$日周期で回っている．\n",
    "静止衛星は赤道上を$1$日周期で回っている．地球の半径を$6400[km]$と\n",
    "して，静止衛星の加速度の大きさ$a[m/s2]$を求めよ．"
   ]
  },
  {
   "cell_type": "code",
   "execution_count": null,
   "id": "a0a5e535",
   "metadata": {},
   "outputs": [
    {
     "data": {
      "text/plain": [
       "84.83625731212943"
      ]
     },
     "execution_count": 2,
     "metadata": {},
     "output_type": "execute_result"
    }
   ],
   "source": [
    "# スライド16の確認\n",
    "from math import pi\n",
    "re = 6400\n",
    "v = 7.9\n",
    "(2*pi*re)/ (v*60)"
   ]
  },
  {
   "cell_type": "markdown",
   "id": "b45af7a4",
   "metadata": {},
   "source": [
    "解き方の道筋は「月のデータ → ケプラー第3法則で静止衛星の半径 → 向心加速度」の順です。\n",
    "\n",
    "## 1) ケプラー第3法則で静止衛星の軌道半径を出す\n",
    "\n",
    "同じ地球を周回しているので\n",
    "[\n",
    "T^2 \\propto r^3\n",
    "]\n",
    "が成り立ちます。\n",
    "月：(T_{\\rm m}=27) 日，(r_{\\rm m}=60R)（(R)は地球半径）。\n",
    "静止衛星：(T_{\\rm g}=1) 日，半径 (r_{\\rm g}) を求める。\n",
    "\n",
    "[\n",
    "\\left(\\frac{T_{\\rm g}}{T_{\\rm m}}\\right)^2=\\left(\\frac{r_{\\rm g}}{r_{\\rm m}}\\right)^3\n",
    "\\Rightarrow\n",
    "r_{\\rm g}=r_{\\rm m}\\left(\\frac{T_{\\rm g}}{T_{\\rm m}}\\right)^{2/3}\n",
    "=60R\\left(\\frac{1}{27}\\right)^{2/3}\n",
    "]\n",
    "[\n",
    "27^{2/3}=9 \\ \\Rightarrow\\\n",
    "r_{\\rm g}=\\frac{60}{9}R=\\frac{20}{3}R\n",
    "]\n",
    "\n",
    "数値：(R=6400,{\\rm km})より\n",
    "[\n",
    "r_{\\rm g}=\\frac{20}{3}\\times6400\\ {\\rm km}\n",
    "=\\frac{128000}{3}\\ {\\rm km}\n",
    "\\approx 4.2667\\times10^{4}\\ {\\rm km}\n",
    "=4.2667\\times10^{7}\\ {\\rm m}.\n",
    "]\n",
    "\n",
    "## 2) 向心加速度\n",
    "\n",
    "円運動の向心加速度\n",
    "[\n",
    "a=\\frac{4\\pi^2 r}{T^2}\n",
    "]\n",
    "に (r=r_{\\rm g}), (T=1) 日 (=86400\\ {\\rm s}) を代入：\n",
    "\n",
    "[\n",
    "a=\\frac{4\\pi^2,(4.2667\\times10^{7}\\ {\\rm m})}{(86400\\ {\\rm s})^2}\n",
    "\\approx 0.226\\ {\\rm m/s^2}.\n",
    "]\n",
    "\n",
    "## 答え\n",
    "\n",
    "[\n",
    "\\boxed{a \\approx 0.226\\ {\\rm m/s^2}}\n",
    "]\n",
    "（重力加速度 (g\\approx9.8\\ {\\rm m/s^2}) の約 (2.3%)）\n"
   ]
  },
  {
   "cell_type": "code",
   "execution_count": 4,
   "id": "69d552dd",
   "metadata": {},
   "outputs": [
    {
     "data": {
      "text/plain": [
       "0.2256442960076301"
      ]
     },
     "execution_count": 4,
     "metadata": {},
     "output_type": "execute_result"
    }
   ],
   "source": [
    "(4*(pi**2) * (4.2667*10**7))/ (86400**2)"
   ]
  },
  {
   "cell_type": "code",
   "execution_count": null,
   "id": "cdd4a0c5",
   "metadata": {},
   "outputs": [],
   "source": []
  }
 ],
 "metadata": {
  "kernelspec": {
   "display_name": "datasienceict",
   "language": "python",
   "name": "python3"
  },
  "language_info": {
   "codemirror_mode": {
    "name": "ipython",
    "version": 3
   },
   "file_extension": ".py",
   "mimetype": "text/x-python",
   "name": "python",
   "nbconvert_exporter": "python",
   "pygments_lexer": "ipython3",
   "version": "3.8.20"
  }
 },
 "nbformat": 4,
 "nbformat_minor": 5
}
