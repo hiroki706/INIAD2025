{
 "cells": [
  {
   "cell_type": "code",
   "execution_count": 1,
   "id": "37feabc9",
   "metadata": {},
   "outputs": [],
   "source": [
    "# S(x)とH(x)を次のように仮定する。 Consider S(x) and H(x) as follows.\n",
    "\n",
    "# S(x): x is summer (xは夏です)\n",
    "# H(x): x is hot (xは暑いです)"
   ]
  },
  {
   "cell_type": "code",
   "execution_count": 2,
   "id": "d17c2a8b",
   "metadata": {},
   "outputs": [],
   "source": [
    "# xのドメインはすべての季節です。S(x)とH(x)を用いて、以下の文を述語論理に変換しなさい。\n",
    "\n",
    "# All summers are hot. （すべての夏は暑いです。）\n",
    "\n",
    "# すべての夏は暑いです。を述語論理に変換すると、次のようになります。\n",
    "# ∀x(S(x) → H(x))"
   ]
  },
  {
   "cell_type": "code",
   "execution_count": null,
   "id": "719b842c",
   "metadata": {},
   "outputs": [],
   "source": [
    "# ド・モルガンの法則を使って(1)の述語論理の否定を書け。\n",
    "\n",
    "# (1)の否定は次のようになります。\n",
    "# ¬∀x(S(x) → H(x))\n",
    "# これは、∃x(S(x) ∧ ¬H(x))と同値です。\n",
    "# つまり、少なくとも1つの夏が暑くないことを意味します。"
   ]
  }
 ],
 "metadata": {
  "kernelspec": {
   "display_name": ".venv",
   "language": "python",
   "name": "python3"
  },
  "language_info": {
   "codemirror_mode": {
    "name": "ipython",
    "version": 3
   },
   "file_extension": ".py",
   "mimetype": "text/x-python",
   "name": "python",
   "nbconvert_exporter": "python",
   "pygments_lexer": "ipython3",
   "version": "3.13.3"
  }
 },
 "nbformat": 4,
 "nbformat_minor": 5
}
