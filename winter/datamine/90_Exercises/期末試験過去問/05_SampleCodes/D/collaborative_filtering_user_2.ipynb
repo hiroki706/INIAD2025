{
 "cells": [
  {
   "cell_type": "markdown",
   "metadata": {},
   "source": [
    "### Sample script for user-based collaborative filtering  "
   ]
  },
  {
   "cell_type": "markdown",
   "metadata": {},
   "source": [
    "#### Import libraries"
   ]
  },
  {
   "cell_type": "code",
   "execution_count": 1,
   "metadata": {},
   "outputs": [],
   "source": [
    "import numpy as np\n",
    "import pandas as pd"
   ]
  },
  {
   "cell_type": "markdown",
   "metadata": {},
   "source": [
    "#### Parameters  "
   ]
  },
  {
   "cell_type": "code",
   "execution_count": 2,
   "metadata": {},
   "outputs": [],
   "source": [
    "csv_in = 'df.csv'\n",
    "# min number of common items between target user and users in DB\n",
    "min_common_items = 2\n",
    "# min number of users who evaluated an item to be recommended\n",
    "min_eval_users = 2\n",
    "\n",
    "# similarity  # <-------\n",
    "#similarity = 'pearson'  # <-------\n",
    "similarity = 'pearson2'  # <-------\n",
    "\n",
    "# To show more rows and columns\n",
    "pd.options.display.max_rows = 999 \n",
    "pd.options.display.max_columns = 999 "
   ]
  },
  {
   "cell_type": "markdown",
   "metadata": {},
   "source": [
    "#### Read CSV file  "
   ]
  },
  {
   "cell_type": "code",
   "execution_count": 3,
   "metadata": {},
   "outputs": [
    {
     "name": "stdout",
     "output_type": "stream",
     "text": [
      "(20, 15)\n",
      "<class 'pandas.core.frame.DataFrame'>\n",
      "Index: 20 entries, 1 to 20\n",
      "Data columns (total 15 columns):\n",
      " #   Column  Non-Null Count  Dtype\n",
      "---  ------  --------------  -----\n",
      " 0   a       20 non-null     int64\n",
      " 1   b       20 non-null     int64\n",
      " 2   c       20 non-null     int64\n",
      " 3   d       20 non-null     int64\n",
      " 4   e       20 non-null     int64\n",
      " 5   f       20 non-null     int64\n",
      " 6   g       20 non-null     int64\n",
      " 7   h       20 non-null     int64\n",
      " 8   i       20 non-null     int64\n",
      " 9   j       20 non-null     int64\n",
      " 10  k       20 non-null     int64\n",
      " 11  l       20 non-null     int64\n",
      " 12  m       20 non-null     int64\n",
      " 13  n       20 non-null     int64\n",
      " 14  o       20 non-null     int64\n",
      "dtypes: int64(15)\n",
      "memory usage: 2.5 KB\n"
     ]
    },
    {
     "data": {
      "text/plain": [
       "None"
      ]
     },
     "metadata": {},
     "output_type": "display_data"
    },
    {
     "data": {
      "text/html": [
       "<div>\n",
       "<style scoped>\n",
       "    .dataframe tbody tr th:only-of-type {\n",
       "        vertical-align: middle;\n",
       "    }\n",
       "\n",
       "    .dataframe tbody tr th {\n",
       "        vertical-align: top;\n",
       "    }\n",
       "\n",
       "    .dataframe thead th {\n",
       "        text-align: right;\n",
       "    }\n",
       "</style>\n",
       "<table border=\"1\" class=\"dataframe\">\n",
       "  <thead>\n",
       "    <tr style=\"text-align: right;\">\n",
       "      <th></th>\n",
       "      <th>a</th>\n",
       "      <th>b</th>\n",
       "      <th>c</th>\n",
       "      <th>d</th>\n",
       "      <th>e</th>\n",
       "      <th>f</th>\n",
       "      <th>g</th>\n",
       "      <th>h</th>\n",
       "      <th>i</th>\n",
       "      <th>j</th>\n",
       "      <th>k</th>\n",
       "      <th>l</th>\n",
       "      <th>m</th>\n",
       "      <th>n</th>\n",
       "      <th>o</th>\n",
       "    </tr>\n",
       "  </thead>\n",
       "  <tbody>\n",
       "    <tr>\n",
       "      <th>1</th>\n",
       "      <td>0</td>\n",
       "      <td>3</td>\n",
       "      <td>3</td>\n",
       "      <td>0</td>\n",
       "      <td>1</td>\n",
       "      <td>4</td>\n",
       "      <td>4</td>\n",
       "      <td>0</td>\n",
       "      <td>1</td>\n",
       "      <td>0</td>\n",
       "      <td>4</td>\n",
       "      <td>0</td>\n",
       "      <td>5</td>\n",
       "      <td>1</td>\n",
       "      <td>1</td>\n",
       "    </tr>\n",
       "    <tr>\n",
       "      <th>2</th>\n",
       "      <td>0</td>\n",
       "      <td>0</td>\n",
       "      <td>0</td>\n",
       "      <td>0</td>\n",
       "      <td>0</td>\n",
       "      <td>2</td>\n",
       "      <td>0</td>\n",
       "      <td>0</td>\n",
       "      <td>0</td>\n",
       "      <td>0</td>\n",
       "      <td>5</td>\n",
       "      <td>0</td>\n",
       "      <td>0</td>\n",
       "      <td>0</td>\n",
       "      <td>0</td>\n",
       "    </tr>\n",
       "    <tr>\n",
       "      <th>3</th>\n",
       "      <td>3</td>\n",
       "      <td>0</td>\n",
       "      <td>0</td>\n",
       "      <td>0</td>\n",
       "      <td>0</td>\n",
       "      <td>0</td>\n",
       "      <td>0</td>\n",
       "      <td>0</td>\n",
       "      <td>0</td>\n",
       "      <td>1</td>\n",
       "      <td>0</td>\n",
       "      <td>0</td>\n",
       "      <td>0</td>\n",
       "      <td>0</td>\n",
       "      <td>0</td>\n",
       "    </tr>\n",
       "    <tr>\n",
       "      <th>4</th>\n",
       "      <td>0</td>\n",
       "      <td>0</td>\n",
       "      <td>0</td>\n",
       "      <td>0</td>\n",
       "      <td>0</td>\n",
       "      <td>2</td>\n",
       "      <td>0</td>\n",
       "      <td>0</td>\n",
       "      <td>5</td>\n",
       "      <td>0</td>\n",
       "      <td>0</td>\n",
       "      <td>0</td>\n",
       "      <td>0</td>\n",
       "      <td>2</td>\n",
       "      <td>0</td>\n",
       "    </tr>\n",
       "    <tr>\n",
       "      <th>5</th>\n",
       "      <td>0</td>\n",
       "      <td>1</td>\n",
       "      <td>0</td>\n",
       "      <td>0</td>\n",
       "      <td>0</td>\n",
       "      <td>0</td>\n",
       "      <td>0</td>\n",
       "      <td>1</td>\n",
       "      <td>0</td>\n",
       "      <td>0</td>\n",
       "      <td>0</td>\n",
       "      <td>0</td>\n",
       "      <td>0</td>\n",
       "      <td>2</td>\n",
       "      <td>5</td>\n",
       "    </tr>\n",
       "  </tbody>\n",
       "</table>\n",
       "</div>"
      ],
      "text/plain": [
       "   a  b  c  d  e  f  g  h  i  j  k  l  m  n  o\n",
       "1  0  3  3  0  1  4  4  0  1  0  4  0  5  1  1\n",
       "2  0  0  0  0  0  2  0  0  0  0  5  0  0  0  0\n",
       "3  3  0  0  0  0  0  0  0  0  1  0  0  0  0  0\n",
       "4  0  0  0  0  0  2  0  0  5  0  0  0  0  2  0\n",
       "5  0  1  0  0  0  0  0  1  0  0  0  0  0  2  5"
      ]
     },
     "metadata": {},
     "output_type": "display_data"
    }
   ],
   "source": [
    "df = pd.read_csv(csv_in, sep=' ', skiprows=0, header=0)\n",
    "print(df.shape)\n",
    "display(df.info())\n",
    "display(df.head())"
   ]
  },
  {
   "cell_type": "markdown",
   "metadata": {},
   "source": [
    "#### Replace -1 into NaN (for not to be used during calculation)  "
   ]
  },
  {
   "cell_type": "code",
   "execution_count": 4,
   "metadata": {},
   "outputs": [
    {
     "data": {
      "text/html": [
       "<div>\n",
       "<style scoped>\n",
       "    .dataframe tbody tr th:only-of-type {\n",
       "        vertical-align: middle;\n",
       "    }\n",
       "\n",
       "    .dataframe tbody tr th {\n",
       "        vertical-align: top;\n",
       "    }\n",
       "\n",
       "    .dataframe thead th {\n",
       "        text-align: right;\n",
       "    }\n",
       "</style>\n",
       "<table border=\"1\" class=\"dataframe\">\n",
       "  <thead>\n",
       "    <tr style=\"text-align: right;\">\n",
       "      <th></th>\n",
       "      <th>a</th>\n",
       "      <th>b</th>\n",
       "      <th>c</th>\n",
       "      <th>d</th>\n",
       "      <th>e</th>\n",
       "      <th>f</th>\n",
       "      <th>g</th>\n",
       "      <th>h</th>\n",
       "      <th>i</th>\n",
       "      <th>j</th>\n",
       "      <th>k</th>\n",
       "      <th>l</th>\n",
       "      <th>m</th>\n",
       "      <th>n</th>\n",
       "      <th>o</th>\n",
       "    </tr>\n",
       "  </thead>\n",
       "  <tbody>\n",
       "    <tr>\n",
       "      <th>1</th>\n",
       "      <td>NaN</td>\n",
       "      <td>3.0</td>\n",
       "      <td>3.0</td>\n",
       "      <td>NaN</td>\n",
       "      <td>1.0</td>\n",
       "      <td>4.0</td>\n",
       "      <td>4.0</td>\n",
       "      <td>NaN</td>\n",
       "      <td>1.0</td>\n",
       "      <td>NaN</td>\n",
       "      <td>4.0</td>\n",
       "      <td>NaN</td>\n",
       "      <td>5.0</td>\n",
       "      <td>1.0</td>\n",
       "      <td>1.0</td>\n",
       "    </tr>\n",
       "    <tr>\n",
       "      <th>2</th>\n",
       "      <td>NaN</td>\n",
       "      <td>NaN</td>\n",
       "      <td>NaN</td>\n",
       "      <td>NaN</td>\n",
       "      <td>NaN</td>\n",
       "      <td>2.0</td>\n",
       "      <td>NaN</td>\n",
       "      <td>NaN</td>\n",
       "      <td>NaN</td>\n",
       "      <td>NaN</td>\n",
       "      <td>5.0</td>\n",
       "      <td>NaN</td>\n",
       "      <td>NaN</td>\n",
       "      <td>NaN</td>\n",
       "      <td>NaN</td>\n",
       "    </tr>\n",
       "    <tr>\n",
       "      <th>3</th>\n",
       "      <td>3.0</td>\n",
       "      <td>NaN</td>\n",
       "      <td>NaN</td>\n",
       "      <td>NaN</td>\n",
       "      <td>NaN</td>\n",
       "      <td>NaN</td>\n",
       "      <td>NaN</td>\n",
       "      <td>NaN</td>\n",
       "      <td>NaN</td>\n",
       "      <td>1.0</td>\n",
       "      <td>NaN</td>\n",
       "      <td>NaN</td>\n",
       "      <td>NaN</td>\n",
       "      <td>NaN</td>\n",
       "      <td>NaN</td>\n",
       "    </tr>\n",
       "    <tr>\n",
       "      <th>4</th>\n",
       "      <td>NaN</td>\n",
       "      <td>NaN</td>\n",
       "      <td>NaN</td>\n",
       "      <td>NaN</td>\n",
       "      <td>NaN</td>\n",
       "      <td>2.0</td>\n",
       "      <td>NaN</td>\n",
       "      <td>NaN</td>\n",
       "      <td>5.0</td>\n",
       "      <td>NaN</td>\n",
       "      <td>NaN</td>\n",
       "      <td>NaN</td>\n",
       "      <td>NaN</td>\n",
       "      <td>2.0</td>\n",
       "      <td>NaN</td>\n",
       "    </tr>\n",
       "    <tr>\n",
       "      <th>5</th>\n",
       "      <td>NaN</td>\n",
       "      <td>1.0</td>\n",
       "      <td>NaN</td>\n",
       "      <td>NaN</td>\n",
       "      <td>NaN</td>\n",
       "      <td>NaN</td>\n",
       "      <td>NaN</td>\n",
       "      <td>1.0</td>\n",
       "      <td>NaN</td>\n",
       "      <td>NaN</td>\n",
       "      <td>NaN</td>\n",
       "      <td>NaN</td>\n",
       "      <td>NaN</td>\n",
       "      <td>2.0</td>\n",
       "      <td>5.0</td>\n",
       "    </tr>\n",
       "  </tbody>\n",
       "</table>\n",
       "</div>"
      ],
      "text/plain": [
       "     a    b    c   d    e    f    g    h    i    j    k   l    m    n    o\n",
       "1  NaN  3.0  3.0 NaN  1.0  4.0  4.0  NaN  1.0  NaN  4.0 NaN  5.0  1.0  1.0\n",
       "2  NaN  NaN  NaN NaN  NaN  2.0  NaN  NaN  NaN  NaN  5.0 NaN  NaN  NaN  NaN\n",
       "3  3.0  NaN  NaN NaN  NaN  NaN  NaN  NaN  NaN  1.0  NaN NaN  NaN  NaN  NaN\n",
       "4  NaN  NaN  NaN NaN  NaN  2.0  NaN  NaN  5.0  NaN  NaN NaN  NaN  2.0  NaN\n",
       "5  NaN  1.0  NaN NaN  NaN  NaN  NaN  1.0  NaN  NaN  NaN NaN  NaN  2.0  5.0"
      ]
     },
     "metadata": {},
     "output_type": "display_data"
    }
   ],
   "source": [
    "df = df.replace(0, np.nan)\n",
    "display(df.head())"
   ]
  },
  {
   "cell_type": "markdown",
   "metadata": {},
   "source": [
    "#### Return Series of similiarity of users  \n",
    "by using Pearson correlation coefficient (-1 .. 1).  "
   ]
  },
  {
   "cell_type": "code",
   "execution_count": 5,
   "metadata": {},
   "outputs": [],
   "source": [
    "def get_sim_ser_by_pearson(df_users, ser_target):\n",
    "    corr_all = df_users.corrwith(ser_target, axis=1).dropna()\n",
    "    return corr_all"
   ]
  },
  {
   "cell_type": "code",
   "execution_count": 6,
   "metadata": {},
   "outputs": [],
   "source": [
    "def get_sim_ser_by_pearson2(df_users, ser_target):  # <------\n",
    "    corr_all = df_users.corrwith(ser_target, axis=1).dropna()  # <------\n",
    "    corr_all = (corr_all+1)/2  # <------\n",
    "    return corr_all  # <------"
   ]
  },
  {
   "cell_type": "code",
   "execution_count": 7,
   "metadata": {},
   "outputs": [],
   "source": [
    "def predict_scores(df_sim, ser_sim, ser_target):\n",
    "    ret = {}\n",
    "    df_sim_ave = df_sim.mean(axis=1)\n",
    "    #print(df_sim.head())  # debug\n",
    "    target_ave = ser_target.mean()\n",
    "    #print(target_ave)  # debug\n",
    "    for item1 in df_sim.columns:\n",
    "        if item1 in ser_target.index: continue\n",
    "        v1 = df_sim[item1]\n",
    "        if v1.notnull().sum() < min_eval_users: continue\n",
    "        v1 -= df_sim_ave\n",
    "        v11 = v1[ v1.notnull() ]\n",
    "        t11 = ser_sim[ v1.notnull() ]\n",
    "        pred1 = target_ave + (v11 * t11).sum() / np.abs(t11).sum()\n",
    "        ret[item1] = pred1\n",
    "    \n",
    "    ser_ret = pd.Series(ret)\n",
    "    \n",
    "    return ser_ret.sort_values(ascending=False)"
   ]
  },
  {
   "cell_type": "code",
   "execution_count": 8,
   "metadata": {},
   "outputs": [],
   "source": [
    "def get_recomm_by_user_sim(df, target_dic):\n",
    "    ser_target = pd.Series(target_dic)\n",
    "    # make dataframe with columns included in target_dic\n",
    "    df_scores = df[ ser_target.index ]\n",
    "    #display(df_scores)  # debug\n",
    "    n_same_items = df_scores.notnull().sum(axis=1)\n",
    "    #display(df_scores.notnull())  # debug\n",
    "    df_common = df_scores[ n_same_items>=min_common_items ]\n",
    "    #display(df_common)  # debug\n",
    "\n",
    "    if similarity == 'pearson':  # <------\n",
    "        ser_sim = get_sim_ser_by_pearson(df_common, ser_target)  # <------    \n",
    "    elif similarity == 'pearson2':  # <------\n",
    "        ser_sim = get_sim_ser_by_pearson2(df_common, ser_target)  # <------  \n",
    "\n",
    "    #print(ser_sim)  # debug\n",
    "    df_sim = df.loc[ ser_sim.index ]\n",
    "    #display(df_sim)  # debug\n",
    "    recomm = predict_scores(df_sim, ser_sim, ser_target)\n",
    "\n",
    "    return recomm"
   ]
  },
  {
   "cell_type": "markdown",
   "metadata": {},
   "source": [
    "#### Do recommendation  "
   ]
  },
  {
   "cell_type": "code",
   "execution_count": 9,
   "metadata": {},
   "outputs": [
    {
     "name": "stdout",
     "output_type": "stream",
     "text": [
      "Number of items calculated: 6\n",
      "Recommendation:\n",
      "m    4.140462\n",
      "k    3.096296\n",
      "b    2.349509\n",
      "i    0.976651\n",
      "e    0.960000\n",
      "dtype: float64\n"
     ]
    },
    {
     "name": "stderr",
     "output_type": "stream",
     "text": [
      "C:\\Users\\honda\\anaconda3\\envs\\ds2024\\lib\\site-packages\\numpy\\lib\\function_base.py:2897: RuntimeWarning: invalid value encountered in divide\n",
      "  c /= stddev[:, None]\n",
      "C:\\Users\\honda\\anaconda3\\envs\\ds2024\\lib\\site-packages\\numpy\\lib\\function_base.py:2898: RuntimeWarning: invalid value encountered in divide\n",
      "  c /= stddev[None, :]\n"
     ]
    }
   ],
   "source": [
    "recomm = get_recomm_by_user_sim(df,\n",
    "                                {'a':1, 'c':1, 'd':3,\n",
    "                                 'f':4, 'g':4})\n",
    "print('Number of items calculated:', len(recomm))\n",
    "print('Recommendation:')\n",
    "print(recomm.head())\n"
   ]
  }
 ],
 "metadata": {
  "kernelspec": {
   "display_name": "Python 3 (ipykernel)",
   "language": "python",
   "name": "python3"
  },
  "language_info": {
   "codemirror_mode": {
    "name": "ipython",
    "version": 3
   },
   "file_extension": ".py",
   "mimetype": "text/x-python",
   "name": "python",
   "nbconvert_exporter": "python",
   "pygments_lexer": "ipython3",
   "version": "3.9.15"
  }
 },
 "nbformat": 4,
 "nbformat_minor": 4
}
