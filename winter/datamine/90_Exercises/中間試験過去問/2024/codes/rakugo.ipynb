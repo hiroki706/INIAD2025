{
 "cells": [
  {
   "cell_type": "code",
   "execution_count": 13,
   "metadata": {},
   "outputs": [],
   "source": [
    "import os, glob\n",
    "import pandas as pd\n",
    "from janome.tokenizer import Tokenizer\n",
    "from janome.analyzer import Analyzer\n",
    "from janome.tokenfilter import POSStopFilter, LowerCaseFilter"
   ]
  },
  {
   "cell_type": "code",
   "execution_count": 14,
   "metadata": {},
   "outputs": [],
   "source": [
    "wakati = True\n",
    "target_dir = 'scripts'\n",
    "csv_out = 'scripts.csv'"
   ]
  },
  {
   "cell_type": "code",
   "execution_count": 15,
   "metadata": {},
   "outputs": [],
   "source": [
    "token_filters = [ POSStopFilter(['助詞','助動詞']),\n",
    "                  LowerCaseFilter(),\n",
    "                ]\n",
    "tokenizer = Tokenizer()\n",
    "analyzer = Analyzer(tokenizer=tokenizer, token_filters=token_filters)"
   ]
  },
  {
   "cell_type": "code",
   "execution_count": 16,
   "metadata": {},
   "outputs": [
    {
     "name": "stdout",
     "output_type": "stream",
     "text": [
      "5 files read for manzai\n",
      "8 files read for rakugo\n"
     ]
    }
   ],
   "source": [
    "file_pat = '*.txt'\n",
    "dir_pat = os.path.join(target_dir, '*')\n",
    "\n",
    "text = []\n",
    "for d in glob.glob(dir_pat):  # for-loop of directories in target_dir\n",
    "    if not os.path.isdir(d): continue  # skip if d is not a directory\n",
    "    category = os.path.basename(d)  # use directory name as the category name\n",
    "    full_pat = os.path.join(d, file_pat)  # generate full path name for text files\n",
    "    n_files = 0  # counter for number of files\n",
    "    for file in glob.glob(full_pat):  # for-loop of text files\n",
    "        n_files += 1\n",
    "        with open(file, 'r', encoding='utf-8') as f:\n",
    "            lines = f.read().splitlines()  # if you want to omit newline character\n",
    "            body = ' '.join(lines[2:])  # 1st line: URL, 2nd line: Date, so skip these lines\n",
    "            if wakati:  # add space between words (wakati-gaki)\n",
    "                body = ' '.join([t.base_form for t in analyzer.analyze(body)])\n",
    "            text.append([category, body])\n",
    "    print(n_files, 'files read for', category)"
   ]
  },
  {
   "cell_type": "code",
   "execution_count": 17,
   "metadata": {},
   "outputs": [
    {
     "name": "stdout",
     "output_type": "stream",
     "text": [
      "(13, 2)\n",
      "<class 'pandas.core.frame.DataFrame'>\n",
      "RangeIndex: 13 entries, 0 to 12\n",
      "Data columns (total 2 columns):\n",
      " #   Column    Non-Null Count  Dtype \n",
      "---  ------    --------------  ----- \n",
      " 0   category  13 non-null     object\n",
      " 1   text      13 non-null     object\n",
      "dtypes: object(2)\n",
      "memory usage: 336.0+ bytes\n",
      "None\n"
     ]
    },
    {
     "data": {
      "text/html": [
       "<div>\n",
       "<style scoped>\n",
       "    .dataframe tbody tr th:only-of-type {\n",
       "        vertical-align: middle;\n",
       "    }\n",
       "\n",
       "    .dataframe tbody tr th {\n",
       "        vertical-align: top;\n",
       "    }\n",
       "\n",
       "    .dataframe thead th {\n",
       "        text-align: right;\n",
       "    }\n",
       "</style>\n",
       "<table border=\"1\" class=\"dataframe\">\n",
       "  <thead>\n",
       "    <tr style=\"text-align: right;\">\n",
       "      <th></th>\n",
       "      <th>category</th>\n",
       "      <th>text</th>\n",
       "    </tr>\n",
       "  </thead>\n",
       "  <tbody>\n",
       "    <tr>\n",
       "      <th>0</th>\n",
       "      <td>manzai</td>\n",
       "      <td>こ ける   お願い しま ー する   ありがとう ー   えー 先日 僕 たち 、 寝る...</td>\n",
       "    </tr>\n",
       "    <tr>\n",
       "      <th>1</th>\n",
       "      <td>manzai</td>\n",
       "      <td>えー 、 伊藤 畠中 いう 。 是非 、 個人 名 方 覚える 帰る くださる 。   あの...</td>\n",
       "    </tr>\n",
       "    <tr>\n",
       "      <th>2</th>\n",
       "      <td>manzai</td>\n",
       "      <td>畠中 : あのー   　 　 こないだ 本当 参る ちゃう ん   伊藤 : うん   畠中...</td>\n",
       "    </tr>\n",
       "    <tr>\n",
       "      <th>3</th>\n",
       "      <td>manzai</td>\n",
       "      <td>きゃあ ああ 、 嫌 喉 きゃあ お前   よろしく お願い する   よろしく おねがい ...</td>\n",
       "    </tr>\n",
       "    <tr>\n",
       "      <th>4</th>\n",
       "      <td>manzai</td>\n",
       "      <td>ありがとう 〜 ！   駒場 ：( 客席 何 受け取る 振り )   内海 ： あぁ 〜 あ...</td>\n",
       "    </tr>\n",
       "  </tbody>\n",
       "</table>\n",
       "</div>"
      ],
      "text/plain": [
       "  category                                               text\n",
       "0   manzai  こ ける   お願い しま ー する   ありがとう ー   えー 先日 僕 たち 、 寝る...\n",
       "1   manzai  えー 、 伊藤 畠中 いう 。 是非 、 個人 名 方 覚える 帰る くださる 。   あの...\n",
       "2   manzai  畠中 : あのー   　 　 こないだ 本当 参る ちゃう ん   伊藤 : うん   畠中...\n",
       "3   manzai  きゃあ ああ 、 嫌 喉 きゃあ お前   よろしく お願い する   よろしく おねがい ...\n",
       "4   manzai  ありがとう 〜 ！   駒場 ：( 客席 何 受け取る 振り )   内海 ： あぁ 〜 あ..."
      ]
     },
     "metadata": {},
     "output_type": "display_data"
    },
    {
     "data": {
      "text/html": [
       "<div>\n",
       "<style scoped>\n",
       "    .dataframe tbody tr th:only-of-type {\n",
       "        vertical-align: middle;\n",
       "    }\n",
       "\n",
       "    .dataframe tbody tr th {\n",
       "        vertical-align: top;\n",
       "    }\n",
       "\n",
       "    .dataframe thead th {\n",
       "        text-align: right;\n",
       "    }\n",
       "</style>\n",
       "<table border=\"1\" class=\"dataframe\">\n",
       "  <thead>\n",
       "    <tr style=\"text-align: right;\">\n",
       "      <th></th>\n",
       "      <th>category</th>\n",
       "      <th>text</th>\n",
       "    </tr>\n",
       "  </thead>\n",
       "  <tbody>\n",
       "    <tr>\n",
       "      <th>8</th>\n",
       "      <td>rakugo</td>\n",
       "      <td>八 五 郎 \\t いる 、 じゃ 、 おじゃま する 。 、 ただ 酒 ？   ご 隠居 \\...</td>\n",
       "    </tr>\n",
       "    <tr>\n",
       "      <th>9</th>\n",
       "      <td>rakugo</td>\n",
       "      <td>番頭 \\t 悪い ん 、 ちょい 手紙 、 届ける くる 欲しい ん   定吉 \\t 手紙 ...</td>\n",
       "    </tr>\n",
       "    <tr>\n",
       "      <th>10</th>\n",
       "      <td>rakugo</td>\n",
       "      <td>● むく 来る 人 ． ． ． 誰 、 この 頃 会う こと ある 、 想う 出せる ． ．...</td>\n",
       "    </tr>\n",
       "    <tr>\n",
       "      <th>11</th>\n",
       "      <td>rakugo</td>\n",
       "      <td>ご 隠居 \\t おーい 、 定 、 定吉   定吉 \\t ーーーー ぃ 、 ご 隠居 さん ...</td>\n",
       "    </tr>\n",
       "    <tr>\n",
       "      <th>12</th>\n",
       "      <td>rakugo</td>\n",
       "      <td>好き嫌い もの どなた ある もの 、 あれ 好き 、 これ 嫌い の これ また 一人ひと...</td>\n",
       "    </tr>\n",
       "  </tbody>\n",
       "</table>\n",
       "</div>"
      ],
      "text/plain": [
       "   category                                               text\n",
       "8    rakugo  八 五 郎 \\t いる 、 じゃ 、 おじゃま する 。 、 ただ 酒 ？   ご 隠居 \\...\n",
       "9    rakugo  番頭 \\t 悪い ん 、 ちょい 手紙 、 届ける くる 欲しい ん   定吉 \\t 手紙 ...\n",
       "10   rakugo  ● むく 来る 人 ． ． ． 誰 、 この 頃 会う こと ある 、 想う 出せる ． ．...\n",
       "11   rakugo  ご 隠居 \\t おーい 、 定 、 定吉   定吉 \\t ーーーー ぃ 、 ご 隠居 さん ...\n",
       "12   rakugo  好き嫌い もの どなた ある もの 、 あれ 好き 、 これ 嫌い の これ また 一人ひと..."
      ]
     },
     "metadata": {},
     "output_type": "display_data"
    }
   ],
   "source": [
    "df = pd.DataFrame(text, columns=['category', 'text'])\n",
    "print(df.shape)\n",
    "print(df.info())\n",
    "display(df.head())\n",
    "display(df.tail())"
   ]
  },
  {
   "cell_type": "code",
   "execution_count": 18,
   "metadata": {},
   "outputs": [],
   "source": [
    "df.to_csv(csv_out, index=False)"
   ]
  }
 ],
 "metadata": {
  "kernelspec": {
   "display_name": "Python 3 (ipykernel)",
   "language": "python",
   "name": "python3"
  },
  "language_info": {
   "codemirror_mode": {
    "name": "ipython",
    "version": 3
   },
   "file_extension": ".py",
   "mimetype": "text/x-python",
   "name": "python",
   "nbconvert_exporter": "python",
   "pygments_lexer": "ipython3",
   "version": "3.9.15"
  }
 },
 "nbformat": 4,
 "nbformat_minor": 4
}
