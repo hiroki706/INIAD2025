{
 "cells": [
  {
   "cell_type": "code",
   "execution_count": null,
   "id": "ba192f8f",
   "metadata": {},
   "outputs": [],
   "source": [
    "# 練習問題1\n",
    "# P(陽性) = P(陽性|罹患) x P(罹患) + P(陽性|非罹患) x P(非罹患)\n",
    "in1 = 0.95 * 0.001 + (1 - 0.90) * (1 - 0.001)\n",
    "# 事後確率 P(罹患|陽性) = P(陽性|罹患) x P(罹患) / P(陽性)\n",
    "in2 = 0.95 * 0.001 / in1\n",
    "in2*100, \"%\""
   ]
  },
  {
   "cell_type": "code",
   "execution_count": null,
   "id": "f44b0955",
   "metadata": {},
   "outputs": [],
   "source": [
    "# ある感染症の罹患率は 200人に1人であることが知られている。この感染症の検査は、罹患している人の70%を正しく「陽性」と判定。また罹患していない人の99%を正しく「陰性」と判定できる。検査結果が陽性だったときに、実際に罹患している確率を、ベイズ推定の考え方を用いて求めよ\n",
    "in1 = (70/100) * (1/200) + (1/100) * (199/200)\n",
    "in2 = 0.7 * (1/200) / in1\n",
    "in2*100"
   ]
  },
  {
   "cell_type": "code",
   "execution_count": null,
   "id": "f24274d0",
   "metadata": {},
   "outputs": [],
   "source": [
    "# 同様に、検査結果が陰性のとき、実際に罹患していない確率を求めよ。\n",
    "in1 = (0.99) * (199/200) + (0.3) * (1/200)\n",
    "in2 = (0.99) * (199/200) / in1\n",
    "in2 * 100"
   ]
  },
  {
   "cell_type": "code",
   "execution_count": null,
   "id": "2453f657",
   "metadata": {},
   "outputs": [],
   "source": [
    "# 検査対象を絞り、検査人数中のおよその罹患率を10人に1人にした。この場合、検査結果が陽性だったときに、実際に罹患している確率、および、検査結果が陰性だったときに、実際に罹患していない確率を、ベイズ推定の考え方を用いて求めよ。\n",
    "in1 = (70/100) * (1/10) + (1/100) * (9/10)\n",
    "in2 = 0.7 * (1/10) / in1\n",
    "print(\"実際に陽性の確率\", in2*100)\n",
    "in1 = (0.99) * (9/10) + (0.3) * (1/10)\n",
    "in2 = (0.99) * (9/10) / in1\n",
    "print(\"していない確率\", in2 * 100)"
   ]
  },
  {
   "cell_type": "code",
   "execution_count": null,
   "id": "98cc59f5",
   "metadata": {},
   "outputs": [],
   "source": [
    "# 1回目の検査が陰性だったとき、もう一度同じ検査を受けた。再検査結果も陰性だったときに、実際に罹患していない確率を、ベイズ推定の考え方を用いて求めよ。\n",
    "# ヒント:\n",
    "    # 3. の事後確率の1つを使って、4. の事前確率 (罹患率) を求める。\n",
    "\n",
    "# 事前確率 P(罹患) = $in2\n",
    "in1 = (0.99) * in2 + (0.3) * (1 - in2)\n",
    "in2 = (0.99) * in2 / in1\n",
    "in2*100"
   ]
  },
  {
   "cell_type": "code",
   "execution_count": null,
   "id": "0b73b86d",
   "metadata": {},
   "outputs": [],
   "source": [
    "# 果物に関する文書を分類予測する。以下の、赤、橙、甘味、酸味、皮、種 の6語を解析対象とする。すでに分類されている文章における単語の出現は以下の通りであった。\n",
    "    # りんご: 赤  甘味  皮  種\n",
    "    # いちご: 赤  甘味  甘味  酸味\n",
    "    # みかん: 橙  皮  酸味  甘味\n",
    "# 「赤  甘味  酸味」を含む文書を、単純ベイズ分類器の考え方により分類予測し、各クラスの事後確率、分類予測結果を報告せよ。なお、事前確率は1/3ずつとし、alpha = 1 の Laplace smoothing を用いること。  確率の計算に対数を用いる必要はなく、事後確率は約分しない分数のままでよい。"
   ]
  },
  {
   "cell_type": "code",
   "execution_count": null,
   "id": "7324d7c5",
   "metadata": {},
   "outputs": [],
   "source": [
    "\n",
    "from fractions import Fraction\n",
    "\n",
    "V = [\"赤\",\"橙\",\"甘味\",\"酸味\",\"皮\",\"種\"]\n",
    "alpha = 1\n",
    "N_per_class = 4\n",
    "den_per_word = N_per_class + alpha*len(V)\n",
    "prior_num, prior_den = 1, 3\n",
    "\n",
    "\n",
    "counts = {\n",
    "    \"りんご\": {\"赤\":1, \"橙\":0, \"甘味\":1, \"酸味\":0, \"皮\":1, \"種\":1},\n",
    "    \"いちご\": {\"赤\":1, \"橙\":0, \"甘味\":2, \"酸味\":1, \"皮\":0, \"種\":0},\n",
    "    \"みかん\": {\"赤\":0, \"橙\":1, \"甘味\":1, \"酸味\":1, \"皮\":1, \"種\":0},\n",
    "}\n",
    "\n",
    "doc = [\"赤\",\"甘味\",\"酸味\"]\n",
    "\n",
    "\n",
    "smoothed = {}\n",
    "unnormalized_joint_numerators:dict[str, int] = {}\n",
    "for c, cnt in counts.items():\n",
    "\n",
    "    smoothed[c] = {w: Fraction(cnt[w]+alpha, den_per_word) for w in doc}\n",
    "\n",
    "    prod_num = 1\n",
    "    for w in doc:\n",
    "        prod_num *= (cnt[w] + alpha)\n",
    "    unnormalized_joint_numerators[c] = prod_num\n",
    "\n",
    "\n",
    "sum_nums = sum(unnormalized_joint_numerators.values())\n",
    "\n",
    "\n",
    "posteriors_fraction = {c: f\"{num}/{sum_nums}\" for c, num in unnormalized_joint_numerators.items()}\n",
    "\n",
    "\n",
    "predicted = max(unnormalized_joint_numerators, key=unnormalized_joint_numerators.__getitem__)\n",
    "\n",
    "smoothed, unnormalized_joint_numerators, sum_nums, posteriors_fraction, predicted\n"
   ]
  },
  {
   "cell_type": "code",
   "execution_count": null,
   "id": "ed7ef711",
   "metadata": {},
   "outputs": [],
   "source": []
  }
 ],
 "metadata": {
  "kernelspec": {
   "display_name": "datasienceict",
   "language": "python",
   "name": "python3"
  },
  "language_info": {
   "codemirror_mode": {
    "name": "ipython",
    "version": 3
   },
   "file_extension": ".py",
   "mimetype": "text/x-python",
   "name": "python",
   "nbconvert_exporter": "python",
   "pygments_lexer": "ipython3",
   "version": "3.8.20"
  }
 },
 "nbformat": 4,
 "nbformat_minor": 5
}
